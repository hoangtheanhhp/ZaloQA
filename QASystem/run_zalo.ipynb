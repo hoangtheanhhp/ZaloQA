{
  "nbformat": 4,
  "nbformat_minor": 0,
  "metadata": {
    "kernelspec": {
      "display_name": "Python 3",
      "language": "python",
      "name": "python3"
    },
    "language_info": {
      "codemirror_mode": {
        "name": "ipython",
        "version": 2
      },
      "file_extension": ".py",
      "mimetype": "text/x-python",
      "name": "python",
      "nbconvert_exporter": "python",
      "pygments_lexer": "ipython2",
      "version": "2.7.6"
    },
    "colab": {
      "name": "run_zalo.ipynb",
      "provenance": [],
      "include_colab_link": true
    },
    "accelerator": "GPU"
  },
  "cells": [
    {
      "cell_type": "markdown",
      "metadata": {
        "id": "view-in-github",
        "colab_type": "text"
      },
      "source": [
        "<a href=\"https://colab.research.google.com/github/hoangtheanhhp/ZaloQA/blob/bert_lstm/QASystem/run_zalo.ipynb\" target=\"_parent\"><img src=\"https://colab.research.google.com/assets/colab-badge.svg\" alt=\"Open In Colab\"/></a>"
      ]
    },
    {
      "cell_type": "code",
      "metadata": {
        "id": "3dh0YnmCRfuH",
        "colab_type": "code",
        "outputId": "7e47a228-8a78-4148-82a4-d1e834337e14",
        "colab": {
          "base_uri": "https://localhost:8080/",
          "height": 122
        }
      },
      "source": [
        "\n",
        "from google.colab import drive\n",
        "drive.mount('/content/drive')"
      ],
      "execution_count": 1,
      "outputs": [
        {
          "output_type": "stream",
          "text": [
            "Go to this URL in a browser: https://accounts.google.com/o/oauth2/auth?client_id=947318989803-6bn6qk8qdgf4n4g3pfee6491hc0brc4i.apps.googleusercontent.com&redirect_uri=urn%3aietf%3awg%3aoauth%3a2.0%3aoob&response_type=code&scope=email%20https%3a%2f%2fwww.googleapis.com%2fauth%2fdocs.test%20https%3a%2f%2fwww.googleapis.com%2fauth%2fdrive%20https%3a%2f%2fwww.googleapis.com%2fauth%2fdrive.photos.readonly%20https%3a%2f%2fwww.googleapis.com%2fauth%2fpeopleapi.readonly\n",
            "\n",
            "Enter your authorization code:\n",
            "··········\n",
            "Mounted at /content/drive\n"
          ],
          "name": "stdout"
        }
      ]
    },
    {
      "cell_type": "code",
      "metadata": {
        "id": "-9IxqDN4LPUQ",
        "colab_type": "code",
        "outputId": "15d569ef-e6c5-4312-9546-84a41730086b",
        "colab": {
          "base_uri": "https://localhost:8080/",
          "height": 153
        }
      },
      "source": [
        "!rm -rf zalo\n",
        "!test -d zalo || git clone https://github.com/hoangtheanhhp/ZaloQA zalo\n",
        "import sys\n",
        "if 'zalo' not in sys.path:\n",
        "  sys.path+=['zalo']"
      ],
      "execution_count": 2,
      "outputs": [
        {
          "output_type": "stream",
          "text": [
            "Cloning into 'zalo'...\n",
            "remote: Enumerating objects: 199, done.\u001b[K\n",
            "remote: Counting objects: 100% (199/199), done.\u001b[K\n",
            "remote: Compressing objects: 100% (154/154), done.\u001b[K\n",
            "remote: Total 715 (delta 124), reused 93 (delta 44), pack-reused 516\u001b[K\n",
            "Receiving objects: 100% (715/715), 95.39 MiB | 20.64 MiB/s, done.\n",
            "Resolving deltas: 100% (352/352), done.\n",
            "Checking out files: 100% (42/42), done.\n"
          ],
          "name": "stdout"
        }
      ]
    },
    {
      "cell_type": "code",
      "metadata": {
        "id": "Sdx1bGwe4GnQ",
        "colab_type": "code",
        "outputId": "457a53b3-09e2-4b48-b17e-41276af15043",
        "colab": {
          "base_uri": "https://localhost:8080/",
          "height": 717
        }
      },
      "source": [
        "%tensorflow_version 1.x\n",
        "!pip install kashgari==1.1.4\n",
        "\n"
      ],
      "execution_count": 1,
      "outputs": [
        {
          "output_type": "stream",
          "text": [
            "TensorFlow 1.x selected.\n",
            "Requirement already satisfied: kashgari==1.1.4 in /usr/local/lib/python3.6/dist-packages (1.1.4)\n",
            "Requirement already satisfied: h5py in /usr/local/lib/python3.6/dist-packages (from kashgari==1.1.4) (2.10.0)\n",
            "Requirement already satisfied: scikit-learn>=0.21.1 in /usr/local/lib/python3.6/dist-packages (from kashgari==1.1.4) (0.22.2.post1)\n",
            "Requirement already satisfied: seqeval==0.0.10 in /usr/local/lib/python3.6/dist-packages (from kashgari==1.1.4) (0.0.10)\n",
            "Requirement already satisfied: gensim>=3.5.0 in /usr/local/lib/python3.6/dist-packages (from kashgari==1.1.4) (3.6.0)\n",
            "Requirement already satisfied: pandas>=0.23.0 in /usr/local/lib/python3.6/dist-packages (from kashgari==1.1.4) (1.0.4)\n",
            "Requirement already satisfied: numpy==1.16.4 in /usr/local/lib/python3.6/dist-packages (from kashgari==1.1.4) (1.16.4)\n",
            "Requirement already satisfied: bert4keras==0.6.5 in /usr/local/lib/python3.6/dist-packages (from kashgari==1.1.4) (0.6.5)\n",
            "Requirement already satisfied: keras-gpt-2>=0.8.0 in /usr/local/lib/python3.6/dist-packages (from kashgari==1.1.4) (0.14.0)\n",
            "Requirement already satisfied: keras-bert>=0.50.0 in /usr/local/lib/python3.6/dist-packages (from kashgari==1.1.4) (0.83.0)\n",
            "Requirement already satisfied: six in /usr/local/lib/python3.6/dist-packages (from h5py->kashgari==1.1.4) (1.12.0)\n",
            "Requirement already satisfied: scipy>=0.17.0 in /usr/local/lib/python3.6/dist-packages (from scikit-learn>=0.21.1->kashgari==1.1.4) (1.4.1)\n",
            "Requirement already satisfied: joblib>=0.11 in /usr/local/lib/python3.6/dist-packages (from scikit-learn>=0.21.1->kashgari==1.1.4) (0.15.1)\n",
            "Requirement already satisfied: Keras>=2.2.4 in /usr/local/lib/python3.6/dist-packages (from seqeval==0.0.10->kashgari==1.1.4) (2.3.1)\n",
            "Requirement already satisfied: smart-open>=1.2.1 in /usr/local/lib/python3.6/dist-packages (from gensim>=3.5.0->kashgari==1.1.4) (2.0.0)\n",
            "Requirement already satisfied: python-dateutil>=2.6.1 in /usr/local/lib/python3.6/dist-packages (from pandas>=0.23.0->kashgari==1.1.4) (2.8.1)\n",
            "Requirement already satisfied: pytz>=2017.2 in /usr/local/lib/python3.6/dist-packages (from pandas>=0.23.0->kashgari==1.1.4) (2018.9)\n",
            "Requirement already satisfied: regex in /usr/local/lib/python3.6/dist-packages (from keras-gpt-2>=0.8.0->kashgari==1.1.4) (2019.12.20)\n",
            "Requirement already satisfied: keras-transformer>=0.30.0 in /usr/local/lib/python3.6/dist-packages (from keras-gpt-2>=0.8.0->kashgari==1.1.4) (0.36.0)\n",
            "Requirement already satisfied: pyyaml in /usr/local/lib/python3.6/dist-packages (from Keras>=2.2.4->seqeval==0.0.10->kashgari==1.1.4) (3.13)\n",
            "Requirement already satisfied: keras-applications>=1.0.6 in /usr/local/lib/python3.6/dist-packages (from Keras>=2.2.4->seqeval==0.0.10->kashgari==1.1.4) (1.0.8)\n",
            "Requirement already satisfied: keras-preprocessing>=1.0.5 in /usr/local/lib/python3.6/dist-packages (from Keras>=2.2.4->seqeval==0.0.10->kashgari==1.1.4) (1.1.2)\n",
            "Requirement already satisfied: boto3 in /usr/local/lib/python3.6/dist-packages (from smart-open>=1.2.1->gensim>=3.5.0->kashgari==1.1.4) (1.13.19)\n",
            "Requirement already satisfied: requests in /usr/local/lib/python3.6/dist-packages (from smart-open>=1.2.1->gensim>=3.5.0->kashgari==1.1.4) (2.23.0)\n",
            "Requirement already satisfied: boto in /usr/local/lib/python3.6/dist-packages (from smart-open>=1.2.1->gensim>=3.5.0->kashgari==1.1.4) (2.49.0)\n",
            "Requirement already satisfied: keras-position-wise-feed-forward>=0.6.0 in /usr/local/lib/python3.6/dist-packages (from keras-transformer>=0.30.0->keras-gpt-2>=0.8.0->kashgari==1.1.4) (0.6.0)\n",
            "Requirement already satisfied: keras-layer-normalization>=0.14.0 in /usr/local/lib/python3.6/dist-packages (from keras-transformer>=0.30.0->keras-gpt-2>=0.8.0->kashgari==1.1.4) (0.14.0)\n",
            "Requirement already satisfied: keras-embed-sim>=0.7.0 in /usr/local/lib/python3.6/dist-packages (from keras-transformer>=0.30.0->keras-gpt-2>=0.8.0->kashgari==1.1.4) (0.7.0)\n",
            "Requirement already satisfied: keras-pos-embd>=0.11.0 in /usr/local/lib/python3.6/dist-packages (from keras-transformer>=0.30.0->keras-gpt-2>=0.8.0->kashgari==1.1.4) (0.11.0)\n",
            "Requirement already satisfied: keras-multi-head>=0.26.0 in /usr/local/lib/python3.6/dist-packages (from keras-transformer>=0.30.0->keras-gpt-2>=0.8.0->kashgari==1.1.4) (0.26.0)\n",
            "Requirement already satisfied: botocore<1.17.0,>=1.16.19 in /usr/local/lib/python3.6/dist-packages (from boto3->smart-open>=1.2.1->gensim>=3.5.0->kashgari==1.1.4) (1.16.19)\n",
            "Requirement already satisfied: jmespath<1.0.0,>=0.7.1 in /usr/local/lib/python3.6/dist-packages (from boto3->smart-open>=1.2.1->gensim>=3.5.0->kashgari==1.1.4) (0.10.0)\n",
            "Requirement already satisfied: s3transfer<0.4.0,>=0.3.0 in /usr/local/lib/python3.6/dist-packages (from boto3->smart-open>=1.2.1->gensim>=3.5.0->kashgari==1.1.4) (0.3.3)\n",
            "Requirement already satisfied: idna<3,>=2.5 in /usr/local/lib/python3.6/dist-packages (from requests->smart-open>=1.2.1->gensim>=3.5.0->kashgari==1.1.4) (2.9)\n",
            "Requirement already satisfied: chardet<4,>=3.0.2 in /usr/local/lib/python3.6/dist-packages (from requests->smart-open>=1.2.1->gensim>=3.5.0->kashgari==1.1.4) (3.0.4)\n",
            "Requirement already satisfied: certifi>=2017.4.17 in /usr/local/lib/python3.6/dist-packages (from requests->smart-open>=1.2.1->gensim>=3.5.0->kashgari==1.1.4) (2020.4.5.1)\n",
            "Requirement already satisfied: urllib3!=1.25.0,!=1.25.1,<1.26,>=1.21.1 in /usr/local/lib/python3.6/dist-packages (from requests->smart-open>=1.2.1->gensim>=3.5.0->kashgari==1.1.4) (1.24.3)\n",
            "Requirement already satisfied: keras-self-attention==0.44.0 in /usr/local/lib/python3.6/dist-packages (from keras-multi-head>=0.26.0->keras-transformer>=0.30.0->keras-gpt-2>=0.8.0->kashgari==1.1.4) (0.44.0)\n",
            "Requirement already satisfied: docutils<0.16,>=0.10 in /usr/local/lib/python3.6/dist-packages (from botocore<1.17.0,>=1.16.19->boto3->smart-open>=1.2.1->gensim>=3.5.0->kashgari==1.1.4) (0.15.2)\n"
          ],
          "name": "stdout"
        }
      ]
    },
    {
      "cell_type": "code",
      "metadata": {
        "id": "AtVpXIw6M4CO",
        "colab_type": "code",
        "colab": {}
      },
      "source": [
        "DATASET_PATH = \"zalo/Dataset/zalo\"\n",
        "SAVE_MODEL_PATH = \"/content/drive/My Drive/ZaloAI/result/model_bert\"\n",
        "MODEL_PATH = \"/content/drive/My Drive/ZaloAI/bert\""
      ],
      "execution_count": 0,
      "outputs": []
    },
    {
      "cell_type": "code",
      "metadata": {
        "id": "UfjKr9Z_d9RR",
        "colab_type": "code",
        "outputId": "f6815f6c-b583-491d-e348-36e662fb7049",
        "colab": {
          "base_uri": "https://localhost:8080/",
          "height": 1000
        }
      },
      "source": [
        "from zalo.QASystem.preprocess import ZaloDatasetProcessor\n",
        "\n",
        "import kashgari\n",
        "processor = ZaloDatasetProcessor()\n",
        "from kashgari.embeddings import BERTEmbedding\n",
        "\n",
        "bert_embedding = BERTEmbedding(MODEL_PATH,\n",
        "                               task=kashgari.CLASSIFICATION,\n",
        "                               sequence_length=512)\n",
        "\n",
        "tokenizer = bert_embedding.tokenizer"
      ],
      "execution_count": 4,
      "outputs": [
        {
          "output_type": "stream",
          "text": [
            "/usr/local/lib/python3.6/dist-packages/bert4keras/__init__.py:22: UserWarning: bert4keras.bert has been renamed as bert4keras.models.\n",
            "  warnings.warn('bert4keras.bert has been renamed as bert4keras.models.')\n",
            "/usr/local/lib/python3.6/dist-packages/bert4keras/__init__.py:23: UserWarning: please use bert4keras.models.\n",
            "  warnings.warn('please use bert4keras.models.')\n",
            "/usr/local/lib/python3.6/dist-packages/bert4keras/__init__.py:44: UserWarning: bert4keras.tokenizer has been renamed as bert4keras.tokenizers.\n",
            "  warnings.warn('bert4keras.tokenizer has been renamed as bert4keras.tokenizers.')\n",
            "/usr/local/lib/python3.6/dist-packages/bert4keras/__init__.py:45: UserWarning: please use bert4keras.tokenizers.\n",
            "  warnings.warn('please use bert4keras.tokenizers.')\n"
          ],
          "name": "stderr"
        },
        {
          "output_type": "stream",
          "text": [
            "WARNING: Entity <bound method TokenEmbedding.call of <keras_bert.layers.embedding.TokenEmbedding object at 0x7ffa91744e48>> could not be transformed and will be executed as-is. Please report this to the AutoGraph team. When filing the bug, set the verbosity to 10 (on Linux, `export AUTOGRAPH_VERBOSITY=10`) and attach the full output. Cause: Bad argument number for Name: 3, expecting 4\n",
            "WARNING: Entity <bound method PositionEmbedding.call of <keras_pos_embd.pos_embd.PositionEmbedding object at 0x7ffa90eff160>> could not be transformed and will be executed as-is. Please report this to the AutoGraph team. When filing the bug, set the verbosity to 10 (on Linux, `export AUTOGRAPH_VERBOSITY=10`) and attach the full output. Cause: module 'gast' has no attribute 'Num'\n",
            "WARNING: Entity <bound method LayerNormalization.call of <keras_layer_normalization.layer_normalization.LayerNormalization object at 0x7ffa90f379e8>> could not be transformed and will be executed as-is. Please report this to the AutoGraph team. When filing the bug, set the verbosity to 10 (on Linux, `export AUTOGRAPH_VERBOSITY=10`) and attach the full output. Cause: Bad argument number for Name: 3, expecting 4\n",
            "WARNING: Entity <bound method MultiHeadAttention.call of <keras_multi_head.multi_head_attention.MultiHeadAttention object at 0x7ffa90f37a58>> could not be transformed and will be executed as-is. Please report this to the AutoGraph team. When filing the bug, set the verbosity to 10 (on Linux, `export AUTOGRAPH_VERBOSITY=10`) and attach the full output. Cause: module 'gast' has no attribute 'Num'\n",
            "WARNING: Entity <bound method ScaledDotProductAttention.call of <keras_self_attention.scaled_dot_attention.ScaledDotProductAttention object at 0x7ffa915e8908>> could not be transformed and will be executed as-is. Please report this to the AutoGraph team. When filing the bug, set the verbosity to 10 (on Linux, `export AUTOGRAPH_VERBOSITY=10`) and attach the full output. Cause: module 'gast' has no attribute 'Num'\n",
            "WARNING: Entity <bound method LayerNormalization.call of <keras_layer_normalization.layer_normalization.LayerNormalization object at 0x7ffa9164d1d0>> could not be transformed and will be executed as-is. Please report this to the AutoGraph team. When filing the bug, set the verbosity to 10 (on Linux, `export AUTOGRAPH_VERBOSITY=10`) and attach the full output. Cause: Bad argument number for Name: 3, expecting 4\n",
            "WARNING: Entity <bound method FeedForward.call of <keras_position_wise_feed_forward.feed_forward.FeedForward object at 0x7ffa9161bf98>> could not be transformed and will be executed as-is. Please report this to the AutoGraph team. When filing the bug, set the verbosity to 10 (on Linux, `export AUTOGRAPH_VERBOSITY=10`) and attach the full output. Cause: Bad argument number for Name: 3, expecting 4\n",
            "WARNING: Entity <bound method LayerNormalization.call of <keras_layer_normalization.layer_normalization.LayerNormalization object at 0x7ffa915d92b0>> could not be transformed and will be executed as-is. Please report this to the AutoGraph team. When filing the bug, set the verbosity to 10 (on Linux, `export AUTOGRAPH_VERBOSITY=10`) and attach the full output. Cause: Bad argument number for Name: 3, expecting 4\n",
            "WARNING: Entity <bound method MultiHeadAttention.call of <keras_multi_head.multi_head_attention.MultiHeadAttention object at 0x7ffa916309b0>> could not be transformed and will be executed as-is. Please report this to the AutoGraph team. When filing the bug, set the verbosity to 10 (on Linux, `export AUTOGRAPH_VERBOSITY=10`) and attach the full output. Cause: module 'gast' has no attribute 'Num'\n",
            "WARNING: Entity <bound method ScaledDotProductAttention.call of <keras_self_attention.scaled_dot_attention.ScaledDotProductAttention object at 0x7ffa9149bdd8>> could not be transformed and will be executed as-is. Please report this to the AutoGraph team. When filing the bug, set the verbosity to 10 (on Linux, `export AUTOGRAPH_VERBOSITY=10`) and attach the full output. Cause: module 'gast' has no attribute 'Num'\n",
            "WARNING: Entity <bound method LayerNormalization.call of <keras_layer_normalization.layer_normalization.LayerNormalization object at 0x7ffa915153c8>> could not be transformed and will be executed as-is. Please report this to the AutoGraph team. When filing the bug, set the verbosity to 10 (on Linux, `export AUTOGRAPH_VERBOSITY=10`) and attach the full output. Cause: Bad argument number for Name: 3, expecting 4\n",
            "WARNING: Entity <bound method FeedForward.call of <keras_position_wise_feed_forward.feed_forward.FeedForward object at 0x7ffa91413b70>> could not be transformed and will be executed as-is. Please report this to the AutoGraph team. When filing the bug, set the verbosity to 10 (on Linux, `export AUTOGRAPH_VERBOSITY=10`) and attach the full output. Cause: Bad argument number for Name: 3, expecting 4\n",
            "WARNING: Entity <bound method LayerNormalization.call of <keras_layer_normalization.layer_normalization.LayerNormalization object at 0x7ffa91404c18>> could not be transformed and will be executed as-is. Please report this to the AutoGraph team. When filing the bug, set the verbosity to 10 (on Linux, `export AUTOGRAPH_VERBOSITY=10`) and attach the full output. Cause: Bad argument number for Name: 3, expecting 4\n",
            "WARNING: Entity <bound method MultiHeadAttention.call of <keras_multi_head.multi_head_attention.MultiHeadAttention object at 0x7ffa914046d8>> could not be transformed and will be executed as-is. Please report this to the AutoGraph team. When filing the bug, set the verbosity to 10 (on Linux, `export AUTOGRAPH_VERBOSITY=10`) and attach the full output. Cause: module 'gast' has no attribute 'Num'\n",
            "WARNING: Entity <bound method ScaledDotProductAttention.call of <keras_self_attention.scaled_dot_attention.ScaledDotProductAttention object at 0x7ffa91350400>> could not be transformed and will be executed as-is. Please report this to the AutoGraph team. When filing the bug, set the verbosity to 10 (on Linux, `export AUTOGRAPH_VERBOSITY=10`) and attach the full output. Cause: module 'gast' has no attribute 'Num'\n",
            "WARNING: Entity <bound method LayerNormalization.call of <keras_layer_normalization.layer_normalization.LayerNormalization object at 0x7ffa91435550>> could not be transformed and will be executed as-is. Please report this to the AutoGraph team. When filing the bug, set the verbosity to 10 (on Linux, `export AUTOGRAPH_VERBOSITY=10`) and attach the full output. Cause: Bad argument number for Name: 3, expecting 4\n",
            "WARNING: Entity <bound method FeedForward.call of <keras_position_wise_feed_forward.feed_forward.FeedForward object at 0x7ffa91381da0>> could not be transformed and will be executed as-is. Please report this to the AutoGraph team. When filing the bug, set the verbosity to 10 (on Linux, `export AUTOGRAPH_VERBOSITY=10`) and attach the full output. Cause: Bad argument number for Name: 3, expecting 4\n",
            "WARNING: Entity <bound method LayerNormalization.call of <keras_layer_normalization.layer_normalization.LayerNormalization object at 0x7ffa91393898>> could not be transformed and will be executed as-is. Please report this to the AutoGraph team. When filing the bug, set the verbosity to 10 (on Linux, `export AUTOGRAPH_VERBOSITY=10`) and attach the full output. Cause: Bad argument number for Name: 3, expecting 4\n",
            "WARNING: Entity <bound method MultiHeadAttention.call of <keras_multi_head.multi_head_attention.MultiHeadAttention object at 0x7ffa912f4b00>> could not be transformed and will be executed as-is. Please report this to the AutoGraph team. When filing the bug, set the verbosity to 10 (on Linux, `export AUTOGRAPH_VERBOSITY=10`) and attach the full output. Cause: module 'gast' has no attribute 'Num'\n",
            "WARNING: Entity <bound method ScaledDotProductAttention.call of <keras_self_attention.scaled_dot_attention.ScaledDotProductAttention object at 0x7ffa91204978>> could not be transformed and will be executed as-is. Please report this to the AutoGraph team. When filing the bug, set the verbosity to 10 (on Linux, `export AUTOGRAPH_VERBOSITY=10`) and attach the full output. Cause: module 'gast' has no attribute 'Num'\n",
            "WARNING: Entity <bound method LayerNormalization.call of <keras_layer_normalization.layer_normalization.LayerNormalization object at 0x7ffa91272898>> could not be transformed and will be executed as-is. Please report this to the AutoGraph team. When filing the bug, set the verbosity to 10 (on Linux, `export AUTOGRAPH_VERBOSITY=10`) and attach the full output. Cause: Bad argument number for Name: 3, expecting 4\n",
            "WARNING: Entity <bound method FeedForward.call of <keras_position_wise_feed_forward.feed_forward.FeedForward object at 0x7ffa911cec50>> could not be transformed and will be executed as-is. Please report this to the AutoGraph team. When filing the bug, set the verbosity to 10 (on Linux, `export AUTOGRAPH_VERBOSITY=10`) and attach the full output. Cause: Bad argument number for Name: 3, expecting 4\n",
            "WARNING: Entity <bound method LayerNormalization.call of <keras_layer_normalization.layer_normalization.LayerNormalization object at 0x7ffa9119c2b0>> could not be transformed and will be executed as-is. Please report this to the AutoGraph team. When filing the bug, set the verbosity to 10 (on Linux, `export AUTOGRAPH_VERBOSITY=10`) and attach the full output. Cause: Bad argument number for Name: 3, expecting 4\n",
            "WARNING: Entity <bound method MultiHeadAttention.call of <keras_multi_head.multi_head_attention.MultiHeadAttention object at 0x7ffa9124ce48>> could not be transformed and will be executed as-is. Please report this to the AutoGraph team. When filing the bug, set the verbosity to 10 (on Linux, `export AUTOGRAPH_VERBOSITY=10`) and attach the full output. Cause: module 'gast' has no attribute 'Num'\n",
            "WARNING: Entity <bound method ScaledDotProductAttention.call of <keras_self_attention.scaled_dot_attention.ScaledDotProductAttention object at 0x7ffa90f089e8>> could not be transformed and will be executed as-is. Please report this to the AutoGraph team. When filing the bug, set the verbosity to 10 (on Linux, `export AUTOGRAPH_VERBOSITY=10`) and attach the full output. Cause: module 'gast' has no attribute 'Num'\n",
            "WARNING: Entity <bound method LayerNormalization.call of <keras_layer_normalization.layer_normalization.LayerNormalization object at 0x7ffa91197828>> could not be transformed and will be executed as-is. Please report this to the AutoGraph team. When filing the bug, set the verbosity to 10 (on Linux, `export AUTOGRAPH_VERBOSITY=10`) and attach the full output. Cause: Bad argument number for Name: 3, expecting 4\n",
            "WARNING: Entity <bound method FeedForward.call of <keras_position_wise_feed_forward.feed_forward.FeedForward object at 0x7ffa911975f8>> could not be transformed and will be executed as-is. Please report this to the AutoGraph team. When filing the bug, set the verbosity to 10 (on Linux, `export AUTOGRAPH_VERBOSITY=10`) and attach the full output. Cause: Bad argument number for Name: 3, expecting 4\n",
            "WARNING: Entity <bound method LayerNormalization.call of <keras_layer_normalization.layer_normalization.LayerNormalization object at 0x7ffa91162f98>> could not be transformed and will be executed as-is. Please report this to the AutoGraph team. When filing the bug, set the verbosity to 10 (on Linux, `export AUTOGRAPH_VERBOSITY=10`) and attach the full output. Cause: Bad argument number for Name: 3, expecting 4\n",
            "WARNING: Entity <bound method MultiHeadAttention.call of <keras_multi_head.multi_head_attention.MultiHeadAttention object at 0x7ffa910a5f28>> could not be transformed and will be executed as-is. Please report this to the AutoGraph team. When filing the bug, set the verbosity to 10 (on Linux, `export AUTOGRAPH_VERBOSITY=10`) and attach the full output. Cause: module 'gast' has no attribute 'Num'\n",
            "WARNING: Entity <bound method ScaledDotProductAttention.call of <keras_self_attention.scaled_dot_attention.ScaledDotProductAttention object at 0x7ffa91029e10>> could not be transformed and will be executed as-is. Please report this to the AutoGraph team. When filing the bug, set the verbosity to 10 (on Linux, `export AUTOGRAPH_VERBOSITY=10`) and attach the full output. Cause: module 'gast' has no attribute 'Num'\n",
            "WARNING: Entity <bound method LayerNormalization.call of <keras_layer_normalization.layer_normalization.LayerNormalization object at 0x7ffa9109b470>> could not be transformed and will be executed as-is. Please report this to the AutoGraph team. When filing the bug, set the verbosity to 10 (on Linux, `export AUTOGRAPH_VERBOSITY=10`) and attach the full output. Cause: Bad argument number for Name: 3, expecting 4\n",
            "WARNING: Entity <bound method FeedForward.call of <keras_position_wise_feed_forward.feed_forward.FeedForward object at 0x7ffa90f87ac8>> could not be transformed and will be executed as-is. Please report this to the AutoGraph team. When filing the bug, set the verbosity to 10 (on Linux, `export AUTOGRAPH_VERBOSITY=10`) and attach the full output. Cause: Bad argument number for Name: 3, expecting 4\n",
            "WARNING: Entity <bound method LayerNormalization.call of <keras_layer_normalization.layer_normalization.LayerNormalization object at 0x7ffa9100fd30>> could not be transformed and will be executed as-is. Please report this to the AutoGraph team. When filing the bug, set the verbosity to 10 (on Linux, `export AUTOGRAPH_VERBOSITY=10`) and attach the full output. Cause: Bad argument number for Name: 3, expecting 4\n",
            "WARNING: Entity <bound method MultiHeadAttention.call of <keras_multi_head.multi_head_attention.MultiHeadAttention object at 0x7ffa9100f160>> could not be transformed and will be executed as-is. Please report this to the AutoGraph team. When filing the bug, set the verbosity to 10 (on Linux, `export AUTOGRAPH_VERBOSITY=10`) and attach the full output. Cause: module 'gast' has no attribute 'Num'\n",
            "WARNING: Entity <bound method ScaledDotProductAttention.call of <keras_self_attention.scaled_dot_attention.ScaledDotProductAttention object at 0x7ffa90e9fe10>> could not be transformed and will be executed as-is. Please report this to the AutoGraph team. When filing the bug, set the verbosity to 10 (on Linux, `export AUTOGRAPH_VERBOSITY=10`) and attach the full output. Cause: module 'gast' has no attribute 'Num'\n",
            "WARNING: Entity <bound method LayerNormalization.call of <keras_layer_normalization.layer_normalization.LayerNormalization object at 0x7ffa90f67748>> could not be transformed and will be executed as-is. Please report this to the AutoGraph team. When filing the bug, set the verbosity to 10 (on Linux, `export AUTOGRAPH_VERBOSITY=10`) and attach the full output. Cause: Bad argument number for Name: 3, expecting 4\n",
            "WARNING: Entity <bound method FeedForward.call of <keras_position_wise_feed_forward.feed_forward.FeedForward object at 0x7ffa90ed0da0>> could not be transformed and will be executed as-is. Please report this to the AutoGraph team. When filing the bug, set the verbosity to 10 (on Linux, `export AUTOGRAPH_VERBOSITY=10`) and attach the full output. Cause: Bad argument number for Name: 3, expecting 4\n",
            "WARNING: Entity <bound method LayerNormalization.call of <keras_layer_normalization.layer_normalization.LayerNormalization object at 0x7ffa90eebdd8>> could not be transformed and will be executed as-is. Please report this to the AutoGraph team. When filing the bug, set the verbosity to 10 (on Linux, `export AUTOGRAPH_VERBOSITY=10`) and attach the full output. Cause: Bad argument number for Name: 3, expecting 4\n",
            "WARNING: Entity <bound method MultiHeadAttention.call of <keras_multi_head.multi_head_attention.MultiHeadAttention object at 0x7ffa90dc3eb8>> could not be transformed and will be executed as-is. Please report this to the AutoGraph team. When filing the bug, set the verbosity to 10 (on Linux, `export AUTOGRAPH_VERBOSITY=10`) and attach the full output. Cause: module 'gast' has no attribute 'Num'\n",
            "WARNING: Entity <bound method ScaledDotProductAttention.call of <keras_self_attention.scaled_dot_attention.ScaledDotProductAttention object at 0x7ffa90d4e908>> could not be transformed and will be executed as-is. Please report this to the AutoGraph team. When filing the bug, set the verbosity to 10 (on Linux, `export AUTOGRAPH_VERBOSITY=10`) and attach the full output. Cause: module 'gast' has no attribute 'Num'\n",
            "WARNING: Entity <bound method LayerNormalization.call of <keras_layer_normalization.layer_normalization.LayerNormalization object at 0x7ffa90d400f0>> could not be transformed and will be executed as-is. Please report this to the AutoGraph team. When filing the bug, set the verbosity to 10 (on Linux, `export AUTOGRAPH_VERBOSITY=10`) and attach the full output. Cause: Bad argument number for Name: 3, expecting 4\n",
            "WARNING: Entity <bound method FeedForward.call of <keras_position_wise_feed_forward.feed_forward.FeedForward object at 0x7ffa90d2fc18>> could not be transformed and will be executed as-is. Please report this to the AutoGraph team. When filing the bug, set the verbosity to 10 (on Linux, `export AUTOGRAPH_VERBOSITY=10`) and attach the full output. Cause: Bad argument number for Name: 3, expecting 4\n",
            "WARNING: Entity <bound method LayerNormalization.call of <keras_layer_normalization.layer_normalization.LayerNormalization object at 0x7ffa90da74e0>> could not be transformed and will be executed as-is. Please report this to the AutoGraph team. When filing the bug, set the verbosity to 10 (on Linux, `export AUTOGRAPH_VERBOSITY=10`) and attach the full output. Cause: Bad argument number for Name: 3, expecting 4\n",
            "WARNING: Entity <bound method MultiHeadAttention.call of <keras_multi_head.multi_head_attention.MultiHeadAttention object at 0x7ffa90cfd4a8>> could not be transformed and will be executed as-is. Please report this to the AutoGraph team. When filing the bug, set the verbosity to 10 (on Linux, `export AUTOGRAPH_VERBOSITY=10`) and attach the full output. Cause: module 'gast' has no attribute 'Num'\n",
            "WARNING: Entity <bound method ScaledDotProductAttention.call of <keras_self_attention.scaled_dot_attention.ScaledDotProductAttention object at 0x7ffa90bff438>> could not be transformed and will be executed as-is. Please report this to the AutoGraph team. When filing the bug, set the verbosity to 10 (on Linux, `export AUTOGRAPH_VERBOSITY=10`) and attach the full output. Cause: module 'gast' has no attribute 'Num'\n",
            "WARNING: Entity <bound method LayerNormalization.call of <keras_layer_normalization.layer_normalization.LayerNormalization object at 0x7ffa90cfc668>> could not be transformed and will be executed as-is. Please report this to the AutoGraph team. When filing the bug, set the verbosity to 10 (on Linux, `export AUTOGRAPH_VERBOSITY=10`) and attach the full output. Cause: Bad argument number for Name: 3, expecting 4\n",
            "WARNING: Entity <bound method FeedForward.call of <keras_position_wise_feed_forward.feed_forward.FeedForward object at 0x7ffa90cfc358>> could not be transformed and will be executed as-is. Please report this to the AutoGraph team. When filing the bug, set the verbosity to 10 (on Linux, `export AUTOGRAPH_VERBOSITY=10`) and attach the full output. Cause: Bad argument number for Name: 3, expecting 4\n",
            "WARNING: Entity <bound method LayerNormalization.call of <keras_layer_normalization.layer_normalization.LayerNormalization object at 0x7ffa90bdd0f0>> could not be transformed and will be executed as-is. Please report this to the AutoGraph team. When filing the bug, set the verbosity to 10 (on Linux, `export AUTOGRAPH_VERBOSITY=10`) and attach the full output. Cause: Bad argument number for Name: 3, expecting 4\n",
            "WARNING: Entity <bound method MultiHeadAttention.call of <keras_multi_head.multi_head_attention.MultiHeadAttention object at 0x7ffa90ba3128>> could not be transformed and will be executed as-is. Please report this to the AutoGraph team. When filing the bug, set the verbosity to 10 (on Linux, `export AUTOGRAPH_VERBOSITY=10`) and attach the full output. Cause: module 'gast' has no attribute 'Num'\n",
            "WARNING: Entity <bound method ScaledDotProductAttention.call of <keras_self_attention.scaled_dot_attention.ScaledDotProductAttention object at 0x7ffa90b39978>> could not be transformed and will be executed as-is. Please report this to the AutoGraph team. When filing the bug, set the verbosity to 10 (on Linux, `export AUTOGRAPH_VERBOSITY=10`) and attach the full output. Cause: module 'gast' has no attribute 'Num'\n",
            "WARNING: Entity <bound method LayerNormalization.call of <keras_layer_normalization.layer_normalization.LayerNormalization object at 0x7ffa90b230b8>> could not be transformed and will be executed as-is. Please report this to the AutoGraph team. When filing the bug, set the verbosity to 10 (on Linux, `export AUTOGRAPH_VERBOSITY=10`) and attach the full output. Cause: Bad argument number for Name: 3, expecting 4\n",
            "WARNING: Entity <bound method FeedForward.call of <keras_position_wise_feed_forward.feed_forward.FeedForward object at 0x7ffa90aa7c88>> could not be transformed and will be executed as-is. Please report this to the AutoGraph team. When filing the bug, set the verbosity to 10 (on Linux, `export AUTOGRAPH_VERBOSITY=10`) and attach the full output. Cause: Bad argument number for Name: 3, expecting 4\n",
            "WARNING: Entity <bound method LayerNormalization.call of <keras_layer_normalization.layer_normalization.LayerNormalization object at 0x7ffa90b015f8>> could not be transformed and will be executed as-is. Please report this to the AutoGraph team. When filing the bug, set the verbosity to 10 (on Linux, `export AUTOGRAPH_VERBOSITY=10`) and attach the full output. Cause: Bad argument number for Name: 3, expecting 4\n",
            "WARNING: Entity <bound method MultiHeadAttention.call of <keras_multi_head.multi_head_attention.MultiHeadAttention object at 0x7ffa90b05b70>> could not be transformed and will be executed as-is. Please report this to the AutoGraph team. When filing the bug, set the verbosity to 10 (on Linux, `export AUTOGRAPH_VERBOSITY=10`) and attach the full output. Cause: module 'gast' has no attribute 'Num'\n",
            "WARNING: Entity <bound method ScaledDotProductAttention.call of <keras_self_attention.scaled_dot_attention.ScaledDotProductAttention object at 0x7ffa909e6400>> could not be transformed and will be executed as-is. Please report this to the AutoGraph team. When filing the bug, set the verbosity to 10 (on Linux, `export AUTOGRAPH_VERBOSITY=10`) and attach the full output. Cause: module 'gast' has no attribute 'Num'\n",
            "WARNING: Entity <bound method LayerNormalization.call of <keras_layer_normalization.layer_normalization.LayerNormalization object at 0x7ffa90a51400>> could not be transformed and will be executed as-is. Please report this to the AutoGraph team. When filing the bug, set the verbosity to 10 (on Linux, `export AUTOGRAPH_VERBOSITY=10`) and attach the full output. Cause: Bad argument number for Name: 3, expecting 4\n",
            "WARNING: Entity <bound method FeedForward.call of <keras_position_wise_feed_forward.feed_forward.FeedForward object at 0x7ffa90a51908>> could not be transformed and will be executed as-is. Please report this to the AutoGraph team. When filing the bug, set the verbosity to 10 (on Linux, `export AUTOGRAPH_VERBOSITY=10`) and attach the full output. Cause: Bad argument number for Name: 3, expecting 4\n",
            "WARNING: Entity <bound method LayerNormalization.call of <keras_layer_normalization.layer_normalization.LayerNormalization object at 0x7ffa90a26780>> could not be transformed and will be executed as-is. Please report this to the AutoGraph team. When filing the bug, set the verbosity to 10 (on Linux, `export AUTOGRAPH_VERBOSITY=10`) and attach the full output. Cause: Bad argument number for Name: 3, expecting 4\n",
            "WARNING: Entity <bound method MultiHeadAttention.call of <keras_multi_head.multi_head_attention.MultiHeadAttention object at 0x7ffa909065f8>> could not be transformed and will be executed as-is. Please report this to the AutoGraph team. When filing the bug, set the verbosity to 10 (on Linux, `export AUTOGRAPH_VERBOSITY=10`) and attach the full output. Cause: module 'gast' has no attribute 'Num'\n",
            "WARNING: Entity <bound method ScaledDotProductAttention.call of <keras_self_attention.scaled_dot_attention.ScaledDotProductAttention object at 0x7ffa9089ac18>> could not be transformed and will be executed as-is. Please report this to the AutoGraph team. When filing the bug, set the verbosity to 10 (on Linux, `export AUTOGRAPH_VERBOSITY=10`) and attach the full output. Cause: module 'gast' has no attribute 'Num'\n",
            "WARNING: Entity <bound method LayerNormalization.call of <keras_layer_normalization.layer_normalization.LayerNormalization object at 0x7ffa90902e10>> could not be transformed and will be executed as-is. Please report this to the AutoGraph team. When filing the bug, set the verbosity to 10 (on Linux, `export AUTOGRAPH_VERBOSITY=10`) and attach the full output. Cause: Bad argument number for Name: 3, expecting 4\n",
            "WARNING: Entity <bound method FeedForward.call of <keras_position_wise_feed_forward.feed_forward.FeedForward object at 0x7ffa908ca630>> could not be transformed and will be executed as-is. Please report this to the AutoGraph team. When filing the bug, set the verbosity to 10 (on Linux, `export AUTOGRAPH_VERBOSITY=10`) and attach the full output. Cause: Bad argument number for Name: 3, expecting 4\n",
            "WARNING: Entity <bound method LayerNormalization.call of <keras_layer_normalization.layer_normalization.LayerNormalization object at 0x7ffa908ce588>> could not be transformed and will be executed as-is. Please report this to the AutoGraph team. When filing the bug, set the verbosity to 10 (on Linux, `export AUTOGRAPH_VERBOSITY=10`) and attach the full output. Cause: Bad argument number for Name: 3, expecting 4\n"
          ],
          "name": "stdout"
        },
        {
          "output_type": "stream",
          "text": [
            "WARNING:root:seq_len: 512\n"
          ],
          "name": "stderr"
        },
        {
          "output_type": "stream",
          "text": [
            "WARNING: Entity <bound method NonMaskingLayer.call of <kashgari.layers.non_masking_layer.NonMaskingLayer object at 0x7ffb03b00e48>> could not be transformed and will be executed as-is. Please report this to the AutoGraph team. When filing the bug, set the verbosity to 10 (on Linux, `export AUTOGRAPH_VERBOSITY=10`) and attach the full output. Cause: Bad argument number for Name: 3, expecting 4\n"
          ],
          "name": "stdout"
        }
      ]
    },
    {
      "cell_type": "code",
      "metadata": {
        "id": "wNSYwQrNPQgY",
        "colab_type": "code",
        "colab": {}
      },
      "source": [
        "# Our tokenizer already added the BOS([CLS]) and EOS([SEP]) token\n",
        "# so we need to disable the default add_bos_eos setting.\n",
        "bert_embedding.processor.add_bos_eos = False"
      ],
      "execution_count": 0,
      "outputs": []
    },
    {
      "cell_type": "code",
      "metadata": {
        "id": "YvMGadO85XIX",
        "colab_type": "code",
        "colab": {}
      },
      "source": [
        "processor.val_data = []\n",
        "processor.train_data = []"
      ],
      "execution_count": 0,
      "outputs": []
    },
    {
      "cell_type": "code",
      "metadata": {
        "id": "2eVRVwdN-4DD",
        "colab_type": "code",
        "colab": {}
      },
      "source": [
        "processor.load_from_path(\"/content/zalo/Dataset\",\"squad\",\"squad_vi.json\")"
      ],
      "execution_count": 0,
      "outputs": []
    },
    {
      "cell_type": "code",
      "metadata": {
        "id": "EK6yKuUcgGQ8",
        "colab_type": "code",
        "outputId": "6a57b973-2e6e-4d5e-82cb-fd83c05d33e2",
        "colab": {
          "base_uri": "https://localhost:8080/",
          "height": 51
        }
      },
      "source": [
        "true_squad = []\n",
        "false_squad = []\n",
        "for data in processor.train_data:\n",
        "  if data.get('label'):\n",
        "    true_squad.append(data)\n",
        "  else:\n",
        "    false_squad.append(data)\n",
        "print(len(true_squad))\n",
        "print(len(false_squad))\n",
        "processor.train_data = true_squad[:30000]\n",
        "processor.train_data.extend(false_squad[0:22000])"
      ],
      "execution_count": 7,
      "outputs": [
        {
          "output_type": "stream",
          "text": [
            "0\n",
            "0\n"
          ],
          "name": "stdout"
        }
      ]
    },
    {
      "cell_type": "code",
      "metadata": {
        "id": "tSZxqz_vRPze",
        "colab_type": "code",
        "outputId": "2a1b474e-5231-49a8-d915-da33ee061bf0",
        "colab": {
          "base_uri": "https://localhost:8080/",
          "height": 68
        }
      },
      "source": [
        "processor.load_from_path(DATASET_PATH,\"train\", \"train_full.json\")\n",
        "processor.load_from_path(\"/content/zalo/Dataset/zalo\", \"test\",\"test_full.json\")\n",
        "\n",
        "data = processor.train_data\n",
        "val = processor.test_data\n",
        "train_x = []\n",
        "train_y = []\n",
        "val_x = []\n",
        "val_y = []\n",
        "for d in data:\n",
        "  if d.get('text') and len(d.get('text')) > 0:\n",
        "    train_x.append(tokenizer.tokenize(d.get('question')) + \n",
        "                    tokenizer.tokenize(d.get('text'))[1:])\n",
        "    train_y.append(str(d.get('label', False)))\n",
        "\n",
        "for d in val:\n",
        "  val_x.append(tokenizer.tokenize(d.get('question')) + \n",
        "               tokenizer.tokenize(d.get('text'))[1:])\n",
        "  val_y.append(str(d.get('label', False)))\n",
        "\n",
        "print(len(train_x), len(train_y), len(val_x), len(val_y))\n"
      ],
      "execution_count": 8,
      "outputs": [
        {
          "output_type": "stream",
          "text": [
            "100%|██████████| 18106/18106 [00:00<00:00, 938506.49it/s]\n",
            "100%|██████████| 2061/2061 [00:00<00:00, 632459.80it/s]\n"
          ],
          "name": "stderr"
        },
        {
          "output_type": "stream",
          "text": [
            "18106 18106 2061 2061\n"
          ],
          "name": "stdout"
        }
      ]
    },
    {
      "cell_type": "code",
      "metadata": {
        "id": "bY8Dtvr-fYno",
        "colab_type": "code",
        "colab": {
          "base_uri": "https://localhost:8080/",
          "height": 304
        },
        "outputId": "6d1ff9e2-1114-4a65-c6fe-5a21f752a3a6"
      },
      "source": [
        "import matplotlib.pyplot as plt\n",
        "len_train = []\n",
        "for t in train_x:\n",
        "  len_train.append(len(t))\n",
        "print(len_train)\n",
        "plt.hist(len_train, bins=15)\n",
        "plt.show()\n"
      ],
      "execution_count": 10,
      "outputs": [
        {
          "output_type": "stream",
          "text": [
            "[56, 80, 113, 99, 116, 129, 86, 146, 112, 36, 127, 112, 33, 230, 127, 55, 73, 178, 122, 149, 78, 97, 85, 203, 263, 74, 115, 82, 106, 47, 56, 185, 108, 88, 168, 98, 147, 168, 123, 165, 227, 55, 118, 49, 87, 296, 111, 127, 100, 105, 142, 47, 178, 125, 97, 51, 142, 47, 73, 122, 140, 54, 119, 105, 53, 63, 123, 42, 107, 126, 78, 99, 73, 73, 88, 149, 80, 148, 206, 53, 115, 147, 78, 91, 135, 70, 229, 128, 119, 106, 107, 102, 180, 56, 87, 90, 285, 123, 44, 51, 276, 55, 87, 106, 86, 62, 131, 77, 120, 47, 62, 34, 152, 116, 95, 35, 54, 41, 77, 67, 159, 145, 111, 63, 76, 162, 73, 56, 309, 36, 68, 92, 87, 54, 80, 106, 90, 133, 185, 63, 94, 60, 159, 96, 157, 173, 66, 72, 130, 42, 65, 89, 164, 221, 118, 116, 458, 90, 366, 55, 72, 99, 94, 113, 73, 107, 97, 86, 174, 91, 94, 118, 112, 184, 68, 96, 252, 98, 139, 249, 91, 90, 81, 46, 107, 51, 29, 113, 125, 79, 85, 64, 141, 124, 121, 174, 112, 92, 81, 41, 40, 65, 74, 132, 113, 30, 137, 142, 75, 134, 169, 45, 46, 371, 40, 72, 81, 91, 84, 114, 69, 150, 61, 110, 65, 51, 177, 93, 142, 195, 50, 116, 77, 47, 93, 128, 124, 204, 50, 93, 128, 78, 121, 128, 104, 170, 85, 127, 125, 59, 50, 89, 198, 70, 90, 306, 115, 68, 110, 85, 49, 403, 58, 131, 48, 104, 159, 42, 94, 65, 92, 86, 85, 181, 73, 116, 114, 121, 60, 55, 27, 240, 83, 109, 107, 151, 91, 102, 216, 86, 63, 74, 53, 72, 56, 209, 119, 63, 69, 129, 98, 89, 97, 117, 40, 66, 308, 46, 80, 71, 118, 71, 47, 110, 71, 98, 73, 90, 63, 133, 108, 102, 111, 137, 145, 122, 191, 292, 150, 218, 254, 151, 44, 103, 82, 198, 83, 223, 53, 63, 44, 34, 46, 455, 24, 139, 128, 186, 130, 147, 69, 55, 147, 378, 41, 341, 122, 145, 164, 139, 94, 72, 86, 143, 53, 239, 72, 122, 86, 207, 117, 118, 87, 88, 62, 44, 23, 45, 123, 113, 87, 212, 124, 64, 108, 165, 86, 241, 82, 87, 124, 159, 74, 60, 68, 115, 145, 204, 50, 93, 102, 44, 112, 228, 102, 50, 42, 64, 64, 83, 96, 206, 17, 221, 62, 79, 116, 138, 48, 84, 88, 122, 77, 97, 81, 238, 218, 211, 63, 104, 76, 113, 107, 196, 82, 93, 102, 91, 62, 169, 240, 61, 97, 200, 66, 93, 106, 172, 116, 78, 282, 305, 54, 74, 84, 69, 53, 69, 69, 69, 110, 155, 29, 83, 115, 100, 208, 112, 187, 54, 162, 42, 108, 84, 70, 45, 112, 162, 77, 91, 70, 88, 77, 93, 327, 46, 50, 115, 144, 25, 77, 80, 84, 177, 53, 264, 94, 116, 170, 206, 359, 120, 70, 60, 119, 86, 85, 48, 149, 106, 102, 125, 64, 58, 79, 96, 123, 90, 152, 156, 42, 142, 80, 113, 44, 132, 70, 48, 98, 59, 49, 66, 183, 78, 49, 70, 448, 84, 124, 97, 235, 88, 97, 246, 30, 96, 159, 191, 229, 104, 88, 67, 107, 131, 46, 134, 139, 90, 132, 207, 52, 92, 162, 39, 129, 131, 89, 155, 108, 60, 106, 117, 80, 154, 85, 114, 71, 90, 159, 127, 66, 88, 124, 65, 116, 39, 53, 51, 149, 107, 88, 161, 93, 162, 40, 150, 96, 144, 177, 119, 123, 66, 133, 82, 145, 137, 63, 112, 102, 261, 73, 134, 46, 62, 98, 115, 85, 242, 132, 105, 86, 103, 136, 40, 85, 92, 113, 54, 254, 163, 96, 69, 66, 51, 138, 139, 156, 140, 200, 98, 87, 139, 130, 38, 104, 164, 103, 134, 669, 101, 78, 75, 45, 75, 111, 33, 179, 70, 83, 236, 74, 74, 106, 148, 95, 45, 117, 68, 81, 50, 137, 161, 156, 123, 154, 137, 118, 71, 30, 138, 185, 95, 183, 101, 174, 167, 112, 150, 97, 137, 147, 63, 54, 60, 62, 30, 72, 241, 60, 62, 150, 148, 179, 192, 133, 154, 54, 82, 112, 105, 186, 233, 174, 52, 158, 158, 53, 66, 117, 158, 80, 41, 204, 413, 110, 129, 71, 26, 107, 125, 86, 159, 71, 87, 111, 120, 119, 273, 139, 111, 154, 116, 56, 60, 72, 166, 54, 73, 61, 241, 87, 75, 49, 51, 109, 96, 125, 92, 87, 59, 112, 50, 103, 145, 32, 118, 206, 75, 199, 277, 77, 70, 71, 85, 59, 149, 103, 246, 62, 68, 51, 67, 99, 81, 141, 45, 92, 149, 128, 94, 100, 66, 125, 194, 112, 109, 73, 73, 62, 86, 260, 453, 158, 192, 208, 76, 122, 45, 188, 76, 36, 149, 86, 164, 64, 36, 136, 56, 93, 135, 97, 73, 42, 188, 132, 139, 63, 57, 114, 203, 124, 208, 156, 137, 61, 622, 81, 188, 117, 174, 24, 46, 32, 34, 108, 127, 125, 37, 126, 100, 259, 116, 46, 125, 131, 119, 62, 120, 103, 103, 306, 290, 174, 91, 121, 60, 223, 145, 176, 67, 81, 78, 107, 51, 136, 59, 287, 56, 31, 112, 241, 126, 133, 139, 247, 52, 150, 254, 51, 370, 195, 34, 139, 126, 76, 301, 62, 194, 199, 224, 317, 373, 260, 156, 358, 130, 245, 105, 84, 105, 49, 111, 87, 76, 154, 55, 51, 306, 163, 140, 99, 54, 151, 56, 90, 108, 102, 82, 50, 129, 91, 78, 179, 67, 135, 91, 90, 144, 134, 78, 116, 115, 122, 156, 103, 88, 144, 111, 91, 92, 67, 167, 163, 122, 132, 94, 131, 113, 124, 52, 101, 81, 189, 87, 124, 113, 82, 112, 77, 122, 106, 120, 52, 91, 68, 117, 77, 92, 167, 34, 76, 47, 34, 66, 115, 182, 187, 83, 38, 114, 112, 252, 76, 71, 35, 167, 128, 73, 81, 84, 65, 47, 228, 38, 116, 168, 68, 97, 31, 71, 112, 108, 70, 106, 56, 58, 152, 258, 89, 99, 187, 161, 71, 76, 145, 164, 93, 78, 192, 139, 79, 304, 64, 92, 56, 36, 231, 126, 276, 94, 112, 38, 108, 213, 123, 131, 110, 111, 201, 137, 60, 59, 61, 95, 103, 86, 97, 119, 116, 102, 47, 118, 201, 79, 51, 176, 32, 62, 60, 46, 190, 174, 124, 118, 70, 183, 98, 89, 100, 31, 77, 101, 99, 96, 76, 102, 34, 102, 101, 125, 42, 104, 141, 62, 105, 119, 128, 229, 139, 32, 43, 261, 62, 103, 175, 92, 66, 67, 140, 102, 123, 91, 151, 143, 110, 195, 142, 80, 35, 78, 98, 58, 142, 107, 68, 97, 113, 68, 99, 146, 55, 60, 108, 124, 174, 71, 60, 43, 49, 124, 46, 117, 146, 140, 150, 130, 72, 71, 87, 106, 86, 104, 90, 95, 113, 98, 120, 169, 177, 44, 92, 52, 105, 85, 89, 97, 111, 208, 52, 59, 41, 88, 110, 140, 182, 58, 98, 57, 91, 57, 165, 131, 92, 100, 120, 112, 79, 53, 57, 192, 106, 110, 77, 48, 94, 95, 121, 338, 118, 352, 125, 68, 97, 80, 141, 134, 205, 129, 158, 98, 50, 44, 55, 94, 36, 63, 67, 82, 121, 176, 142, 203, 66, 101, 58, 73, 65, 194, 123, 79, 107, 61, 50, 73, 69, 133, 122, 132, 51, 56, 112, 185, 90, 62, 153, 84, 288, 127, 235, 67, 96, 142, 157, 49, 108, 55, 54, 190, 109, 318, 94, 127, 105, 246, 50, 79, 35, 75, 142, 103, 44, 238, 45, 76, 104, 134, 128, 58, 116, 65, 44, 94, 103, 71, 145, 290, 55, 107, 324, 92, 58, 36, 64, 71, 66, 317, 37, 37, 88, 126, 215, 156, 74, 118, 117, 100, 84, 106, 63, 82, 36, 216, 88, 158, 49, 75, 103, 76, 108, 90, 119, 135, 190, 287, 130, 82, 160, 210, 69, 139, 130, 60, 36, 108, 88, 58, 78, 104, 103, 147, 189, 193, 31, 120, 117, 37, 49, 132, 139, 60, 200, 147, 92, 90, 91, 79, 130, 191, 199, 183, 228, 111, 115, 91, 111, 196, 69, 193, 130, 111, 196, 121, 46, 140, 40, 94, 139, 63, 101, 152, 136, 162, 95, 92, 175, 29, 53, 23, 143, 77, 92, 159, 194, 123, 158, 103, 63, 104, 74, 77, 103, 123, 63, 43, 118, 148, 104, 74, 92, 70, 458, 165, 105, 85, 66, 58, 89, 134, 76, 91, 150, 110, 82, 55, 162, 70, 329, 145, 118, 84, 140, 58, 226, 48, 56, 201, 118, 61, 81, 78, 173, 59, 224, 160, 82, 57, 107, 113, 129, 268, 105, 222, 89, 174, 129, 122, 35, 46, 64, 64, 123, 183, 159, 127, 87, 219, 66, 114, 97, 59, 55, 49, 106, 177, 42, 117, 49, 173, 209, 32, 103, 227, 175, 59, 75, 144, 106, 73, 116, 96, 52, 40, 54, 36, 378, 107, 209, 64, 51, 103, 75, 62, 81, 67, 180, 157, 83, 146, 292, 105, 132, 93, 70, 67, 129, 295, 79, 171, 65, 71, 131, 157, 54, 111, 58, 78, 136, 83, 127, 119, 107, 52, 48, 139, 171, 127, 109, 60, 86, 33, 127, 68, 195, 127, 30, 59, 70, 290, 33, 140, 78, 89, 95, 92, 56, 117, 125, 80, 84, 180, 97, 150, 48, 100, 47, 80, 20, 112, 229, 190, 78, 230, 217, 62, 120, 58, 161, 51, 86, 117, 120, 125, 104, 101, 140, 72, 68, 78, 93, 71, 116, 102, 86, 114, 109, 111, 50, 41, 84, 86, 165, 255, 69, 48, 84, 78, 112, 129, 95, 207, 120, 106, 55, 49, 36, 82, 96, 82, 113, 38, 108, 106, 156, 106, 52, 143, 101, 63, 68, 166, 74, 98, 105, 121, 134, 219, 85, 45, 144, 69, 98, 73, 114, 200, 83, 268, 93, 60, 96, 52, 111, 86, 180, 132, 135, 67, 49, 70, 207, 101, 46, 123, 85, 223, 124, 66, 124, 97, 125, 53, 61, 112, 63, 100, 159, 162, 46, 63, 89, 111, 35, 137, 69, 116, 149, 133, 142, 125, 65, 91, 183, 104, 239, 157, 100, 176, 85, 43, 110, 105, 277, 76, 75, 109, 198, 137, 103, 28, 102, 39, 59, 111, 179, 357, 58, 259, 76, 228, 113, 103, 28, 114, 322, 57, 91, 42, 146, 40, 76, 101, 121, 67, 117, 48, 157, 78, 84, 138, 106, 72, 59, 87, 105, 180, 82, 75, 132, 166, 186, 145, 105, 81, 95, 165, 75, 73, 66, 34, 66, 203, 114, 40, 194, 90, 50, 147, 175, 68, 150, 70, 247, 78, 111, 171, 91, 128, 84, 90, 61, 54, 103, 145, 171, 125, 72, 117, 89, 98, 104, 49, 52, 31, 73, 61, 111, 106, 99, 90, 64, 204, 72, 101, 103, 313, 174, 164, 136, 69, 61, 285, 50, 111, 55, 82, 51, 118, 124, 81, 64, 104, 102, 138, 106, 151, 65, 44, 90, 38, 204, 66, 61, 70, 208, 162, 158, 159, 165, 56, 34, 170, 133, 56, 163, 34, 114, 122, 172, 208, 118, 37, 36, 110, 68, 93, 109, 94, 79, 107, 209, 35, 108, 86, 70, 234, 107, 125, 91, 215, 54, 72, 105, 136, 101, 164, 26, 251, 124, 146, 125, 57, 46, 92, 93, 127, 106, 120, 54, 97, 86, 81, 110, 192, 112, 151, 233, 85, 102, 175, 120, 81, 35, 96, 34, 382, 55, 92, 44, 51, 56, 142, 118, 87, 402, 118, 94, 97, 84, 76, 74, 83, 156, 69, 120, 43, 55, 81, 155, 132, 60, 62, 76, 66, 92, 66, 72, 115, 81, 56, 159, 74, 109, 51, 106, 104, 49, 197, 69, 156, 87, 120, 114, 53, 168, 84, 121, 77, 68, 94, 80, 36, 168, 73, 100, 91, 87, 196, 120, 110, 119, 105, 124, 208, 69, 168, 58, 135, 39, 112, 103, 123, 45, 381, 114, 157, 132, 38, 97, 69, 148, 111, 94, 80, 51, 161, 152, 265, 85, 174, 105, 54, 76, 64, 86, 123, 162, 65, 160, 105, 73, 124, 248, 100, 112, 69, 64, 97, 83, 96, 66, 110, 150, 45, 61, 117, 133, 49, 132, 125, 84, 85, 48, 145, 46, 49, 118, 83, 117, 76, 74, 129, 145, 51, 108, 159, 42, 240, 118, 161, 180, 190, 170, 101, 64, 118, 107, 78, 45, 62, 118, 67, 49, 134, 76, 64, 91, 62, 368, 83, 25, 161, 64, 192, 95, 46, 194, 189, 50, 66, 89, 108, 82, 67, 53, 144, 57, 151, 243, 172, 139, 95, 123, 63, 68, 133, 101, 69, 116, 98, 103, 125, 82, 176, 98, 62, 43, 121, 124, 158, 67, 100, 129, 87, 54, 42, 76, 80, 38, 82, 50, 82, 131, 129, 85, 33, 154, 143, 107, 94, 107, 67, 118, 64, 89, 212, 99, 265, 149, 72, 93, 81, 73, 104, 145, 111, 63, 156, 93, 129, 133, 104, 76, 83, 80, 129, 104, 118, 50, 101, 45, 58, 67, 58, 117, 146, 91, 178, 32, 194, 120, 119, 117, 77, 109, 96, 40, 83, 127, 60, 57, 108, 170, 150, 124, 65, 122, 90, 112, 48, 46, 83, 47, 138, 167, 91, 59, 299, 83, 113, 201, 86, 147, 200, 102, 233, 112, 212, 40, 34, 69, 82, 180, 70, 69, 63, 46, 184, 122, 118, 122, 140, 134, 258, 46, 111, 263, 147, 139, 91, 132, 33, 68, 75, 38, 136, 290, 85, 120, 122, 133, 58, 162, 96, 87, 112, 57, 124, 192, 200, 113, 94, 48, 51, 90, 87, 125, 51, 87, 43, 66, 73, 180, 46, 121, 76, 216, 79, 59, 179, 105, 258, 145, 86, 142, 173, 117, 47, 56, 60, 153, 33, 108, 69, 129, 100, 69, 543, 95, 126, 100, 253, 104, 145, 139, 62, 86, 133, 84, 46, 82, 148, 71, 98, 90, 81, 269, 79, 231, 99, 116, 76, 104, 108, 57, 87, 50, 81, 98, 109, 133, 115, 54, 129, 72, 158, 171, 47, 38, 76, 92, 33, 48, 101, 132, 53, 113, 160, 89, 58, 75, 111, 106, 74, 126, 78, 96, 96, 119, 36, 121, 48, 68, 37, 98, 49, 93, 96, 68, 56, 131, 207, 91, 97, 125, 57, 64, 91, 193, 91, 169, 218, 37, 72, 131, 90, 177, 68, 52, 130, 70, 174, 68, 272, 45, 79, 72, 98, 109, 169, 124, 49, 34, 339, 129, 216, 82, 99, 131, 91, 120, 75, 145, 73, 130, 84, 249, 89, 68, 54, 89, 81, 180, 89, 83, 120, 117, 98, 53, 66, 68, 222, 98, 104, 144, 102, 67, 192, 202, 45, 63, 69, 112, 145, 19, 193, 133, 63, 112, 83, 172, 117, 44, 181, 58, 68, 62, 79, 66, 100, 66, 57, 82, 73, 168, 113, 81, 106, 110, 55, 61, 101, 135, 115, 97, 51, 170, 163, 107, 61, 132, 189, 199, 196, 340, 131, 66, 108, 106, 101, 60, 206, 107, 110, 109, 57, 63, 121, 141, 135, 103, 151, 58, 176, 34, 106, 400, 55, 104, 148, 54, 46, 46, 125, 64, 112, 122, 96, 26, 74, 111, 79, 252, 346, 36, 113, 55, 86, 44, 111, 60, 44, 171, 122, 44, 126, 93, 28, 104, 87, 138, 80, 246, 78, 80, 71, 62, 238, 263, 152, 53, 71, 88, 125, 111, 101, 147, 91, 72, 57, 207, 138, 59, 240, 273, 179, 91, 200, 128, 118, 152, 68, 248, 320, 28, 276, 53, 118, 123, 193, 271, 91, 92, 37, 45, 57, 291, 112, 127, 88, 67, 58, 71, 143, 132, 59, 221, 73, 40, 132, 142, 93, 41, 82, 40, 115, 63, 56, 106, 68, 90, 64, 118, 102, 65, 105, 109, 224, 365, 69, 103, 67, 54, 47, 191, 103, 320, 44, 82, 112, 172, 73, 156, 201, 186, 181, 113, 92, 85, 167, 98, 79, 62, 157, 63, 134, 68, 82, 230, 100, 82, 45, 118, 106, 31, 214, 65, 97, 62, 63, 182, 76, 86, 142, 150, 137, 52, 77, 339, 73, 58, 121, 272, 146, 50, 102, 45, 115, 309, 67, 257, 44, 52, 52, 169, 67, 71, 92, 72, 81, 103, 119, 351, 54, 41, 147, 49, 62, 128, 86, 72, 105, 109, 62, 102, 241, 117, 44, 331, 75, 75, 91, 190, 89, 151, 214, 42, 89, 220, 241, 126, 104, 72, 83, 54, 162, 117, 163, 78, 76, 51, 121, 68, 101, 186, 188, 85, 64, 51, 177, 56, 58, 115, 153, 105, 152, 106, 217, 93, 38, 176, 115, 81, 137, 46, 344, 149, 45, 93, 71, 234, 70, 92, 93, 169, 74, 79, 163, 93, 137, 72, 94, 138, 152, 484, 74, 121, 45, 196, 101, 80, 147, 151, 45, 93, 92, 127, 155, 277, 64, 55, 125, 189, 198, 81, 151, 98, 216, 89, 107, 96, 76, 204, 135, 131, 228, 50, 105, 124, 102, 136, 101, 23, 150, 123, 63, 96, 144, 119, 84, 329, 113, 56, 49, 81, 77, 78, 70, 76, 53, 133, 120, 112, 126, 155, 126, 148, 97, 192, 85, 93, 96, 107, 62, 159, 125, 50, 121, 93, 114, 75, 122, 174, 116, 128, 199, 110, 182, 109, 87, 127, 54, 167, 46, 128, 121, 179, 69, 90, 201, 119, 66, 75, 128, 133, 93, 122, 49, 52, 87, 93, 169, 207, 110, 111, 50, 256, 123, 36, 184, 120, 132, 53, 89, 101, 110, 213, 213, 72, 63, 66, 144, 101, 115, 36, 246, 87, 150, 128, 83, 127, 52, 90, 66, 29, 29, 87, 173, 68, 89, 40, 120, 60, 60, 98, 121, 104, 70, 123, 93, 23, 247, 46, 83, 103, 17, 89, 53, 151, 72, 160, 39, 65, 95, 49, 280, 75, 69, 80, 102, 97, 52, 310, 72, 196, 292, 73, 161, 86, 212, 131, 83, 54, 115, 81, 93, 61, 69, 39, 220, 91, 262, 141, 106, 89, 210, 63, 111, 51, 165, 43, 104, 128, 65, 125, 130, 78, 200, 92, 62, 70, 72, 176, 86, 46, 85, 310, 148, 125, 182, 68, 46, 318, 115, 276, 204, 88, 89, 94, 67, 67, 212, 172, 191, 84, 53, 23, 337, 31, 105, 42, 46, 80, 88, 94, 82, 211, 164, 103, 142, 254, 79, 63, 82, 58, 207, 82, 155, 107, 164, 137, 77, 93, 266, 85, 69, 54, 66, 148, 84, 291, 98, 121, 205, 36, 154, 113, 55, 173, 56, 171, 222, 159, 128, 80, 344, 121, 65, 81, 103, 346, 135, 98, 48, 136, 78, 166, 156, 144, 99, 67, 296, 127, 97, 48, 48, 87, 226, 81, 88, 91, 49, 43, 159, 104, 139, 116, 86, 122, 167, 86, 37, 82, 61, 190, 61, 136, 85, 84, 169, 96, 99, 109, 168, 151, 68, 82, 109, 83, 61, 59, 143, 326, 109, 58, 40, 81, 49, 100, 42, 131, 124, 127, 99, 116, 78, 48, 103, 107, 58, 90, 67, 51, 140, 280, 75, 283, 107, 135, 66, 78, 147, 117, 51, 180, 131, 124, 108, 92, 63, 127, 96, 93, 132, 135, 91, 95, 215, 52, 64, 84, 66, 101, 106, 155, 68, 39, 112, 139, 140, 257, 129, 162, 262, 86, 89, 77, 91, 74, 109, 92, 129, 211, 210, 98, 145, 142, 39, 84, 69, 112, 131, 283, 101, 65, 328, 135, 62, 140, 116, 122, 85, 36, 171, 183, 61, 78, 94, 164, 64, 54, 159, 91, 54, 57, 96, 118, 53, 187, 132, 97, 71, 73, 141, 122, 133, 71, 97, 102, 69, 90, 119, 80, 55, 207, 49, 34, 167, 133, 93, 74, 58, 96, 56, 161, 133, 155, 63, 81, 106, 114, 36, 256, 52, 138, 138, 170, 230, 79, 112, 46, 92, 92, 133, 72, 199, 63, 45, 120, 151, 45, 159, 42, 262, 230, 63, 126, 92, 70, 200, 127, 46, 50, 141, 78, 156, 84, 339, 92, 121, 112, 178, 175, 237, 73, 50, 143, 127, 37, 99, 59, 141, 77, 57, 38, 103, 140, 123, 44, 126, 109, 142, 49, 208, 42, 135, 36, 224, 137, 143, 67, 72, 104, 47, 83, 300, 120, 125, 92, 88, 245, 290, 112, 47, 233, 68, 77, 45, 61, 141, 114, 42, 122, 113, 157, 102, 191, 71, 76, 56, 97, 50, 71, 73, 65, 265, 79, 200, 138, 361, 116, 173, 137, 130, 53, 105, 55, 66, 214, 59, 32, 170, 119, 44, 107, 146, 72, 37, 104, 79, 145, 121, 169, 265, 175, 219, 47, 80, 61, 195, 215, 65, 43, 118, 46, 179, 83, 92, 97, 120, 78, 305, 251, 105, 118, 110, 97, 184, 126, 74, 71, 97, 102, 87, 84, 80, 40, 43, 120, 217, 215, 120, 98, 99, 50, 83, 64, 64, 60, 134, 46, 161, 136, 111, 115, 123, 159, 160, 183, 95, 164, 53, 103, 297, 102, 60, 71, 23, 224, 147, 44, 109, 167, 207, 69, 39, 76, 101, 149, 88, 93, 171, 50, 134, 85, 59, 129, 109, 121, 45, 89, 179, 77, 36, 252, 122, 80, 184, 53, 62, 171, 54, 109, 72, 74, 79, 141, 117, 70, 89, 48, 78, 73, 55, 139, 52, 95, 143, 140, 91, 123, 63, 93, 77, 41, 96, 54, 61, 192, 220, 251, 85, 99, 43, 96, 135, 307, 188, 99, 90, 98, 123, 65, 200, 107, 68, 67, 159, 267, 130, 68, 48, 61, 125, 109, 112, 177, 154, 89, 124, 28, 17, 47, 108, 132, 276, 159, 135, 80, 155, 222, 155, 209, 90, 74, 92, 78, 84, 46, 88, 110, 52, 84, 94, 68, 62, 157, 135, 67, 103, 61, 53, 104, 76, 153, 48, 67, 142, 96, 150, 59, 119, 113, 113, 184, 133, 160, 120, 91, 127, 89, 228, 128, 42, 94, 31, 53, 90, 92, 108, 134, 82, 101, 166, 76, 175, 49, 113, 90, 205, 149, 68, 66, 142, 77, 131, 470, 136, 67, 48, 207, 143, 151, 90, 137, 70, 87, 216, 82, 136, 54, 109, 65, 176, 182, 110, 65, 134, 69, 210, 138, 128, 116, 73, 43, 27, 107, 199, 75, 58, 39, 59, 219, 84, 58, 59, 188, 91, 27, 156, 83, 76, 112, 67, 97, 132, 96, 81, 91, 122, 283, 47, 124, 55, 248, 108, 137, 199, 187, 121, 110, 122, 49, 88, 173, 56, 107, 58, 106, 119, 188, 80, 98, 59, 46, 45, 123, 78, 20, 101, 95, 90, 44, 60, 89, 89, 67, 66, 51, 98, 349, 60, 261, 158, 104, 68, 113, 321, 140, 117, 102, 72, 207, 181, 97, 65, 221, 53, 177, 51, 90, 165, 164, 100, 56, 124, 78, 131, 67, 130, 159, 136, 144, 67, 134, 111, 144, 45, 107, 165, 294, 181, 92, 46, 172, 105, 308, 72, 166, 109, 114, 81, 63, 125, 77, 148, 71, 119, 54, 105, 61, 113, 135, 140, 254, 95, 96, 129, 136, 131, 112, 93, 88, 126, 169, 143, 44, 127, 77, 50, 105, 109, 105, 122, 167, 158, 401, 106, 113, 59, 155, 172, 73, 100, 53, 159, 68, 144, 182, 100, 35, 90, 223, 62, 105, 116, 69, 110, 98, 52, 99, 102, 122, 83, 97, 58, 64, 171, 100, 209, 84, 39, 137, 44, 111, 78, 86, 98, 71, 155, 67, 166, 29, 308, 208, 54, 41, 23, 56, 42, 87, 83, 174, 194, 120, 104, 77, 38, 90, 54, 127, 74, 55, 193, 142, 44, 109, 101, 51, 69, 66, 97, 40, 97, 95, 191, 152, 132, 59, 175, 107, 88, 88, 111, 180, 67, 61, 337, 117, 63, 205, 163, 79, 91, 100, 359, 128, 48, 185, 60, 49, 78, 105, 95, 64, 89, 52, 335, 77, 99, 73, 161, 156, 208, 119, 46, 84, 113, 45, 372, 111, 88, 84, 42, 153, 350, 82, 89, 120, 74, 130, 123, 106, 89, 409, 290, 141, 63, 134, 82, 320, 92, 143, 68, 85, 131, 173, 82, 54, 108, 81, 115, 46, 76, 84, 95, 81, 67, 80, 215, 103, 109, 61, 43, 43, 153, 119, 109, 140, 41, 78, 98, 125, 93, 48, 110, 92, 53, 40, 96, 76, 112, 89, 93, 119, 145, 93, 76, 164, 222, 97, 63, 76, 64, 87, 119, 145, 118, 119, 120, 141, 158, 68, 123, 136, 126, 222, 190, 97, 219, 156, 53, 103, 103, 156, 153, 137, 141, 40, 68, 123, 129, 112, 42, 179, 80, 76, 141, 99, 26, 134, 120, 130, 116, 160, 59, 143, 140, 366, 117, 68, 130, 154, 121, 95, 81, 254, 86, 68, 92, 231, 128, 78, 258, 193, 60, 196, 36, 27, 128, 101, 168, 82, 98, 64, 74, 141, 105, 51, 90, 55, 58, 160, 108, 80, 129, 123, 72, 233, 149, 44, 69, 111, 63, 45, 87, 53, 49, 79, 94, 147, 222, 145, 182, 40, 127, 197, 177, 72, 83, 91, 50, 138, 68, 91, 118, 165, 46, 83, 145, 174, 48, 159, 59, 78, 101, 61, 74, 80, 275, 335, 197, 126, 128, 72, 56, 79, 248, 102, 39, 49, 82, 97, 65, 190, 50, 210, 124, 62, 50, 87, 68, 36, 67, 72, 100, 126, 176, 160, 109, 628, 89, 120, 85, 108, 80, 45, 31, 149, 122, 220, 209, 93, 31, 103, 45, 143, 133, 65, 126, 135, 103, 74, 67, 102, 87, 60, 97, 533, 182, 106, 90, 65, 80, 127, 107, 61, 137, 116, 52, 107, 88, 68, 130, 150, 66, 114, 136, 117, 72, 111, 174, 40, 171, 95, 111, 168, 75, 38, 154, 209, 109, 56, 187, 84, 217, 126, 133, 137, 200, 98, 89, 123, 58, 92, 60, 182, 46, 216, 59, 137, 75, 121, 102, 122, 121, 50, 149, 95, 95, 227, 77, 106, 85, 67, 116, 64, 119, 93, 47, 233, 98, 99, 25, 103, 101, 127, 52, 87, 264, 196, 126, 409, 240, 117, 48, 121, 73, 130, 170, 184, 88, 184, 110, 138, 92, 148, 215, 109, 87, 125, 153, 151, 99, 130, 75, 154, 96, 325, 80, 92, 90, 50, 95, 107, 70, 280, 197, 140, 75, 151, 78, 136, 66, 179, 26, 111, 110, 50, 88, 235, 171, 156, 71, 89, 265, 110, 113, 52, 67, 92, 49, 148, 223, 160, 298, 106, 104, 138, 301, 70, 131, 205, 124, 124, 44, 106, 72, 216, 48, 122, 126, 152, 55, 75, 286, 80, 116, 284, 179, 178, 111, 156, 113, 125, 61, 43, 28, 90, 214, 78, 69, 339, 104, 119, 79, 106, 91, 110, 79, 60, 206, 75, 223, 54, 131, 95, 60, 60, 69, 69, 92, 103, 176, 116, 136, 56, 60, 50, 162, 79, 132, 114, 193, 64, 67, 135, 102, 100, 126, 39, 182, 94, 59, 77, 76, 53, 40, 28, 72, 172, 75, 116, 42, 32, 103, 133, 64, 87, 148, 131, 84, 97, 69, 49, 38, 102, 71, 93, 113, 139, 123, 110, 72, 78, 106, 86, 90, 106, 32, 100, 83, 248, 141, 173, 39, 102, 97, 98, 149, 206, 90, 47, 73, 41, 106, 91, 67, 95, 273, 190, 76, 80, 243, 53, 227, 127, 112, 146, 60, 71, 105, 53, 109, 70, 137, 118, 72, 201, 161, 151, 110, 26, 75, 144, 100, 125, 113, 92, 67, 183, 44, 96, 40, 92, 246, 158, 23, 144, 113, 111, 133, 56, 41, 102, 53, 106, 61, 76, 110, 123, 43, 148, 121, 154, 104, 104, 70, 90, 113, 106, 137, 75, 53, 67, 97, 135, 60, 331, 134, 74, 105, 128, 119, 261, 178, 91, 109, 63, 93, 99, 212, 149, 95, 178, 129, 143, 22, 59, 95, 105, 36, 297, 306, 279, 186, 99, 61, 43, 93, 332, 72, 186, 82, 88, 56, 55, 90, 59, 48, 182, 53, 99, 146, 128, 293, 57, 124, 138, 29, 70, 536, 226, 74, 105, 142, 97, 130, 101, 37, 183, 121, 271, 376, 145, 161, 96, 200, 90, 125, 131, 162, 43, 43, 52, 138, 46, 50, 132, 90, 211, 225, 286, 152, 76, 156, 139, 149, 166, 21, 108, 163, 118, 136, 150, 108, 110, 46, 289, 82, 140, 52, 234, 86, 81, 103, 43, 55, 104, 65, 143, 63, 63, 62, 71, 115, 263, 151, 46, 138, 88, 37, 104, 44, 71, 55, 60, 171, 73, 105, 113, 84, 137, 112, 124, 94, 145, 121, 46, 39, 164, 60, 98, 57, 49, 49, 35, 53, 113, 207, 27, 102, 64, 94, 41, 146, 104, 49, 47, 89, 119, 67, 144, 66, 133, 139, 106, 419, 233, 156, 145, 45, 121, 117, 128, 261, 150, 169, 104, 117, 47, 70, 175, 85, 129, 129, 69, 101, 56, 61, 135, 153, 66, 86, 63, 78, 328, 146, 87, 86, 78, 188, 41, 111, 79, 44, 70, 130, 111, 57, 106, 57, 23, 165, 89, 63, 154, 83, 40, 227, 121, 111, 149, 95, 97, 102, 77, 132, 109, 118, 172, 154, 139, 87, 106, 68, 164, 105, 82, 87, 118, 85, 172, 172, 181, 107, 139, 130, 83, 198, 363, 37, 95, 134, 121, 149, 49, 115, 103, 63, 140, 193, 48, 162, 108, 94, 124, 66, 67, 133, 156, 146, 84, 24, 96, 133, 146, 121, 159, 204, 56, 110, 140, 183, 143, 173, 57, 54, 46, 74, 46, 165, 95, 42, 354, 74, 44, 108, 115, 43, 38, 102, 188, 90, 35, 94, 113, 101, 66, 106, 72, 65, 67, 61, 136, 159, 168, 43, 257, 108, 198, 114, 76, 82, 166, 110, 200, 115, 70, 167, 128, 50, 138, 125, 93, 38, 93, 108, 56, 118, 144, 60, 243, 69, 124, 159, 71, 252, 21, 58, 78, 129, 136, 43, 300, 50, 45, 81, 63, 61, 44, 236, 190, 168, 155, 150, 114, 58, 46, 206, 62, 54, 148, 70, 157, 177, 128, 94, 200, 76, 48, 112, 142, 119, 38, 78, 67, 82, 180, 105, 194, 41, 60, 57, 167, 105, 78, 137, 130, 51, 80, 126, 54, 167, 192, 110, 231, 76, 60, 104, 100, 96, 35, 102, 78, 175, 266, 128, 100, 32, 50, 102, 80, 50, 376, 96, 99, 83, 86, 145, 72, 51, 27, 152, 114, 76, 166, 106, 315, 99, 167, 192, 184, 163, 148, 119, 132, 87, 64, 79, 124, 109, 261, 161, 117, 40, 154, 60, 61, 54, 179, 112, 102, 116, 120, 223, 77, 49, 86, 116, 221, 92, 67, 95, 70, 64, 154, 403, 104, 122, 43, 71, 116, 82, 118, 114, 149, 82, 93, 46, 39, 127, 305, 76, 95, 276, 113, 33, 111, 179, 379, 67, 111, 98, 162, 76, 119, 76, 102, 127, 66, 75, 94, 381, 116, 249, 93, 124, 132, 79, 102, 125, 82, 112, 99, 125, 110, 75, 77, 82, 96, 156, 176, 87, 100, 116, 63, 129, 60, 86, 61, 33, 100, 109, 67, 517, 81, 191, 101, 92, 122, 106, 51, 135, 111, 128, 121, 73, 69, 235, 45, 109, 238, 203, 103, 212, 101, 130, 114, 102, 163, 119, 80, 159, 37, 198, 75, 231, 105, 212, 167, 174, 197, 104, 74, 75, 136, 102, 104, 63, 111, 69, 180, 133, 49, 73, 57, 27, 134, 138, 188, 166, 128, 236, 100, 133, 47, 57, 44, 163, 275, 70, 53, 203, 181, 120, 79, 54, 289, 122, 52, 214, 146, 63, 157, 58, 182, 59, 82, 151, 35, 116, 57, 109, 150, 102, 205, 48, 71, 144, 81, 59, 76, 311, 116, 80, 147, 59, 42, 112, 98, 136, 318, 221, 129, 115, 41, 149, 48, 99, 52, 83, 97, 112, 222, 149, 270, 153, 202, 151, 97, 114, 68, 85, 83, 114, 165, 100, 39, 46, 51, 54, 147, 78, 76, 125, 58, 33, 114, 87, 69, 90, 87, 76, 95, 75, 121, 96, 93, 114, 108, 244, 376, 120, 290, 84, 74, 56, 126, 140, 184, 120, 29, 121, 56, 54, 118, 96, 86, 81, 50, 76, 283, 149, 166, 581, 99, 142, 88, 99, 68, 141, 161, 82, 154, 81, 150, 146, 156, 129, 87, 124, 99, 112, 91, 139, 96, 85, 192, 86, 61, 138, 65, 52, 82, 126, 185, 84, 101, 458, 181, 85, 50, 63, 81, 155, 94, 89, 184, 66, 292, 129, 105, 84, 71, 86, 80, 22, 81, 114, 212, 80, 56, 58, 112, 52, 102, 224, 165, 103, 41, 58, 61, 89, 72, 115, 131, 60, 126, 43, 150, 79, 120, 122, 43, 90, 106, 181, 78, 148, 129, 51, 57, 116, 39, 101, 240, 78, 65, 109, 61, 83, 63, 127, 92, 54, 43, 82, 118, 116, 184, 97, 246, 57, 161, 102, 398, 47, 142, 75, 116, 133, 127, 90, 86, 54, 178, 145, 76, 88, 137, 83, 114, 88, 146, 146, 98, 65, 133, 115, 84, 139, 46, 147, 45, 119, 54, 82, 173, 144, 144, 82, 46, 279, 85, 82, 106, 367, 215, 170, 218, 58, 87, 56, 107, 41, 112, 79, 110, 133, 122, 250, 108, 50, 54, 105, 113, 79, 102, 179, 96, 105, 137, 349, 167, 109, 82, 24, 112, 233, 92, 112, 102, 77, 110, 433, 60, 68, 57, 94, 250, 492, 151, 103, 113, 68, 105, 251, 108, 144, 115, 105, 86, 104, 112, 135, 88, 78, 135, 52, 57, 102, 110, 84, 184, 81, 52, 113, 142, 45, 170, 49, 128, 155, 113, 143, 132, 66, 141, 67, 42, 58, 49, 97, 87, 63, 133, 171, 53, 134, 55, 133, 136, 126, 168, 73, 142, 69, 43, 110, 77, 301, 88, 121, 262, 51, 51, 69, 65, 125, 48, 124, 193, 100, 166, 96, 66, 337, 205, 127, 173, 125, 126, 49, 112, 104, 42, 52, 70, 100, 95, 127, 126, 84, 167, 72, 221, 113, 132, 26, 148, 108, 62, 65, 56, 68, 97, 142, 145, 133, 107, 186, 26, 56, 111, 85, 193, 47, 84, 145, 90, 80, 105, 83, 60, 107, 180, 92, 390, 61, 125, 52, 98, 80, 252, 136, 108, 276, 155, 164, 46, 225, 408, 227, 179, 209, 47, 88, 98, 127, 79, 111, 73, 34, 84, 49, 118, 91, 64, 117, 98, 101, 168, 112, 75, 92, 84, 66, 103, 70, 70, 150, 58, 147, 81, 85, 54, 191, 257, 193, 114, 153, 153, 40, 66, 48, 94, 90, 123, 91, 219, 87, 35, 230, 159, 48, 110, 43, 191, 116, 44, 53, 50, 85, 231, 94, 93, 33, 81, 86, 89, 46, 99, 84, 74, 275, 102, 101, 92, 152, 137, 114, 62, 36, 163, 99, 58, 196, 207, 241, 34, 97, 99, 114, 93, 89, 82, 84, 93, 164, 108, 77, 170, 89, 75, 81, 209, 122, 137, 129, 90, 99, 124, 75, 88, 208, 158, 131, 63, 98, 58, 46, 134, 147, 41, 135, 82, 182, 103, 58, 53, 93, 38, 97, 75, 241, 77, 145, 113, 50, 84, 211, 84, 127, 22, 65, 49, 42, 375, 152, 55, 58, 75, 49, 105, 39, 81, 119, 31, 86, 249, 148, 75, 128, 134, 190, 99, 63, 101, 49, 126, 153, 89, 103, 79, 152, 107, 86, 153, 92, 84, 122, 90, 166, 82, 76, 91, 237, 139, 104, 93, 270, 158, 67, 114, 68, 164, 372, 89, 70, 99, 104, 115, 130, 132, 127, 96, 111, 55, 109, 35, 68, 176, 43, 145, 152, 66, 83, 187, 125, 96, 121, 88, 54, 128, 124, 40, 164, 85, 239, 131, 168, 106, 67, 85, 112, 345, 103, 129, 75, 71, 113, 95, 217, 57, 62, 172, 47, 59, 40, 66, 170, 119, 106, 48, 128, 319, 104, 342, 70, 118, 43, 317, 179, 95, 40, 107, 41, 145, 191, 71, 52, 130, 110, 68, 174, 66, 34, 53, 100, 76, 65, 425, 75, 347, 63, 90, 70, 212, 49, 161, 97, 170, 93, 63, 48, 42, 113, 173, 83, 134, 29, 63, 125, 370, 64, 59, 148, 85, 99, 211, 195, 160, 99, 87, 37, 47, 173, 39, 95, 170, 96, 109, 119, 55, 65, 132, 64, 80, 103, 145, 116, 46, 36, 61, 100, 199, 135, 69, 138, 74, 84, 155, 142, 154, 135, 149, 53, 145, 134, 41, 182, 103, 58, 155, 84, 63, 126, 230, 251, 92, 82, 112, 160, 23, 79, 155, 310, 54, 147, 161, 234, 227, 59, 40, 83, 157, 319, 126, 87, 70, 47, 49, 79, 75, 47, 87, 122, 124, 54, 122, 162, 150, 79, 82, 105, 262, 51, 88, 179, 280, 145, 127, 314, 57, 84, 45, 131, 91, 196, 144, 166, 90, 108, 54, 34, 76, 63, 49, 207, 212, 144, 125, 109, 34, 98, 218, 177, 104, 21, 97, 117, 258, 82, 265, 136, 21, 121, 183, 156, 151, 104, 182, 63, 65, 198, 47, 75, 103, 228, 65, 95, 130, 210, 102, 151, 131, 118, 98, 84, 157, 35, 232, 34, 269, 58, 87, 93, 216, 172, 96, 157, 107, 216, 36, 74, 102, 144, 41, 82, 21, 216, 90, 44, 123, 68, 96, 112, 64, 102, 90, 121, 67, 113, 185, 98, 97, 178, 157, 52, 79, 256, 85, 100, 42, 120, 159, 91, 325, 115, 152, 121, 256, 56, 100, 286, 90, 75, 55, 62, 52, 109, 140, 121, 80, 106, 125, 33, 79, 152, 99, 97, 155, 188, 95, 60, 106, 108, 20, 84, 160, 197, 159, 52, 64, 112, 158, 143, 53, 43, 118, 89, 131, 60, 98, 116, 148, 103, 85, 79, 89, 141, 66, 68, 141, 56, 161, 143, 43, 97, 55, 35, 47, 79, 74, 859, 66, 84, 159, 157, 144, 127, 108, 52, 204, 113, 74, 48, 42, 83, 93, 99, 118, 124, 117, 71, 155, 105, 41, 63, 50, 136, 185, 141, 78, 163, 156, 115, 118, 153, 156, 164, 99, 125, 54, 52, 138, 120, 261, 131, 164, 119, 56, 48, 108, 71, 74, 65, 189, 95, 177, 144, 107, 58, 125, 54, 112, 37, 76, 122, 223, 80, 105, 81, 51, 63, 106, 163, 109, 45, 139, 42, 71, 46, 156, 89, 61, 144, 45, 136, 102, 160, 114, 142, 68, 104, 189, 136, 225, 100, 111, 33, 99, 222, 113, 47, 133, 43, 156, 69, 65, 140, 148, 91, 47, 82, 64, 48, 157, 54, 176, 119, 138, 92, 68, 144, 114, 145, 84, 73, 248, 229, 54, 101, 142, 109, 210, 286, 103, 210, 247, 52, 178, 211, 127, 26, 123, 49, 63, 189, 105, 111, 326, 87, 50, 72, 75, 121, 63, 97, 178, 47, 50, 228, 120, 73, 294, 92, 212, 200, 53, 88, 49, 56, 279, 68, 88, 173, 309, 125, 166, 340, 95, 64, 151, 114, 130, 79, 43, 41, 69, 47, 234, 68, 109, 75, 105, 36, 77, 218, 186, 227, 41, 49, 43, 167, 60, 89, 87, 295, 72, 50, 107, 51, 68, 129, 60, 86, 109, 104, 34, 81, 108, 70, 90, 64, 162, 120, 65, 91, 148, 52, 105, 87, 98, 41, 53, 195, 118, 109, 121, 192, 182, 95, 114, 330, 89, 81, 73, 111, 40, 287, 280, 65, 143, 242, 86, 93, 89, 91, 135, 124, 245, 53, 70, 131, 111, 42, 139, 78, 102, 127, 170, 43, 93, 103, 39, 95, 57, 160, 158, 129, 116, 37, 156, 83, 89, 95, 308, 109, 128, 130, 284, 86, 152, 184, 24, 110, 106, 84, 52, 194, 79, 166, 37, 173, 72, 115, 556, 158, 60, 173, 33, 143, 105, 132, 85, 122, 115, 104, 150, 269, 43, 50, 148, 170, 267, 177, 55, 114, 44, 88, 58, 143, 222, 104, 121, 134, 120, 131, 78, 117, 92, 92, 295, 16, 89, 56, 77, 140, 90, 125, 162, 44, 60, 59, 55, 136, 93, 214, 421, 150, 58, 140, 112, 117, 165, 195, 125, 38, 69, 109, 167, 242, 75, 296, 135, 144, 158, 64, 80, 125, 119, 134, 104, 137, 200, 95, 172, 82, 213, 169, 107, 130, 32, 87, 137, 59, 183, 81, 33, 55, 46, 114, 78, 69, 120, 20, 135, 111, 194, 60, 47, 85, 76, 47, 224, 47, 55, 259, 55, 98, 89, 379, 64, 92, 59, 68, 109, 91, 220, 139, 251, 96, 119, 203, 137, 72, 196, 105, 128, 66, 70, 128, 81, 64, 78, 115, 134, 429, 59, 123, 82, 121, 77, 66, 103, 46, 169, 80, 156, 118, 34, 72, 117, 74, 142, 88, 67, 326, 46, 161, 238, 99, 169, 64, 34, 151, 135, 112, 38, 126, 72, 52, 46, 148, 178, 70, 143, 113, 137, 137, 64, 32, 129, 316, 79, 66, 78, 78, 120, 92, 142, 173, 280, 42, 57, 84, 179, 113, 36, 107, 55, 123, 63, 58, 184, 89, 132, 49, 44, 54, 167, 88, 184, 116, 101, 77, 99, 82, 184, 303, 165, 121, 68, 36, 278, 100, 139, 89, 47, 135, 66, 229, 69, 50, 63, 88, 59, 82, 291, 61, 70, 66, 56, 144, 81, 63, 69, 242, 118, 50, 76, 59, 102, 71, 76, 60, 190, 127, 107, 141, 130, 80, 103, 173, 120, 95, 119, 223, 62, 121, 65, 80, 50, 131, 122, 72, 88, 177, 66, 113, 175, 130, 97, 320, 28, 119, 139, 108, 108, 153, 71, 37, 206, 124, 50, 47, 66, 39, 80, 49, 142, 62, 70, 70, 90, 83, 53, 73, 36, 181, 172, 28, 64, 76, 112, 187, 80, 142, 123, 123, 255, 47, 141, 110, 75, 43, 59, 90, 28, 46, 145, 60, 207, 121, 88, 101, 66, 103, 64, 125, 99, 243, 178, 227, 110, 82, 67, 107, 184, 125, 130, 159, 79, 105, 47, 72, 94, 94, 94, 63, 104, 45, 95, 170, 116, 96, 39, 98, 60, 176, 171, 162, 102, 40, 118, 193, 49, 38, 120, 134, 133, 123, 101, 191, 45, 200, 132, 108, 109, 38, 46, 140, 66, 41, 111, 61, 272, 139, 208, 64, 37, 93, 95, 134, 128, 98, 56, 76, 70, 130, 127, 142, 690, 163, 69, 55, 336, 106, 39, 84, 56, 86, 56, 83, 83, 87, 131, 478, 122, 65, 126, 221, 340, 99, 95, 95, 87, 59, 112, 112, 108, 193, 186, 60, 112, 32, 53, 248, 44, 158, 75, 115, 70, 139, 52, 89, 136, 78, 101, 114, 72, 253, 280, 88, 74, 97, 144, 48, 225, 52, 58, 82, 190, 102, 70, 76, 221, 89, 144, 76, 100, 66, 106, 169, 164, 101, 84, 114, 139, 114, 97, 30, 112, 146, 110, 41, 66, 101, 89, 168, 90, 137, 92, 51, 266, 322, 182, 184, 123, 123, 114, 126, 93, 118, 299, 153, 35, 172, 57, 136, 72, 139, 151, 27, 71, 91, 79, 90, 121, 104, 82, 242, 48, 79, 40, 156, 159, 98, 56, 80, 88, 67, 59, 48, 76, 112, 110, 184, 181, 47, 139, 157, 257, 146, 81, 127, 138, 126, 82, 66, 140, 145, 137, 203, 144, 53, 111, 66, 159, 48, 81, 48, 184, 179, 67, 144, 113, 123, 34, 135, 165, 79, 133, 224, 204, 113, 71, 122, 110, 116, 66, 77, 27, 193, 110, 53, 92, 64, 131, 184, 65, 112, 49, 107, 98, 77, 95, 140, 182, 41, 76, 51, 50, 43, 79, 124, 181, 402, 97, 210, 90, 157, 104, 91, 85, 90, 90, 96, 56, 132, 130, 29, 240, 135, 137, 30, 89, 66, 154, 170, 97, 110, 274, 125, 36, 119, 78, 59, 243, 102, 63, 64, 128, 131, 64, 118, 87, 68, 70, 47, 127, 156, 132, 114, 137, 109, 119, 72, 89, 73, 27, 181, 60, 187, 45, 55, 95, 100, 113, 53, 103, 132, 95, 116, 52, 131, 95, 114, 129, 83, 86, 124, 213, 106, 120, 243, 113, 66, 181, 110, 209, 21, 128, 143, 84, 43, 174, 164, 100, 48, 98, 62, 38, 38, 26, 164, 39, 128, 66, 98, 48, 217, 118, 74, 55, 112, 53, 111, 73, 33, 84, 166, 61, 40, 206, 144, 281, 166, 58, 111, 38, 47, 197, 91, 89, 95, 44, 117, 113, 57, 131, 405, 127, 151, 96, 104, 113, 101, 56, 221, 83, 72, 94, 46, 116, 184, 48, 165, 92, 59, 207, 71, 99, 109, 110, 121, 114, 93, 103, 124, 66, 83, 40, 148, 109, 69, 158, 188, 196, 104, 44, 128, 75, 91, 273, 97, 109, 190, 118, 206, 106, 79, 52, 136, 75, 114, 77, 46, 164, 83, 110, 94, 35, 93, 94, 60, 268, 98, 97, 41, 112, 130, 61, 405, 129, 122, 78, 113, 53, 116, 191, 443, 145, 112, 86, 202, 97, 47, 113, 35, 105, 46, 28, 97, 128, 48, 53, 94, 196, 312, 71, 179, 178, 53, 123, 98, 129, 115, 128, 137, 164, 111, 100, 90, 67, 49, 169, 153, 62, 74, 67, 199, 67, 48, 73, 21, 133, 56, 225, 58, 76, 71, 106, 142, 107, 160, 138, 123, 127, 89, 96, 237, 51, 77, 71, 119, 111, 123, 59, 52, 92, 284, 76, 88, 82, 92, 111, 73, 102, 94, 177, 126, 371, 101, 202, 34, 357, 85, 131, 184, 61, 164, 27, 59, 67, 58, 91, 106, 56, 68, 80, 53, 122, 100, 141, 62, 78, 132, 104, 111, 49, 103, 57, 30, 110, 81, 107, 152, 181, 244, 64, 72, 195, 146, 158, 43, 192, 126, 94, 158, 63, 56, 48, 142, 146, 77, 100, 443, 48, 102, 257, 50, 238, 124, 159, 87, 114, 119, 63, 142, 55, 66, 82, 42, 115, 209, 33, 111, 130, 88, 53, 101, 36, 71, 41, 127, 110, 78, 93, 66, 148, 187, 61, 101, 62, 99, 188, 142, 72, 264, 68, 111, 45, 103, 71, 137, 124, 103, 77, 56, 95, 45, 88, 174, 50, 74, 179, 166, 103, 87, 112, 244, 97, 126, 109, 40, 61, 53, 139, 60, 128, 51, 152, 163, 96, 100, 52, 88, 112, 101, 53, 67, 55, 88, 150, 89, 73, 146, 55, 164, 166, 56, 115, 165, 138, 175, 97, 110, 62, 48, 43, 171, 101, 98, 75, 46, 34, 79, 46, 61, 221, 238, 46, 116, 158, 78, 54, 76, 45, 143, 105, 82, 78, 102, 79, 149, 104, 116, 168, 187, 43, 52, 61, 78, 127, 95, 44, 207, 133, 49, 128, 119, 484, 87, 95, 88, 135, 34, 30, 158, 118, 48, 52, 237, 213, 56, 138, 328, 99, 73, 80, 200, 71, 198, 73, 55, 78, 200, 135, 98, 44, 46, 109, 175, 197, 104, 153, 45, 81, 72, 63, 77, 128, 85, 108, 75, 45, 142, 158, 32, 31, 115, 100, 55, 120, 27, 71, 439, 81, 95, 109, 142, 53, 95, 355, 22, 157, 175, 168, 217, 162, 91, 91, 93, 186, 212, 47, 109, 71, 31, 321, 176, 85, 48, 86, 62, 35, 204, 93, 41, 128, 65, 210, 85, 99, 156, 79, 42, 119, 115, 59, 43, 134, 158, 351, 148, 269, 92, 106, 154, 105, 68, 55, 97, 93, 334, 60, 109, 48, 136, 57, 131, 47, 107, 124, 237, 51, 24, 58, 135, 136, 77, 105, 54, 134, 123, 146, 155, 192, 118, 77, 72, 143, 67, 155, 130, 116, 81, 100, 244, 149, 50, 96, 303, 80, 68, 34, 238, 20, 47, 177, 91, 106, 51, 120, 68, 42, 604, 97, 113, 167, 261, 160, 117, 79, 34, 199, 106, 138, 66, 63, 146, 97, 76, 151, 59, 223, 65, 64, 32, 54, 54, 104, 59, 70, 103, 88, 198, 245, 96, 119, 78, 70, 98, 60, 54, 60, 51, 75, 129, 22, 76, 107, 106, 85, 41, 119, 82, 55, 295, 103, 87, 94, 127, 44, 41, 150, 56, 49, 118, 91, 70, 96, 66, 56, 86, 192, 177, 105, 60, 65, 102, 169, 165, 93, 46, 39, 76, 111, 33, 114, 158, 126, 85, 243, 69, 108, 143, 93, 168, 242, 109, 111, 60, 141, 106, 142, 90, 127, 131, 402, 85, 79, 176, 76, 96, 58, 117, 47, 70, 43, 113, 233, 169, 133, 246, 38, 39, 100, 122, 92, 60, 153, 64, 82, 36, 109, 65, 49, 96, 526, 97, 72, 154, 67, 91, 161, 134, 143, 60, 56, 32, 84, 112, 273, 98, 94, 157, 102, 63, 102, 159, 60, 66, 128, 260, 31, 146, 53, 124, 44, 51, 44, 145, 121, 104, 73, 191, 106, 130, 164, 377, 87, 87, 80, 105, 92, 87, 80, 83, 257, 45, 212, 256, 60, 100, 99, 73, 111, 86, 76, 168, 121, 117, 61, 88, 135, 148, 70, 294, 84, 96, 46, 44, 123, 182, 39, 102, 133, 84, 50, 48, 55, 160, 51, 110, 120, 108, 72, 133, 118, 57, 116, 117, 37, 192, 58, 48, 113, 100, 199, 31, 138, 90, 181, 117, 90, 167, 109, 103, 71, 48, 177, 131, 149, 61, 121, 152, 46, 121, 182, 82, 66, 77, 82, 104, 113, 50, 155, 131, 57, 106, 87, 49, 82, 40, 84, 162, 76, 113, 114, 151, 88, 224, 49, 87, 140, 86, 159, 85, 68, 160, 53, 154, 158, 266, 102, 77, 114, 55, 99, 155, 50, 94, 78, 138, 115, 222, 64, 105, 80, 49, 241, 196, 97, 178, 71, 52, 164, 82, 89, 98, 137, 74, 49, 115, 167, 109, 53, 75, 51, 45, 242, 115, 144, 53, 379, 101, 50, 38, 120, 96, 37, 77, 82, 140, 50, 187, 77, 88, 45, 103, 67, 140, 28, 143, 74, 93, 53, 285, 37, 41, 134, 119, 134, 174, 158, 52, 56, 124, 67, 69, 119, 133, 115, 105, 230, 126, 84, 249, 31, 267, 87, 125, 64, 95, 115, 119, 130, 141, 83, 30, 138, 160, 175, 31, 202, 141, 364, 161, 65, 118, 156, 91, 65, 224, 114, 74, 127, 85, 92, 90, 77, 61, 88, 58, 181, 60, 82, 57, 240, 39, 108, 93, 72, 147, 144, 132, 89, 172, 108, 63, 133, 127, 177, 89, 183, 100, 70, 112, 82, 57, 137, 54, 111, 125, 139, 97, 113, 42, 445, 98, 46, 203, 66, 32, 143, 115, 92, 230, 97, 28, 466, 181, 103, 133, 124, 92, 171, 63, 120, 105, 78, 87, 92, 128, 24, 89, 56, 103, 102, 153, 220, 94, 107, 88, 114, 126, 63, 162, 133, 78, 45, 96, 167, 96, 126, 127, 44, 144, 296, 120, 67, 148, 165, 155, 108, 120, 104, 91, 60, 116, 62, 83, 117, 80, 141, 205, 30, 235, 122, 112, 113, 95, 53, 100, 106, 219, 67, 57, 134, 143, 31, 120, 147, 141, 52, 71, 300, 151, 47, 128, 139, 64, 56, 124, 174, 45, 164, 46, 37, 214, 56, 63, 300, 168, 92, 54, 102, 44, 93, 147, 194, 115, 117, 75, 51, 51, 185, 128, 40, 170, 155, 118, 126, 120, 47, 147, 167, 215, 170, 72, 103, 38, 81, 41, 124, 161, 116, 63, 190, 58, 278, 188, 115, 101, 31, 157, 92, 146, 94, 130, 100, 46, 118, 168, 158, 160, 236, 158, 92, 102, 94, 104, 84, 30, 129, 96, 132, 96, 102, 181, 70, 78, 58, 120, 113, 49, 101, 69, 106, 147, 123, 151, 53, 50, 263, 214, 105, 121, 112, 73, 89, 49, 104, 225, 111, 152, 69, 226, 158, 220, 48, 66, 181, 90, 101, 61, 124, 121, 104, 186, 83, 64, 30, 95, 58, 123, 120, 57, 106, 135, 120, 164, 90, 94, 72, 129, 77, 57, 203, 105, 84, 147, 225, 220, 55, 110, 78, 69, 102, 83, 199, 159, 98, 117, 39, 46, 114, 96, 162, 127, 119, 54, 96, 130, 197, 202, 148, 40, 142, 139, 51, 420, 119, 60, 140, 42, 95, 55, 89, 102, 78, 80, 129, 76, 85, 196, 71, 246, 252, 53, 111, 92, 93, 137, 37, 63, 121, 59, 132, 87, 91, 109, 102, 82, 113, 68, 195, 106, 121, 115, 412, 267, 117, 108, 52, 91, 116, 220, 121, 111, 155, 124, 117, 89, 84, 44, 118, 106, 92, 67, 132, 46, 139, 294, 140, 92, 45, 71, 159, 53, 44, 250, 84, 98, 90, 125, 142, 130, 43, 41, 113, 98, 74, 194, 74, 124, 350, 99, 82, 41, 113, 124, 140, 117, 365, 101, 91, 42, 66, 94, 149, 61, 51, 84, 147, 89, 94, 161, 143, 180, 89, 120, 55, 117, 82, 227, 37, 97, 138, 54, 70, 434, 64, 77, 35, 230, 387, 138, 38, 120, 148, 101, 52, 467, 102, 149, 78, 125, 128, 60, 60, 156, 48, 110, 122, 167, 114, 77, 48, 66, 85, 43, 86, 319, 96, 186, 71, 169, 72, 200, 62, 496, 64, 38, 110, 149, 65, 85, 323, 107, 71, 89, 158, 120, 141, 162, 106, 57, 74, 40, 123, 69, 30, 87, 90, 82, 97, 88, 83, 83, 185, 53, 28, 97, 280, 120, 81, 83, 73, 119, 35, 189, 103, 62, 76, 134, 104, 487, 30, 107, 55, 171, 57, 136, 121, 137, 245, 114, 85, 127, 48, 58, 179, 81, 71, 81, 206, 130, 118, 171, 220, 135, 196, 113, 101, 102, 182, 167, 70, 73, 104, 109, 73, 95, 124, 60, 126, 103, 82, 99, 116, 210, 64, 167, 276, 77, 100, 139, 181, 51, 112, 140, 94, 194, 177, 99, 298, 53, 189, 64, 132, 76, 77, 107, 133, 148, 59, 158, 82, 38, 108, 121, 117, 95, 184, 92, 85, 103, 82, 219, 108, 70, 90, 98, 178, 181, 120, 140, 116, 133, 47, 111, 34, 68, 83, 147, 119, 67, 116, 101, 72, 170, 99, 40, 151, 105, 111, 17, 71, 220, 104, 148, 88, 38, 46, 82, 97, 90, 168, 79, 111, 143, 66, 64, 117, 89, 78, 119, 126, 75, 435, 193, 57, 179, 140, 152, 135, 81, 70, 110, 62, 115, 78, 191, 119, 118, 220, 79, 51, 46, 164, 54, 25, 66, 214, 78, 116, 117, 372, 209, 133, 152, 78, 276, 110, 139, 90, 57, 116, 288, 230, 95, 63, 143, 56, 112, 125, 272, 72, 32, 72, 464, 121, 197, 63, 84, 137, 111, 160, 42, 198, 193, 69, 148, 71, 79, 175, 104, 182, 195, 143, 214, 25, 79, 79, 57, 105, 224, 213, 109, 39, 115, 71, 132, 65, 229, 69, 118, 90, 78, 85, 91, 496, 111, 42, 113, 48, 223, 67, 173, 86, 48, 120, 136, 150, 142, 116, 179, 166, 128, 125, 194, 107, 101, 105, 98, 123, 128, 187, 106, 37, 62, 58, 70, 38, 114, 275, 54, 43, 47, 204, 88, 51, 112, 671, 119, 191, 162, 48, 129, 120, 156, 104, 287, 84, 73, 54, 58, 193, 35, 225, 44, 105, 99, 100, 175, 93, 192, 197, 136, 199, 196, 119, 80, 108, 306, 60, 66, 104, 146, 144, 103, 36, 78, 53, 85, 83, 49, 68, 37, 154, 61, 44, 101, 184, 77, 168, 93, 93, 109, 116, 112, 81, 127, 127, 100, 137, 104, 91, 107, 71, 110, 87, 59, 362, 167, 47, 94, 140, 92, 79, 110, 80, 93, 158, 174, 82, 82, 81, 53, 137, 207, 109, 74, 68, 45, 125, 207, 78, 67, 79, 47, 157, 70, 264, 201, 197, 28, 132, 177, 146, 147, 220, 113, 50, 55, 128, 99, 87, 70, 88, 76, 136, 57, 58, 144, 211, 87, 125, 90, 156, 80, 114, 128, 111, 133, 180, 123, 112, 180, 94, 119, 168, 152, 118, 52, 154, 142, 43, 83, 32, 93, 100, 59, 106, 105, 57, 75, 113, 117, 118, 73, 186, 42, 46, 60, 108, 55, 115, 257, 359, 170, 95, 67, 217, 119, 86, 96, 49, 50, 61, 75, 116, 35, 81, 63, 200, 99, 90, 143, 132, 128, 196, 131, 84, 61, 130, 80, 142, 63, 124, 41, 83, 50, 98, 95, 230, 63, 35, 94, 78, 72, 70, 107, 36, 110, 44, 87, 73, 84, 107, 102, 70, 66, 141, 114, 72, 61, 197, 67, 253, 186, 137, 51, 179, 143, 52, 150, 76, 79, 150, 111, 115, 132, 100, 51, 106, 299, 72, 62, 155, 123, 62, 187, 134, 70, 135, 92, 72, 136, 213, 279, 74, 37, 283, 84, 104, 157, 195, 66, 336, 103, 92, 62, 120, 74, 159, 105, 103, 46, 61, 48, 79, 94, 70, 57, 124, 211, 94, 68, 74, 33, 85, 185, 70, 61, 136, 35, 89, 60, 140, 36, 64, 127, 57, 60, 49, 141, 92, 60, 271, 98, 141, 343, 158, 58, 49, 81, 159, 99, 115, 226, 92, 221, 459, 272, 74, 127, 276, 50, 124, 106, 54, 203, 141, 105, 63, 29, 113, 47, 113, 307, 49, 395, 73, 160, 133, 50, 61, 247, 218, 153, 37, 116, 234, 94, 160, 69, 43, 107, 40, 119, 51, 75, 86, 95, 177, 47, 36, 72, 56, 109, 32, 171, 46, 123, 74, 219, 60, 114, 27, 91, 40, 60, 121, 133, 151, 95, 133, 49, 222, 149, 92, 61, 146, 82, 47, 70, 173, 37, 73, 163, 92, 114, 173, 25, 171, 113, 111, 104, 221, 58, 278, 78, 80, 48, 110, 68, 81, 104, 151, 125, 47, 116, 94, 131, 224, 190, 39, 64, 85, 74, 66, 141, 129, 143, 113, 129, 208, 53, 197, 49, 162, 130, 51, 52, 102, 93, 118, 56, 97, 65, 84, 30, 207, 289, 167, 71, 45, 60, 91, 107, 85, 69, 51, 159, 94, 134, 83, 75, 91, 118, 327, 195, 132, 151, 192, 109, 102, 29, 225, 123, 66, 37, 77, 72, 75, 68, 89, 167, 134, 61, 213, 174, 117, 99, 209, 125, 112, 312, 56, 720, 244, 80, 70, 129, 53, 106, 117, 74, 127, 78, 113, 72, 105, 53, 73, 103, 58, 130, 60, 88, 208, 367, 90, 55, 102, 46, 77, 151, 69, 41, 121, 219, 144, 95, 50, 152, 133, 109, 271, 90, 179, 75, 242, 118, 113, 99, 110, 91, 182, 122, 173, 72, 145, 150, 44, 48, 82, 128, 180, 147, 176, 142, 80, 94, 779, 108, 75, 55, 76, 121, 144, 38, 208, 197, 198, 95, 109, 227, 92, 104, 288, 59, 115, 73, 56, 78, 82, 78, 199, 123, 49, 213, 47, 71, 219, 98, 170, 97, 109, 108, 167, 92, 203, 76, 92, 225, 194, 134, 84, 76, 103, 112, 78, 58, 262, 98, 106, 65, 97, 88, 20, 117, 158, 112, 56, 98, 82, 171, 106, 88, 122, 149, 48, 22, 81, 115, 55, 37, 90, 275, 79, 52, 60, 100, 92, 79, 104, 88, 396, 118, 43, 87, 256, 182, 394, 100, 92, 47, 183, 56, 104, 168, 119, 229, 103, 75, 224, 95, 321, 42, 66, 241, 79, 99, 67, 79, 126, 116, 187, 57, 68, 127, 119, 69, 153, 143, 44, 108, 147, 29, 104, 133, 130, 113, 42, 63, 77, 146, 221, 64, 117, 60, 105, 109, 94, 168, 89, 99, 69, 82, 152, 137, 83, 123, 113, 79, 114, 88, 113, 78, 93, 180, 34, 107, 181, 42, 92, 94, 66, 168, 87, 59, 207, 176, 61, 356, 147, 159, 144, 91, 40, 155, 111, 32, 173, 54, 122, 59, 110, 109, 60, 216, 112, 54, 119, 84, 147, 81, 183, 60, 81, 212, 224, 144, 93, 72, 32, 113, 83, 50, 45, 140, 124, 105, 87, 163, 59, 69, 93, 154, 91, 46, 245, 73, 132, 53, 81, 85, 24, 86, 127, 153, 102, 160, 136, 149, 89, 72, 59, 150, 215, 75, 64, 57, 91, 103, 137, 123, 43, 155, 106, 238, 69, 53, 157, 72, 163, 73, 91, 141, 65, 176, 153, 137, 86, 108, 46, 142, 215, 89, 62, 115, 71, 88, 105, 106, 102, 66, 127, 21, 201, 209, 63, 75, 175, 90, 52, 190, 176, 66, 75, 74, 181, 118, 98, 113, 91, 165, 60, 71, 133, 104, 58, 56, 55, 61, 155, 93, 153, 88, 63, 88, 99, 191, 56, 51, 73, 71, 147, 89, 52, 107, 70, 121, 131, 116, 170, 103, 55, 106, 61, 91, 107, 114, 26, 162, 39, 88, 130, 218, 54, 145, 119, 118, 108, 109, 312, 90, 139, 42, 113, 41, 157, 177, 32, 107, 42, 182, 160, 97, 118, 72, 107, 43, 73, 37, 270, 50, 50, 104, 177, 145, 126, 83, 49, 219, 68, 46, 117, 81, 82, 95, 100, 92, 59, 47, 49, 67, 140, 85, 103, 101, 48, 89, 99, 117, 124, 120, 112, 76, 46, 143, 198, 117, 145, 153, 75, 126, 70, 162, 109, 148, 104, 66, 55, 119, 82, 97, 180, 67, 85, 98, 55, 65, 77, 105, 185, 60, 58, 36, 294, 60, 97, 78, 151, 80, 251, 234, 154, 150, 71, 53, 57, 165, 48, 50, 254, 80, 73, 119, 128, 213, 161, 164, 28, 152, 54, 92, 121, 59, 113, 68, 26, 63, 132, 69, 90, 43, 49, 139, 180, 51, 27, 75, 201, 52, 136, 209, 136, 99, 153, 32, 217, 97, 31, 127, 82, 46, 64, 162, 90, 160, 34, 99, 79, 150, 253, 101, 79, 65, 179, 134, 406, 129, 46, 102, 61, 105, 208, 89, 103, 97, 73, 32, 116, 61, 116, 71, 37, 96, 46, 107, 65, 114, 199, 40, 66, 116, 142, 78, 74, 78, 90, 114, 74, 79, 51, 53, 228, 217, 92, 116, 155, 182, 89, 227, 124, 86, 76, 136, 217, 78, 151, 119, 137, 267, 269, 93, 87, 172, 79, 115, 80, 214, 249, 107, 118, 69, 92, 113, 148, 121, 123, 101, 154, 71, 71, 78, 167, 84, 79, 87, 92, 194, 44, 92, 73, 224, 44, 301, 119, 93, 184, 109, 81, 214, 110, 165, 336, 105, 136, 199, 139, 48, 117, 212, 59, 44, 125, 150, 122, 69, 127, 76, 112, 196, 66, 134, 39, 160, 103, 126, 93, 91, 107, 158, 173, 90, 176, 74, 57, 90, 40, 47, 127, 32, 46, 169, 119, 45, 69, 145, 165, 162, 108, 99, 73, 174, 132, 70, 229, 101, 95, 60, 63, 127, 141, 90, 42, 70, 83, 136, 92, 57, 311, 49, 49, 180, 81, 221, 221, 110, 202, 130, 39, 80, 64, 71, 98, 64, 170, 123, 130, 108, 45, 45, 83, 120, 53, 162, 69, 63, 71, 184, 91, 57, 82, 135, 58, 197, 164, 122, 82, 175, 133, 106, 112, 96, 62, 70, 71, 145, 68, 119, 125, 111, 77, 314, 161, 239, 118, 59, 74, 85, 60, 125, 82, 57, 42, 53, 137, 65, 147, 30, 58, 101, 113, 68, 63, 86, 176, 107, 196, 190, 159, 93, 75, 134, 207, 65, 65, 145, 108, 82, 82, 96, 80, 64, 51, 244, 44, 71, 195, 159, 138, 128, 144, 83, 109, 163, 61, 287, 201, 118, 47, 99, 159, 43, 100, 37, 68, 100, 96, 89, 86, 93, 134, 22, 151, 259, 127, 106, 84, 108, 115, 136, 135, 579, 48, 148, 64, 108, 119, 99, 61, 106, 112, 56, 98, 124, 67, 128, 34, 106, 124, 55, 88, 98, 97, 99, 204, 52, 211, 113, 159, 239, 133, 46, 55, 135, 47, 66, 304, 75, 56, 143, 61, 124, 146, 148, 92, 124, 118, 148, 72, 114, 67, 224, 91, 101, 128, 77, 77, 120, 104, 104, 90, 90, 101, 68, 81, 76, 51, 105, 163, 336, 62, 43, 125, 90, 98, 59, 116, 86, 374, 52, 69, 117, 101, 150, 114, 97, 116, 64, 210, 301, 74, 151, 203, 36, 78, 136, 168, 92, 112, 108, 46, 31, 102, 82, 83, 124, 66, 170, 310, 111, 32, 107, 126, 383, 178, 82, 122, 129, 112, 169, 57, 234, 112, 73, 55, 63, 168, 60, 114, 62, 102, 244, 58, 168, 81, 156, 139, 117, 77, 146, 112, 64, 183, 51, 160, 124, 41, 127, 47, 86, 90, 190, 141, 84, 154, 50, 63, 42, 112, 180, 137, 363, 92, 146, 146, 149, 184, 162, 118, 182, 266, 110, 114, 263, 158, 90, 122, 134, 190, 73, 86, 178, 211, 134, 79, 87, 127, 195, 78, 153, 94, 79, 78, 103, 72, 162, 229, 57, 68, 138, 127, 135, 187, 48, 83, 150, 142, 127, 70, 43, 50, 66, 122, 31, 115, 167, 115, 410, 77, 35, 105, 94, 102, 129, 430, 155, 135, 115, 114, 148, 65, 97, 111, 130, 171, 75, 168, 70, 168, 160, 94, 24, 212, 94, 116, 82, 147, 40, 43, 123, 127, 81, 46, 82, 103, 182, 196, 48, 176, 53, 59, 277, 110, 235, 80, 178, 95, 181, 92, 206, 110, 43, 55, 135, 144, 157, 154, 67, 44, 272, 98, 55, 171, 148, 121, 107, 107, 119, 100, 84, 313, 105, 129, 72, 103, 142, 88, 89, 52, 254, 143, 169, 107, 91, 93, 103, 50, 71, 42, 60, 67, 108, 92, 74, 99, 72, 104, 157, 116, 97, 77, 235, 102, 68, 123, 113, 27, 158, 99, 112, 167, 85, 147, 103, 115, 100, 41, 95, 197, 103, 41, 98, 54, 122, 125, 48, 230, 48, 67, 156, 99, 107, 172, 54, 30, 136, 122, 29, 53, 36, 60, 89, 149, 78, 35, 47, 196, 302, 182, 76, 124, 214, 50, 92, 101, 207, 93, 133, 117, 87, 418, 122, 131, 146, 28, 69, 305, 77, 116, 96, 66, 51, 205, 60, 167, 117, 80, 60, 95, 49, 56, 281, 261, 79, 220, 117, 71, 73, 85, 625, 327, 87, 192, 103, 163, 46, 71, 50, 163, 83, 95, 125, 162, 178, 125, 148, 50, 94, 77, 75, 112, 207, 317, 49, 47, 27, 66, 62, 51, 99, 154, 90, 46, 151, 44, 108, 49, 259, 109, 95, 104, 43, 259, 64, 310, 58, 244, 41, 125, 81, 177, 57, 140, 60, 101, 62, 148, 176, 64, 227, 192, 38, 103, 43, 79, 112, 168, 100, 139, 199, 40, 31, 58, 82, 189, 74, 71, 116, 165, 126, 131, 127, 29, 124, 84, 82, 82, 33, 101, 135, 89, 109, 46, 44, 80, 86, 58, 149, 57, 223, 67, 120, 118, 142, 24, 31, 84, 114, 137, 65, 452, 88, 184, 94, 90, 51, 277, 90, 98, 52, 69, 329, 192, 88, 112, 118, 234, 91, 60, 142, 50, 169, 49, 149, 150, 56, 71, 59, 86, 147, 276, 45, 58, 127, 192, 60, 153, 39, 203, 47, 92, 180, 90, 110, 113, 188, 116, 112, 99, 39, 113, 142, 38, 132, 88, 81, 76, 126, 162, 72, 122, 147, 126, 135, 31, 91, 154, 178, 175, 203, 67, 223, 120, 48, 117, 163, 208, 99, 60, 116, 51, 50, 86, 193, 194, 39, 66, 169, 88, 81, 218, 48, 109, 236, 180, 108, 123, 86, 110, 209, 125, 32, 216, 70, 121, 124, 98, 90, 187, 98, 270, 213, 77, 63, 66, 121, 48, 86, 185, 57, 42, 129, 49, 100, 196, 111, 111, 64, 78, 58, 485, 182, 53, 72, 98, 116, 79, 51, 52, 59, 55, 177, 128, 78, 109, 172, 213, 155, 41, 98, 156, 156, 181, 95, 224, 48, 161, 46, 121, 76, 70, 85, 52, 93, 118, 84, 207, 117, 86, 88, 157, 119, 61, 87, 90, 78, 153, 217, 131, 77, 103, 160, 91, 66, 158, 216, 63, 193, 47, 108, 25, 113, 187, 117, 55, 143, 70, 69, 136, 83, 109, 151, 269, 36, 43, 209, 170, 136, 87, 232, 122, 105, 54, 40, 52, 120, 85, 201, 367, 88, 223, 109, 165, 49, 103, 121, 101, 134, 52, 99, 46, 69, 73, 35, 99, 152, 86, 173, 159, 217, 130, 168, 143, 111, 61, 73, 143, 48, 79, 155, 52, 44, 131, 84, 283, 194, 156, 203, 66, 236, 194, 35, 80, 120, 118, 51, 41, 99, 224, 236, 125, 95, 87, 129, 51, 119, 171, 64, 126, 203, 178, 100, 109, 49, 110, 86, 124, 202, 99, 56, 149, 99, 81, 69, 44, 127, 55, 127, 141, 94, 39, 48, 272, 114, 41, 48, 138, 115, 71, 64, 35, 106, 192, 87, 126, 83, 132, 65, 67, 224, 117, 190, 36, 80, 114, 117, 84, 62, 107, 90, 109, 278, 105, 103, 180, 166, 61, 37, 65, 154, 82, 43, 82, 254, 132, 109, 70, 226, 83, 65, 158, 118, 177, 118, 75, 225, 182, 174, 36, 89, 143, 200, 146, 58, 116, 206, 93, 49, 140, 40, 36, 19, 132, 71, 191, 93, 122, 81, 42, 97, 768, 116, 180, 78, 118, 185, 56, 118, 276, 84, 144, 95, 114, 79, 104, 119, 126, 100, 83, 175, 36, 57, 195, 435, 329, 170, 243, 85, 168, 130, 100, 60, 110, 33, 49, 71, 42, 93, 83, 82, 118, 35, 72, 35, 152, 66, 48, 50, 94, 109, 188, 45, 139, 112, 99, 102, 55, 220, 24, 114, 73, 66, 100, 33, 25, 94, 50, 42, 59, 131, 81, 124, 70, 282, 64, 76, 52, 42, 104, 95, 112, 99, 96, 80, 78, 296, 157, 52, 333, 94, 79, 35, 166, 130, 80, 60, 205, 155, 118, 123, 284, 70, 192, 75, 24, 83, 39, 61, 102, 105, 80, 98, 50, 154, 162, 122, 69, 138, 46, 84, 141, 84, 134, 129, 55, 75, 109, 105, 45, 72, 263, 101, 75, 38, 82, 197, 37, 91, 151, 98, 97, 84, 47, 64, 95, 113, 58, 111, 93, 65, 50, 110, 203, 259, 126, 96, 94, 179, 106, 100, 61, 47, 111, 231, 119, 59, 108, 60, 79, 100, 65, 115, 73, 103, 92, 144, 130, 86, 259, 239, 524, 118, 140, 113, 81, 93, 151, 175, 128, 64, 135, 267, 78, 93, 23, 94, 168, 76, 64, 117, 72, 293, 269, 110, 105, 97, 299, 92, 92, 97, 92, 119, 176, 106, 70, 95, 146, 69, 84, 100, 63, 195, 102, 282, 94, 110, 41, 189, 86, 84, 68, 160, 63, 122, 334, 59, 80, 95, 155, 150, 98, 91, 74, 60, 44, 58, 72, 87, 57, 64, 121, 33, 158, 157, 185, 92, 147, 133, 154, 196, 192, 70, 80, 110, 164, 113, 107, 134, 209, 142, 96, 49, 138, 105, 172, 76, 117, 63, 140, 188, 273, 152, 118, 51, 105, 52, 65, 106, 56, 102, 82, 102, 107, 47, 214, 46, 122, 91, 100, 95, 97, 154, 163, 127, 80, 137, 71, 146, 82, 55, 119, 144, 100, 34, 62, 180, 78, 35, 50, 105, 125, 48, 93, 106, 199, 105, 106, 110, 46, 91, 66, 62, 134, 142, 106, 104, 78, 43, 52, 116, 47, 70, 154, 100, 78, 90, 122, 94, 224, 363, 141, 121, 136, 120, 101, 146, 58, 196, 147, 125, 164, 95, 100, 46, 30, 94, 137, 54, 96, 147, 388, 73, 65, 60, 209, 67, 137, 124, 134, 268, 22, 105, 161, 79, 73, 45, 97, 283, 48, 43, 89, 96, 44, 115, 41, 211, 143, 67, 57, 86, 62, 94, 184, 132, 94, 183, 87, 122, 137, 77, 105, 99, 103, 145, 109, 133, 142, 191, 151, 246, 126, 19, 117, 65, 56, 194, 43, 61, 130, 46, 95, 103, 122, 87, 43, 95, 115, 36, 115, 67, 46, 47, 160, 173, 62, 226, 115, 308, 100, 290, 72, 99, 140, 113, 49, 83, 354, 104, 150, 90, 87, 89, 59, 222, 27, 109, 85, 142, 133, 56, 112, 140, 105, 148, 194, 47, 109, 68, 94, 64, 82, 46, 79, 249, 317, 52, 100, 282, 104, 95, 43, 84, 45, 117, 101, 117, 56, 211, 145, 77, 55, 97, 110, 282, 67, 108, 108, 275, 272, 99, 69, 117, 125, 139, 107, 154, 37, 94, 36, 99, 80, 254, 30, 255, 85, 76, 197, 202, 99, 77, 87, 128, 78, 434, 66, 44, 96, 158, 118, 138, 169, 131, 129, 142, 128, 150, 90, 98, 89, 66, 83, 83, 97, 169, 99, 166, 64, 182, 55, 69, 111, 31, 157, 109, 144, 54, 109, 106, 132, 171, 129, 75, 81, 130, 76, 126, 89, 110, 166, 86, 273, 44, 84, 23, 63, 82, 125, 90, 94, 107, 137, 93, 296, 113, 64, 168, 53, 197, 106, 70, 102, 145, 99, 161, 154, 136, 83, 82, 105, 158, 120, 112, 108, 118, 104, 72, 126, 68, 75, 53, 103, 138, 154, 152, 119, 161, 263, 128, 343, 66, 71, 95, 59, 109, 68, 73, 154, 104, 68, 152, 152, 150, 91, 83, 249, 310, 137, 51, 125, 151, 109, 84, 120, 150, 25, 163, 169, 159, 140, 34, 109, 87, 73, 85, 92, 133, 137, 60, 155, 98, 42, 74, 155, 63, 67, 106, 42, 72, 69, 171, 85, 81, 97, 128, 144, 436, 43, 257, 137, 144, 138, 75, 79, 187, 67, 50, 109, 153, 57, 213, 48, 64, 75, 94, 32, 161, 37, 70, 108, 151, 87, 55, 122, 89, 49, 87, 103, 83, 81, 69, 246, 163, 40, 76, 204, 175, 64, 105, 288, 40, 64, 148, 68, 125, 184, 73, 163, 186, 88, 126, 80, 260, 260, 144, 120, 50, 93, 38, 140, 124, 62, 46, 63, 84, 58, 108, 129, 204, 237, 140, 119, 77, 184, 123, 124, 128, 48, 111, 131, 65, 24, 150, 118, 174, 75, 81, 187, 139, 84, 114, 81, 84, 125, 50, 63, 42, 39, 78, 51, 248, 118, 94, 71, 363, 116, 115, 85, 74, 105, 114, 67, 79, 108, 57, 135, 34, 240, 129, 134, 83, 86, 212, 74, 72, 107, 131, 71, 163, 117, 149, 105, 55, 65, 95, 75, 55, 217, 85, 101, 96, 368, 151, 30, 57, 186, 120, 64, 123, 317, 163, 322, 76, 63, 145, 57, 77, 68, 121, 123, 41, 113, 85, 117, 36, 103, 77, 54, 114, 98, 115, 81, 45, 48, 77, 189, 161, 159, 50, 206, 96, 68, 116, 266, 144, 113, 165, 110, 51, 175, 93, 119, 137, 173, 60, 181, 165, 111, 80, 69, 269, 58, 128, 57, 74, 117, 91, 72, 315, 102, 42, 359, 87, 86, 81, 41, 172, 65, 58, 133, 47, 51, 98, 32, 131, 60, 55, 56, 79, 240, 108, 112, 40, 151, 51, 96, 175, 115, 49, 180, 67, 116, 66, 111, 99, 62, 41, 95, 91, 197, 82, 239, 262, 108, 84, 109, 84, 40, 106, 231, 95, 67, 83, 125, 67, 145, 237, 58, 164, 209, 137, 200, 72, 197, 103, 78, 54, 108, 108, 183, 84, 141, 109, 105, 108, 250, 64, 130, 182, 184, 264, 246, 188, 40, 63, 274, 66, 70, 81, 163, 63, 63, 46, 123, 157, 56, 42, 54, 59, 106, 117, 36, 83, 219, 144, 73, 93, 169, 48, 52, 80, 94, 343, 32, 49, 126, 450, 67, 90, 113, 141, 138, 93, 51, 96, 264, 69, 136, 165, 55, 87, 116, 198, 277, 110, 74, 119, 157, 44, 85, 313, 77, 58, 38, 188, 109, 389, 111, 144, 168, 95, 84, 93, 49, 349, 101, 46, 155, 104, 152, 113, 74, 155, 99, 85, 136, 112, 70, 105, 127, 240, 44, 161, 102, 208, 83, 139, 106, 30, 54, 233, 88, 122, 88, 70, 97, 64, 31, 112, 90, 54, 82, 82, 201, 139, 80, 61, 82, 224, 103, 199, 142, 183, 73, 62, 224, 49, 79, 97, 72, 81, 40, 226, 193, 121, 70, 96, 112, 133, 125, 154, 92, 60, 69, 115, 54, 38, 70, 121, 132, 133, 345, 90, 105, 83, 136, 88, 77, 334, 126, 25, 144, 201, 29, 137, 50, 70, 45, 114, 168, 61, 62, 100, 81, 98, 43, 170, 67, 103, 61, 122, 68, 79, 116, 45, 104, 279, 118, 184, 151, 52, 70, 118, 100, 95, 137, 145, 207, 63, 93, 63, 96, 136, 179, 125, 123, 66, 80, 44, 89, 103, 102, 56, 152, 49, 61, 142, 132, 64, 61, 138, 68, 44, 82, 55, 204, 63, 221, 166, 59, 90, 79, 48, 66, 102, 328, 81, 73, 87, 80, 134, 141, 47, 95, 29, 240, 102, 164, 299, 93, 65, 112, 46, 110, 96, 55, 80, 106, 82, 90, 111, 228, 34, 140, 49, 82, 123, 86, 134, 279, 176, 101, 68, 336, 255, 91, 70, 62, 108, 63, 155, 22, 342, 56, 58, 91, 106, 172, 116, 146, 728, 34, 81, 45, 85, 88, 71, 205, 175, 67, 84, 219, 137, 57, 42, 140, 97, 57, 258, 120, 84, 93, 85, 39, 151, 85, 91, 38, 156, 48, 90, 153, 54, 117, 68, 27, 38, 54, 26, 106, 125, 112, 76, 127, 64, 107, 58, 54, 107, 69, 57, 67, 61, 134, 124, 61, 93, 86, 244, 89, 81, 75, 129, 90, 158, 41, 142, 144, 35, 65, 99, 171, 64, 132, 301, 116, 43, 83, 105, 50, 84, 111, 88, 79, 154, 113, 97, 256, 459, 69, 96, 104, 97, 36, 125, 128, 96, 97, 55, 389, 135, 106, 212, 155, 74, 168, 62, 97, 89, 45, 109, 131, 109, 110, 62, 189, 136, 57, 118, 129, 143, 99, 137, 76, 162, 289, 118, 105, 71, 205, 133, 35, 104, 81, 169, 75, 46, 102, 73, 120, 119, 36, 64, 264, 121, 140, 103, 94, 211, 39, 71, 164, 373, 154, 49, 146, 53, 31, 98, 168, 115, 51, 75, 129, 148, 180, 41, 55, 95, 105, 143, 29, 70, 108, 249, 742, 97, 99, 143, 73, 123, 88, 87, 130, 41, 74, 72, 329, 114, 55, 71, 184, 90, 212, 103, 114, 39, 153, 82, 90, 96, 40, 104, 89, 76, 129, 129, 38, 262, 78, 71, 115, 188, 80, 87, 180, 122, 68, 51, 31, 37, 49, 51, 61, 62, 97, 166, 101, 142, 67, 34, 80, 80, 119, 139, 59, 67, 52, 67, 75, 81, 47, 111, 58, 61, 80, 46, 239, 49, 123, 249, 77, 40, 50, 112, 87, 235, 219, 86, 52, 45, 102, 161, 208, 110, 47, 48, 100, 60, 151, 26, 88, 197, 112, 180, 182, 134, 63, 102, 124, 73, 105, 94, 119, 131, 41, 43, 102, 77, 151, 115, 82, 69, 117, 121, 137, 143, 150, 69, 78, 58, 158, 40, 72, 180, 125, 54, 168, 177, 107, 80, 85, 39, 122, 115, 71, 116, 77, 170, 83, 168, 55, 57, 72, 374, 206, 80, 51, 154, 141, 256, 142, 88, 216, 76, 307, 74, 87, 128, 28, 53, 108, 243, 140, 152, 112, 64, 116, 99, 138, 94, 134, 116, 88, 36, 85, 46, 245, 71, 107, 139, 98, 66, 121, 100, 56, 70, 49, 89, 62, 183, 93, 79, 66, 122, 96, 119, 53, 291, 134, 112, 98, 179, 108, 106, 58, 219, 96, 50, 61, 122, 94, 94, 87, 36, 74, 71, 97, 156, 90, 66, 106, 131, 93, 74, 109, 163, 132, 133, 46, 226, 118, 129, 90, 138, 208, 203, 107, 105, 146, 73, 181, 127, 301, 101, 70, 123, 122, 207, 103, 115, 141, 221, 40, 97, 54, 69, 337, 30, 140, 163, 128, 135, 69, 131, 141, 132, 357, 58, 56, 125, 130, 132, 114, 79, 102, 60, 69, 94, 138, 210, 65, 55, 302, 154, 187, 201, 82, 116, 112, 74, 71, 78, 59, 243, 96, 111, 51, 148, 67, 282, 123, 117, 91, 175, 130, 103, 119, 57, 43, 129, 37, 98, 153, 120, 51, 75, 75, 144, 71, 111, 203, 138, 127, 60, 167, 97, 54, 160, 103, 73, 51, 98, 132, 151, 57, 53, 109, 51, 145, 100, 142, 177, 159, 324, 106, 48, 220, 79, 320, 160, 198, 97, 82, 67, 44, 89, 214, 121, 98, 111, 90, 146, 311, 116, 107, 83, 153, 60, 78, 96, 157, 135, 101, 30, 43, 96, 124, 64, 62, 141, 118, 101, 126, 213, 74, 128, 140, 80, 124, 85, 118, 100, 97, 47, 154, 143, 109, 124, 141, 121, 45, 87, 54, 75, 67, 177, 95, 190, 97, 78, 53, 87, 57, 112, 63, 203, 212, 148, 155, 249, 52, 83, 114, 52, 42, 176, 89, 205, 158, 97, 46, 75, 137, 112, 221, 68, 49, 137, 33, 131, 150, 63, 185, 258, 110, 52, 84, 136, 112, 52, 182, 57, 119, 65, 85, 70, 47, 56, 303, 104, 85, 51, 152, 44, 122, 95, 82, 128, 67, 75, 108, 284, 125, 309, 274, 181, 107, 220, 134, 117, 67, 49, 119, 73, 141, 80, 100, 95, 70, 135, 97, 245, 59, 225, 126, 81, 179, 31, 116, 259, 106, 74, 88, 76, 168, 86, 103, 66, 290, 144, 165, 251, 146, 181, 157, 52, 141, 95, 111, 123, 127, 64, 95, 89, 56, 177, 114, 110, 52, 102, 114, 205, 98, 55, 72, 120, 138, 81, 39, 92, 61, 135, 52, 151, 95, 107, 91, 352, 122, 193, 73, 307, 103, 31, 336, 87, 361, 90, 89, 102, 117, 143, 257, 138, 57, 114, 100, 49, 92, 109, 39, 65, 129, 127, 66, 99, 69, 54, 63, 119, 32, 36, 457, 384, 135, 90, 85, 114, 151, 89, 208, 73, 370, 68, 189, 86, 207, 143, 93, 74, 59, 111, 176, 108, 129, 100, 56, 69, 48, 36, 47, 94, 155, 232, 132, 130, 41, 100, 84, 101, 79, 201, 50, 93, 114, 126, 276, 65, 75, 63, 56, 97, 98, 93, 110, 53, 96, 90, 113, 121, 51, 116, 122, 62, 99, 36, 96, 338, 71, 44, 493, 94, 109, 125, 152, 117, 76, 114, 418, 47, 90, 45, 109, 234, 109, 89, 118, 55, 55, 46, 133, 87, 161, 95, 92, 88, 65, 46, 87, 153, 62, 151, 44, 118, 49, 115, 133, 57, 115, 150, 82, 257, 88, 114, 68, 126, 111, 109, 120, 94, 262, 91, 176, 179, 251, 77, 176, 81, 47, 96, 136, 82, 56, 354, 158, 77, 126, 103, 144, 303, 40, 59, 158, 263, 75, 27, 124, 64, 235, 107, 151, 94, 114, 75, 147, 141, 70, 57, 132, 165, 138, 115, 34, 117, 97, 76, 127, 133, 116, 168, 120, 192, 76, 149, 82, 113, 126, 168, 54, 53, 221, 81, 127, 58, 109, 106, 54, 70, 104, 102, 98, 83, 137, 51, 116, 93, 54, 107, 152, 80, 98, 42, 95, 121, 265, 110, 91, 65, 180, 109, 115, 96, 40, 149, 99, 96, 185, 113, 38, 128, 46, 149, 152, 60, 69, 239, 106, 208, 107, 111, 171, 84, 148, 147, 244, 170, 350, 146, 48, 54, 135, 272, 161, 44, 75, 65, 120, 46, 111, 144, 95, 37, 271, 110, 76, 147, 106, 118, 60, 142, 59, 73, 138, 44, 286, 62, 150, 141, 22, 47, 222, 71, 50, 62, 83, 124, 58, 30, 110, 181, 105, 111, 137, 198, 176, 100, 122, 60, 131, 67, 175, 294, 103, 107, 114, 94, 63, 85, 396, 99, 90, 105, 29, 120, 52, 85, 191, 106, 506, 51, 114, 79, 50, 287, 146, 131, 58, 59, 186, 155, 64, 92, 125, 104, 73, 118, 101, 90, 176, 78, 188, 167, 111, 299, 121, 261, 120, 121, 55, 165, 43, 68, 59, 51, 108, 109, 45, 173, 70, 50, 202, 91, 54, 118, 70, 72, 237, 100, 32, 169, 142, 132, 317, 136, 100, 106, 94, 69, 203, 87, 131, 40, 91, 229, 66, 60, 262, 47, 140, 43, 94, 51, 139, 70, 113, 96, 45, 118, 41, 100, 83, 77, 45, 192, 67, 112, 171, 64, 99, 94, 124, 139, 97, 102, 49, 87, 237, 57, 46, 80, 46, 95, 187, 88, 119, 62, 65, 658, 105, 65, 44, 254, 93, 51, 152, 95, 94, 156, 69, 120, 65, 144, 105, 73, 54, 169, 342, 73, 67, 41, 132, 45, 42, 481, 126, 104, 140, 171, 74, 50, 148, 59, 51, 158, 233, 122, 95, 87, 159, 115, 171, 94, 227, 187, 64, 89, 76, 172, 83, 88, 135, 65, 154, 146, 87, 184, 80, 51, 134, 94, 112, 60, 82, 162, 40, 59, 126, 175, 202, 58, 92, 57, 64, 295, 50, 70, 209, 44, 38, 39, 74, 107, 349, 60, 81, 107, 103, 130, 74, 212, 115, 133, 173, 29, 136, 83, 120, 61, 151, 62, 57, 65, 140, 131, 199, 56, 90, 136, 40, 124, 78, 40, 100, 58, 65, 121, 116, 326, 70, 129, 206, 118, 182, 63, 80, 158, 144, 172, 496, 48, 176, 145, 135, 67, 114, 201, 70, 131, 217, 94, 64, 120, 237, 125, 173, 128, 79, 57, 142, 145, 183, 128, 47, 125, 55, 51, 177, 372, 63, 115, 117, 142, 77, 87, 67, 99, 42, 53, 104, 27, 62, 238, 125, 96, 35, 125, 179, 120, 77, 59, 94, 111, 88, 86, 108, 120, 47, 32, 40, 87, 46, 53, 170, 117, 54, 91, 207, 139, 192, 58, 113, 73, 182, 157, 132, 71, 204, 69, 149, 290, 71, 262, 59, 44, 67, 101, 96, 142, 145, 88, 84, 25, 46, 105, 137, 334, 118, 78, 50, 74, 64, 71, 105, 142, 118, 118, 60, 81, 104, 91, 198, 111, 178, 97, 89, 83, 103, 76, 112, 49, 76, 97, 84, 92, 87, 57, 315, 61, 205, 61, 111, 119, 78, 65, 126, 206, 86, 70, 174, 56, 92, 54, 127, 137, 71, 90, 45, 64, 113, 123, 145, 137, 187, 60, 163, 19, 116, 88, 120, 113, 173, 166, 73, 79, 181, 97, 170, 162, 83, 128, 53, 132, 96, 230, 110, 91, 162, 160, 95, 50, 125, 111, 78, 160, 252, 74, 100, 114, 134, 62, 114, 112, 127, 105, 135, 119, 148, 86, 94, 95, 84, 104, 53, 113, 135, 39, 117, 152, 120, 91, 41, 61, 31, 111, 71, 48, 112, 98, 222, 53, 47, 94, 60, 54, 120, 54, 66, 110, 112, 239, 40, 135, 182, 43, 85, 152, 205, 115, 127, 82, 114, 54, 48, 64, 113, 117, 119, 68, 160, 142, 47, 263, 171, 250, 150, 82, 68, 60, 224, 94, 85, 286, 75, 118, 73, 89, 42, 190, 55, 144, 125, 356, 109, 157, 136, 248, 97, 108, 101, 128, 92, 114, 134, 131, 99, 65, 69, 90, 51, 170, 39, 99, 43, 41, 42, 108, 78, 172, 40, 161, 193, 789, 296, 60, 59, 99, 97, 124, 42, 56, 186, 81, 103, 80, 226, 135, 166, 49, 52, 84, 61, 100, 135, 65, 52, 146, 97, 136, 115, 118, 118, 122, 45, 177, 92, 115, 53, 96, 40, 59, 214, 129, 121, 217, 100, 157, 177, 151, 66, 177, 63, 77, 146, 62, 93, 264, 164, 139, 190, 200, 105, 175, 60, 215, 144, 47, 60, 81, 82, 88, 129, 78, 33, 146, 309, 133, 162, 125, 135, 141, 87, 56, 105, 74, 100, 95, 207, 84, 108, 184, 108, 223, 124, 97, 129, 62, 125, 183, 114, 55, 75, 191, 109, 253, 246, 98, 143, 158, 89, 194, 100, 102, 60, 100, 89, 85, 93, 70, 87, 76, 121, 182, 75, 54, 55, 76, 100, 152, 95, 81, 88, 147, 121, 134, 159, 105, 73, 126, 104, 158, 118, 190, 106, 88, 167, 139, 90, 244, 107, 65, 93, 44, 83, 100, 53, 146, 129, 43, 53, 96, 147, 164, 692, 56, 60, 31, 98, 216, 606, 106, 132, 101, 41, 66, 122, 73, 100, 98, 144, 47, 94, 174, 66, 138, 215, 139, 55, 90, 63, 76, 100, 265, 122, 84, 126, 76, 162, 137, 314, 54, 71, 67, 40, 86, 126, 53, 161, 44, 91, 200, 126, 93, 67, 113, 96, 122, 85, 123, 103, 146, 54, 42, 129, 210, 271, 199, 54, 96, 80, 135, 160, 58, 71, 62, 61, 53, 115, 91, 156, 143, 75, 43, 66, 125, 52, 103, 130, 49, 153, 88, 101, 77, 296, 412, 69, 77, 50, 30, 100, 103, 54, 122, 314, 99, 160, 92, 69, 201, 49, 75, 115, 81, 105, 71, 50, 60, 214, 53, 108, 99, 215, 63, 108, 213, 117, 71, 89, 107, 226, 61, 147, 233, 211, 54, 119, 101, 154, 109, 137, 116, 60, 286, 202, 138, 128, 128, 117, 46, 74, 84, 147, 116, 106, 185, 39, 54, 69, 163, 133, 100, 222, 149, 101, 145, 91, 82, 381, 126, 78, 106, 59, 61, 54, 96, 140, 303, 92, 273, 78, 75, 171, 80, 137, 52, 74, 439, 113, 128, 164, 41, 67, 180, 140, 90, 63, 239, 151, 75, 121, 108, 54, 109, 133, 178, 61, 85, 100, 146, 181, 59, 157, 75, 52, 44, 84, 150, 138, 129, 177, 86, 63, 370, 75, 161, 156, 91, 162, 77, 61, 186, 36, 201, 69, 171, 169, 106, 70, 67, 67, 38, 142, 69, 93, 110, 86, 128, 161, 50, 91, 118, 88, 262, 148, 250, 54, 123, 66, 419, 40, 188, 111, 110, 96, 196, 92, 100, 56, 30, 72, 111, 173, 60, 238, 377, 68, 141, 279, 117, 129, 109, 74, 57, 100, 43, 74, 65, 42, 102, 130, 68, 42, 137, 159, 112, 186, 118, 105, 47, 112, 43, 52, 112, 55, 65, 128, 110, 154, 91, 669, 187, 111, 78, 119, 195, 112, 133, 253, 94, 111, 166, 104, 75, 351, 109, 73, 92, 96, 115, 124, 108, 112, 66, 149, 101, 57, 133, 111, 80, 118, 77, 39, 64, 150, 95, 21, 182, 164, 57, 284, 84, 51, 87, 112, 161, 62, 53, 119, 149, 119, 151, 125, 257, 55, 116, 59, 97, 24, 82, 63, 97, 116, 188, 128, 45, 78, 79, 82, 243, 207, 126, 119, 63, 208, 52, 115, 158, 60, 102, 136, 80, 217, 99, 262, 115, 67, 247, 109, 63, 77, 253, 77, 117, 53, 38, 70, 34, 150, 64, 99, 131, 75, 177, 135, 69, 114, 87, 74, 34, 284, 30, 63, 104, 108, 93, 81, 259, 114, 119, 70, 33, 75, 59, 182, 137, 66, 136, 128, 71, 313, 93, 190, 166, 77, 111, 89, 148, 144, 62, 104, 84, 92, 119, 102, 106, 123, 173, 163, 174, 202, 608, 214, 99, 143, 45, 41, 186, 216, 121, 92, 141, 81, 95, 199, 129, 308, 138, 143, 264, 118, 178, 47, 224, 139, 174, 42, 51, 246, 117, 136, 56, 106, 55, 99, 106, 38, 120, 149, 181, 380, 44, 99, 74, 78, 131, 37, 26, 66, 44, 122, 91, 99, 118, 56, 133, 146, 100, 116, 72, 250, 88, 133, 40, 27, 120, 97, 72, 41, 143, 52, 85, 227, 72, 184, 122, 449, 49, 165, 117, 95, 136, 104, 222, 72, 97, 260, 137, 85, 151, 145, 90, 134, 62, 128, 79, 241, 91, 119, 91, 79, 71, 141, 207, 113, 66, 98, 109, 58, 37, 58, 140, 129, 119, 29, 108, 195, 75, 142, 80, 74, 45, 58, 201, 32, 138, 126, 58, 62, 141, 103, 207, 131, 141, 63, 99, 369, 176, 49, 264, 227, 130, 71, 189, 279, 83, 90, 47, 66, 113, 112, 68, 106, 149, 50, 97, 122, 115, 159, 37, 84, 107, 49, 122, 303, 99, 108, 104, 100, 103, 137, 84, 56, 139, 106, 199, 264, 107, 193, 34, 69, 196, 53, 113, 49, 91, 78, 17, 112, 114, 145, 26, 81, 84, 206, 48, 78, 107, 72, 99, 97, 113, 155, 88, 130, 101, 69, 84, 45, 72, 73, 144, 67, 55, 63, 52, 51, 90, 144, 107, 65, 95, 129, 102, 63, 126, 191, 145, 71, 85, 157, 116, 86, 128, 89, 142, 135, 140, 43, 438, 103, 82, 101, 108, 57, 84, 45, 43, 124, 63, 123, 169, 76, 39, 92, 105, 197, 60, 121, 86, 116, 70, 50, 121, 124, 34, 127, 112, 89, 99, 185, 121, 62, 62, 46, 149, 91, 102, 107, 88, 49, 160, 85, 378, 106, 88, 145, 150, 95, 161, 100, 117, 66, 88, 58, 109, 147, 162, 176, 63, 244, 131, 105, 86, 152, 154, 88, 112, 151, 88, 129, 274, 83, 126, 67, 90, 253, 81, 79, 90, 61, 90, 126, 98, 54, 164, 85, 237, 41, 19, 58, 80, 117, 59, 107, 71, 108, 105, 110, 59, 111, 141, 191, 92, 82, 64, 126, 98, 149, 46, 140, 140, 149, 81, 64, 170, 159, 91, 76, 193, 135, 61, 134, 51, 123, 90, 134, 54, 99, 125, 70, 146, 561, 83, 135, 50, 223, 220, 137, 62, 69, 147, 112, 210, 127, 91, 118, 140, 201, 303, 114, 221, 101, 53, 38, 127, 398, 179, 287, 61, 111, 122, 103, 116, 86, 207, 88, 69, 112, 131, 56, 77, 127, 115, 139, 133, 104, 106, 96, 155, 345, 131, 67, 97, 65, 99, 152, 285, 119, 95, 148, 209, 75, 96, 80, 298, 41, 142, 217, 96, 96, 139, 107, 89, 48, 135, 68, 152, 142, 87, 86, 116, 121, 28, 226, 120, 176, 64, 62, 89, 170, 127, 154, 168, 124, 32, 98, 133, 46, 40, 231, 104, 192, 98, 71, 55, 106, 46, 219, 144, 281, 86, 61, 145, 83, 100, 96, 71, 122, 234, 112, 136, 101, 73, 78, 90, 139, 30, 169, 86, 62, 105, 116, 85, 223, 182, 160, 55, 52, 65, 48, 107, 65, 177, 182, 51, 253, 95, 77, 76, 52, 93, 252, 72, 85, 23, 82, 80, 100, 121, 344, 87, 106, 94, 177, 198, 92, 39, 117, 92, 68, 94, 103, 189, 72, 103, 72, 48, 141, 87, 132, 65, 72, 55, 246, 127, 59, 54, 119, 130, 146, 59, 109, 160, 146, 127, 43, 105, 67, 58, 156, 87, 203, 46, 42, 47, 53, 81, 123, 116, 215, 226, 116, 145, 49, 33, 51, 68, 442, 68, 121, 91, 123, 127, 65, 130, 109, 109, 196, 142, 96, 165, 145, 105, 49, 137, 317, 74, 50, 93, 504, 39, 62, 124, 56, 58, 140, 82, 50, 91, 74, 268, 84, 82, 37, 68, 161, 72, 84, 185, 82, 95, 125, 177, 66, 110, 101, 59, 151, 70, 200, 72, 44, 61, 71, 124, 109, 118, 125, 63, 72, 129, 72, 53, 44, 144, 81, 123, 131, 61, 106, 251, 115, 53, 122, 122, 93, 62, 37, 102, 84, 36, 88, 32, 48, 119, 278, 141, 114, 87, 112, 231, 212, 203, 62, 128, 219, 102, 108, 143, 92, 45, 117, 45, 66, 106, 48, 217, 112, 52, 95, 120, 114, 94, 143, 99, 144, 56, 58, 49, 100, 100, 38, 157, 231, 108, 109, 382, 361, 49, 71, 133, 29, 155, 136, 54, 78, 109, 85, 78, 165, 139, 64, 140, 159, 55, 34, 90, 93, 151, 198, 217, 113, 103, 87, 53, 145, 97, 88, 145, 105, 70, 118, 153, 114, 93, 140, 96, 186, 84, 68, 118, 119, 48, 180, 91, 121, 77, 124, 86, 79, 210, 37, 107, 100, 73, 134, 102, 83, 131, 210, 66, 349, 88, 47, 262, 107, 41, 425, 125, 137, 241, 56, 57, 57, 87, 78, 95, 84, 118, 174, 187, 59, 166, 168, 89, 108, 318, 99, 102, 87, 182, 46, 120, 37, 60, 34, 60, 94, 128, 128, 77, 113, 77, 90, 94, 108, 51, 75, 117, 72, 64, 130, 76, 123, 82, 37, 72, 215, 62, 204, 245, 75, 331, 149, 66, 111, 105, 106, 99, 65, 49, 106, 131, 191, 94, 63, 147, 72, 49, 61, 271, 127, 84, 74, 81, 122, 142, 146, 135, 63, 118, 240, 29, 73, 120, 62, 120, 90, 35, 78, 36, 102, 115, 102, 304, 92, 83, 127, 73, 96, 107, 74, 82, 142, 129, 116, 55, 114, 66, 139, 137, 154, 47, 117, 122, 318, 95, 60, 45, 131, 194, 96, 66, 155, 86, 168, 162, 274, 214, 158, 48, 61, 549, 40, 26, 470, 99, 138, 63, 95, 62, 147, 100, 127, 69, 111, 31, 47, 100, 167, 76, 112, 94, 63, 48, 134, 190, 94, 67, 61, 162, 114, 277, 160, 165, 118, 103, 126, 105, 37, 106, 66, 102, 78, 72, 76, 72, 104, 80, 199, 82, 52, 117, 80, 192, 41, 97, 118, 166, 116, 105, 64, 66, 67, 164, 79, 109, 90, 144, 59, 70, 129, 46, 135, 58, 38, 195, 136, 142, 110, 145, 78, 127, 373, 72, 137, 48, 40, 97, 390, 111, 43, 80, 183, 86, 92, 49, 40, 92, 78, 63, 79, 71, 72, 82, 60, 96, 117, 278, 81, 156, 142, 209, 49, 98, 41, 89, 81, 273, 109, 104, 67, 144, 160, 38, 103, 204, 152, 85, 136, 70, 152, 111, 42, 66, 110, 224, 92, 82, 164, 29, 96, 100, 66, 166, 94, 134, 90, 224, 96, 180, 88, 84, 226, 56, 80, 49, 209, 111, 79, 56, 193, 101, 222, 137, 152, 62, 95, 153, 150, 51, 161, 116, 145, 251, 155, 91, 74, 123, 110, 202, 266, 64, 111, 49, 95, 297, 41, 108, 189, 152, 102, 147, 185, 71, 63, 88, 134, 136, 34, 35, 288, 58, 281, 100, 47, 106, 224, 133, 88, 138, 88, 123, 93, 130, 79, 104, 158, 45, 68, 47, 44, 77, 111, 131, 83, 96, 81, 71, 49, 123, 97, 101, 119, 60, 77, 83, 91, 86, 123, 109, 46, 360, 146, 191, 98, 100, 51, 156, 86, 123, 53, 80, 139, 49, 56, 180, 120, 34, 217, 329, 98, 28, 33, 64, 70, 113, 115, 60, 172, 325, 116, 97, 124, 97, 194, 246, 134, 86, 45, 75, 105, 124, 157, 70, 40, 69, 117, 48, 80, 135, 133, 195, 59, 100, 132, 113, 82, 167, 122, 101, 149, 80, 184, 116, 85, 59, 92, 89, 99, 109, 154, 87, 69, 48, 102, 42, 63, 96, 69, 115, 99, 74, 107, 89, 150, 117, 46, 102, 76, 54, 129, 87, 80, 62, 65, 41, 115, 104, 114, 246, 83, 117, 53, 66, 98, 115, 142, 385, 66, 62, 92, 78, 63, 93, 86, 47, 138, 91, 159, 246, 107, 142, 70, 47, 61, 132, 82, 37, 151, 134, 74, 175, 127, 56, 169, 134, 56, 117, 89, 79, 222, 127, 41, 174, 102, 162, 98, 142, 93, 56, 81, 213, 31, 134, 40, 273, 59, 45, 125, 151, 134, 67, 88, 132, 231, 34, 42, 47, 339, 168, 125, 113, 85, 136, 135, 86, 139, 86, 124, 85, 126, 94, 146, 95, 108, 81, 155, 35, 48, 97, 45, 247, 70, 57, 66, 158, 232, 114, 196, 32, 162, 85, 155, 66, 74, 44, 110, 320, 128, 81, 149, 52, 252, 71, 110, 94, 154, 138, 75, 50, 51, 81, 118, 171, 76, 61, 178, 87, 197, 61, 127, 121, 117, 131, 68, 121, 31, 51, 54, 106, 115, 53, 146, 125, 58, 192, 107, 80, 158, 52, 62, 54, 146, 29, 94, 51, 57, 29, 117, 174, 104, 85, 108, 120, 42, 84, 150, 67, 58, 56, 102, 35, 236, 122, 43, 88, 114, 242, 108, 85, 91, 89, 85, 227, 60, 56, 91, 121, 112, 37, 83, 53, 94, 77, 112, 75, 110, 115, 43, 50, 118, 73, 62, 84, 64, 50, 165, 133, 136, 77, 56, 120, 234, 184, 68, 129, 163, 104, 82, 63, 108, 172, 61, 68, 116, 103, 51, 90, 75, 20, 170, 128, 106, 60, 67, 67, 166, 275, 54, 29, 50, 55, 46, 136, 78, 99, 110, 121, 69, 69, 109, 125, 75, 67, 157, 83, 62, 107, 67, 179, 107, 167, 92, 111, 158, 91, 99, 129, 71, 116, 97, 98, 138, 193, 161, 50, 144, 80, 342, 85, 182, 57, 172, 145, 149, 274, 93, 66, 130, 104, 194, 279, 66, 111, 70, 108, 167, 119, 153, 102, 120, 222, 101, 86, 68, 82, 51, 113, 244, 107, 86, 108, 100, 113, 88, 86, 188, 123, 93, 66, 78, 80, 84, 47, 35, 120, 93, 37, 69, 478, 41, 82, 117, 100, 96, 163, 372, 75, 89, 101, 80, 215, 66, 97, 176, 182, 115, 145, 92, 73, 237, 77, 64, 255, 86, 214, 152, 132, 65, 119, 41, 173, 74, 73, 62, 151, 220, 157, 68, 99, 262, 135, 188, 132, 81, 137, 128, 31, 129, 261, 152, 191, 34, 122, 180, 55, 67, 74, 50, 82, 111, 93, 114, 90, 86, 235, 163, 146, 83, 179, 43, 109, 76, 186, 78, 119, 239, 148, 194, 105, 112, 138, 89, 52, 81, 40, 52, 117, 114, 193, 81, 57, 172, 124, 167, 124, 134, 60, 71, 69, 479, 106, 115, 100, 84, 119, 345, 119, 151, 79, 154, 203, 159, 72, 60, 110, 54, 28, 68, 140, 42, 212, 62, 118, 40, 22, 243, 49, 89, 58, 65, 56, 94, 145, 65, 143, 164, 157, 92, 75, 84, 189, 76, 176, 27, 141, 48, 104, 183, 60, 208, 61, 110, 82, 70, 96, 108, 175, 136, 92, 55, 188, 110, 88, 183, 239, 115, 264, 112, 96, 112, 75, 92, 216, 57, 60, 70, 122, 127, 140, 100, 46, 161, 168, 214, 153, 77, 150, 44, 64, 220, 103, 291, 101, 128, 65, 92, 122, 155, 89, 243, 61, 115, 57, 38, 156, 47, 44, 74, 146, 98, 298, 28, 206, 270, 204, 54, 92, 136, 101, 131, 120, 48, 39, 37, 133, 132, 146, 87, 78, 88, 57, 111, 101, 82, 41, 43, 149, 266, 170, 50, 163, 81, 205, 142, 199, 62, 135, 37, 190, 169, 53, 371, 96, 63, 171, 114, 86, 82, 151, 149, 377, 86, 204, 50, 128, 119, 95, 66, 53, 121, 103, 92, 102, 80, 465, 115, 136, 77, 153, 79, 328, 76, 118, 57, 37, 104, 63, 146, 86, 45, 118, 180, 45, 75, 147, 45, 135, 221, 58, 94, 69, 123, 62, 248, 45, 62, 75, 102, 87, 92, 62, 88, 72, 339, 135, 71, 103, 99, 83, 99, 45, 108, 130, 193, 57, 78, 65, 89, 147, 95, 135, 94, 62, 73, 84, 268, 62, 93, 121, 108, 175, 103, 137, 52, 96, 95, 153, 118, 115, 135, 58, 101, 96, 75, 116, 47, 128, 144, 158, 59, 200, 51, 101, 81, 359, 134, 153, 79, 101, 104, 116, 86, 85, 50, 134, 52, 120, 50, 37, 151, 46, 198, 37, 118, 112, 271, 61, 42, 63, 35, 357, 130, 201, 71, 75, 92, 132, 111, 102, 109, 108, 84, 78, 182, 93, 86, 81, 60, 69, 280, 67, 53, 118, 113, 94, 45, 72, 192, 146, 102, 145, 84, 108, 139, 101, 52, 43, 46, 126, 54, 116, 121, 80, 130, 378, 69, 49, 92, 62, 166, 166, 33, 40, 200, 85, 262, 96, 209, 78, 89, 107, 136, 61, 36, 109, 35, 120, 171, 146, 146, 124, 173, 85, 79, 78, 36, 210, 59, 48, 161, 50, 162, 103, 156, 123, 52, 121, 59, 147, 78, 42, 133, 70, 122, 56, 405, 74, 57, 144, 75, 165, 107, 84, 155, 58, 68, 109, 89, 149, 151, 63, 68, 307, 52, 105, 81, 55, 57, 42, 102, 164, 134, 77, 67, 97, 70, 48, 51, 102, 63, 123, 190, 37, 210, 79, 52, 77, 102, 70, 132, 104, 122, 97, 118, 47, 75, 63, 105, 95, 117, 80, 50, 99, 99, 137, 87, 98, 48, 163, 62, 110, 132, 102, 114, 58, 307, 226, 64, 136, 40, 181, 57, 152, 161, 181, 59, 151, 82, 185, 148, 37, 87, 80, 45, 124, 137, 53, 186, 90, 239, 187, 67, 68, 94, 94, 99, 122, 88, 70, 93, 86, 181, 168, 112, 91, 124, 232, 71, 128, 58, 45, 133, 81, 65, 107, 130, 128, 132, 131, 108, 134, 103, 78, 79, 104, 89, 232, 82, 84, 167, 290, 69, 85, 91, 57, 83, 63, 59, 133, 149, 75, 61, 153, 46, 66, 87, 163, 93, 115, 55, 82, 129, 153, 78, 91, 125, 113, 49, 65, 92, 147, 52, 71, 131, 195, 192, 67, 78, 51, 170, 53, 57, 56, 119, 93, 194, 40, 66, 82, 117, 242, 83, 109, 64, 135, 67, 50, 107, 70, 62, 118, 48, 67, 83, 98, 208, 140, 54, 51, 79, 166, 127, 75, 86, 160, 89, 64, 98, 176, 145, 136, 80, 134, 77, 92, 121, 130, 111, 79, 65, 236, 126, 122, 74, 243, 61, 52, 88, 132, 103, 40, 103, 143, 164, 80, 81, 96, 146, 161, 114, 78, 79, 142, 416, 68, 137, 170, 70, 65, 90, 129, 206, 116, 101, 176, 478, 218, 186, 128, 50, 69, 103, 225, 146, 108, 106, 136, 128, 83, 130, 78, 26, 41, 215, 197, 113, 202, 371, 79, 40, 220, 133, 114, 37, 48, 112, 236, 140, 68, 106, 107, 34, 60, 110, 93, 54, 50, 117, 47, 148, 103, 67, 111, 55, 302, 142, 40, 35, 119, 83, 131, 291, 107, 246, 70, 53, 110, 88, 81, 67, 110, 69, 144, 52, 99, 26, 99, 197, 88, 57, 58, 89, 90, 73, 143, 61, 54, 61, 112, 122, 211, 131, 105, 66, 49, 168, 166, 213, 93, 123, 78, 80, 59, 300, 37, 99, 95, 56, 194, 84, 50, 288, 58, 118, 84, 182, 216, 128, 57, 44, 242, 144, 116, 41, 100, 54, 67, 39, 48, 146, 100, 108, 90, 131, 149, 116, 55, 65, 56, 175, 344, 104, 231, 61, 132, 106, 127, 79, 76, 94, 64, 44, 169, 55, 304, 80, 103, 50, 41, 104, 77, 43, 138, 154, 63, 315, 86, 111, 89, 214, 86, 86, 89, 167, 85, 39, 128, 36, 99, 117, 163, 167, 216, 73, 123, 146, 139, 95, 81, 73, 152, 45, 61, 79, 256, 82, 126, 50, 173, 37, 228, 48, 46, 86, 212, 186, 43, 160, 126, 62, 118, 125, 240, 35, 47, 203, 92, 158, 100, 165, 107, 86, 68, 47, 203, 112, 32, 45, 76, 106, 127, 150, 92, 204, 102, 101, 152, 58, 115, 98, 139, 101, 180, 106, 96, 240, 65, 183, 145, 52, 112, 84, 121, 328, 251, 151, 56, 158, 182, 160, 61, 150, 21, 65, 80, 101, 132, 49, 107, 124, 121, 95, 84, 29, 113, 63, 111, 159, 63, 101, 63, 103, 118, 58, 179, 116, 80, 93, 114, 75, 96, 184, 57, 139, 282, 123, 92, 148, 83, 24, 66, 65, 71, 154, 177, 206, 43, 85, 90, 102, 93, 100, 147, 127, 35, 129, 157, 184, 236, 69, 130, 102, 159, 86, 81, 75, 53, 294, 131, 78, 23, 108, 89, 115, 38, 81, 23, 66, 127, 84, 66, 70, 129, 71, 51, 197, 163, 19, 131, 106, 101, 231, 61, 128, 193, 241, 225, 92, 86, 57, 130, 93, 102, 41, 80, 112, 145, 55, 215, 95, 94, 104, 111, 185, 108, 112, 184, 253, 200, 124, 88, 66, 67, 95, 100, 79, 151, 141, 39, 105, 239, 58, 105, 333, 79, 53, 131, 69, 55, 90, 39, 49, 54, 284, 161, 66, 113, 158, 58, 158, 208, 93, 95, 54, 203, 76, 115, 133, 170, 90, 58, 101, 109, 80, 122, 101, 111, 82, 128, 145, 115, 81, 150, 70, 165, 89, 92, 121, 85, 51, 80, 117, 114, 98, 107, 225, 119, 43, 22, 43, 36, 55, 54, 109, 72, 124, 61, 183, 178, 75, 98, 245, 141, 118, 81, 72, 94, 89, 86, 102, 103, 27, 85, 220, 66, 84, 104, 100, 29, 109, 189, 123, 91, 259, 155, 109, 118, 82, 71, 75, 103, 85, 51, 81, 56, 61, 65, 129, 126, 99, 138, 63, 252, 160, 112, 153, 63, 95, 31, 37, 184, 107, 111, 130, 145, 161, 107, 64, 72, 128, 123, 381, 111, 59, 57, 53, 99, 179, 85, 172, 50, 116, 41, 108, 109, 281, 76, 204, 174, 102, 126, 95, 77, 85, 76, 59, 108, 150, 115, 113, 169, 204, 154, 244, 92, 93, 134, 144, 190, 87, 44, 135, 147, 84, 69, 157, 92, 59, 82, 96, 87, 63, 84, 77, 77, 119, 175, 58, 45, 59, 99, 90, 57, 77, 187, 172, 73, 125, 65, 82, 90, 65, 129, 169, 114, 82, 90, 124, 50, 61, 124, 348, 35, 132, 70, 163, 97, 95, 26, 133, 224, 82, 44, 61, 201, 57, 30, 94, 128, 73, 110, 96, 143, 122, 135, 78, 112, 47, 50, 85, 58, 35, 125, 207, 46, 122, 134, 117, 144, 267, 62, 136, 91, 170, 101, 55, 154, 52, 82, 95, 83, 116, 65, 112, 118, 187, 100, 61, 117, 43, 80, 68, 129, 70, 52, 263, 87, 54, 296, 98, 78, 123, 154, 133, 167, 114, 102, 316, 143, 98, 97, 35, 106, 243, 113, 138, 74, 111, 42, 74, 92, 73, 188, 97, 107, 174, 41, 131, 152, 241, 172, 149, 43, 151, 113, 62, 134, 102, 20, 256, 145, 82, 86, 213, 49, 291, 77, 109, 90, 47, 184, 82, 60, 109, 117, 132, 158, 52, 48, 140, 95, 526, 199, 49, 69, 280, 119, 134, 116, 34, 91, 112, 281, 66, 78, 83, 59, 233, 74, 117, 109, 103, 72, 82, 137, 88, 53, 33, 212, 94, 171, 59, 97, 100, 138, 60, 71, 184, 109, 192, 161, 202, 63, 80, 204, 306, 70, 33, 86, 121, 83, 78, 169, 78, 55, 135, 135, 123, 191, 194, 224, 28, 29, 46, 40, 167, 93, 108, 53, 110, 185, 275, 110, 312, 122, 112, 67, 79, 144, 94, 112, 71, 92, 83, 62, 94, 62, 48, 104, 109, 185, 83, 135, 36, 70, 89, 120, 57, 83, 173, 40, 65, 106, 73, 90, 103, 161, 93, 29, 46, 50, 43, 175, 195, 108, 124, 123, 83, 109, 211, 148, 202, 120, 66, 114, 69, 281, 160, 128, 140, 94, 96, 56, 102, 83, 70, 126, 76, 59, 57, 54, 86, 165, 75, 229, 67, 173, 143, 44, 189, 104, 51, 113, 162, 102, 314, 112, 208, 115, 371, 63, 79, 63, 104, 83, 162, 108, 133, 91, 75, 96, 171, 114, 112, 129, 62, 60, 80, 71, 152, 84, 81, 119, 53, 44, 100, 190, 45, 70, 71, 379, 182, 164, 187, 41, 74, 58, 57, 141, 79, 109, 154, 65, 178, 109, 215, 26, 53, 227, 79, 200, 98, 121, 112, 97, 119, 50, 93, 87, 145, 67, 111, 217, 113, 44, 40, 51, 57, 113, 74, 119, 128, 97, 55, 62, 64, 203, 56, 306, 60, 126, 82, 76, 60, 108, 35, 90, 161, 105, 51, 99, 126, 168, 97, 60, 129, 120, 96, 44, 79, 70, 212, 134, 206, 111, 56, 63, 145, 56, 115, 128, 162, 82, 65, 45, 92, 68, 116, 144, 137, 62, 94, 129, 228, 132, 67, 23, 138, 36, 150, 107, 64, 138, 123, 162, 95, 114, 75, 43, 139, 119, 26, 106, 99, 90, 97, 68, 91, 77, 115, 254, 476, 95, 94, 240, 79, 209, 143, 66, 93, 50, 161, 98, 109, 118, 111, 47, 132, 171, 127, 43, 107, 143, 54, 107, 94, 163, 103, 44, 98, 44, 55, 67, 102, 130, 139, 464, 159, 100, 204, 156, 98, 113, 60, 126, 143, 134, 250, 203, 45, 151, 89, 91, 61, 79]\n"
          ],
          "name": "stdout"
        },
        {
          "output_type": "display_data",
          "data": {
            "image/png": "[encoded data removed]",
            "text/plain": [
              "<Figure size 432x288 with 1 Axes>"
            ]
          },
          "metadata": {
            "tags": [],
            "needs_background": "light"
          }
        }
      ]
    },
    {
      "cell_type": "code",
      "metadata": {
        "id": "CsTR3HcAtthR",
        "colab_type": "code",
        "outputId": "1f0908f4-4937-45fc-9867-4b1999fd0f50",
        "colab": {
          "base_uri": "https://localhost:8080/",
          "height": 1000
        }
      },
      "source": [
        "from kashgari.tasks.classification import BiLSTM_Model\n",
        "\n",
        "import logging\n",
        "logging.basicConfig(level='DEBUG')\n",
        "\n",
        "model = BiLSTM_Model(bert_embedding)\n",
        "\n",
        "model.fit(train_x,\n",
        "          train_y,\n",
        "          val_x,\n",
        "          val_y,\n",
        "          epochs=5,\n",
        "          batch_size=128)\n",
        "\n",
        "model.save(SAVE_MODEL_PATH)\n"
      ],
      "execution_count": 11,
      "outputs": [
        {
          "output_type": "stream",
          "text": [
            "Model: \"model_8\"\n",
            "__________________________________________________________________________________________________\n",
            "Layer (type)                    Output Shape         Param #     Connected to                     \n",
            "==================================================================================================\n",
            "Input-Token (InputLayer)        [(None, 512)]        0                                            \n",
            "__________________________________________________________________________________________________\n",
            "Input-Segment (InputLayer)      [(None, 512)]        0                                            \n",
            "__________________________________________________________________________________________________\n",
            "Embedding-Token (TokenEmbedding [(None, 512, 768), ( 91812096    Input-Token[0][0]                \n",
            "__________________________________________________________________________________________________\n",
            "Embedding-Segment (Embedding)   (None, 512, 768)     1536        Input-Segment[0][0]              \n",
            "__________________________________________________________________________________________________\n",
            "Embedding-Token-Segment (Add)   (None, 512, 768)     0           Embedding-Token[0][0]            \n",
            "                                                                 Embedding-Segment[0][0]          \n",
            "__________________________________________________________________________________________________\n",
            "Embedding-Position (PositionEmb (None, 512, 768)     393216      Embedding-Token-Segment[0][0]    \n",
            "__________________________________________________________________________________________________\n",
            "Embedding-Dropout (Dropout)     (None, 512, 768)     0           Embedding-Position[0][0]         \n",
            "__________________________________________________________________________________________________\n",
            "Embedding-Norm (LayerNormalizat (None, 512, 768)     1536        Embedding-Dropout[0][0]          \n",
            "__________________________________________________________________________________________________\n",
            "Encoder-1-MultiHeadSelfAttentio (None, 512, 768)     2362368     Embedding-Norm[0][0]             \n",
            "__________________________________________________________________________________________________\n",
            "Encoder-1-MultiHeadSelfAttentio (None, 512, 768)     0           Encoder-1-MultiHeadSelfAttention[\n",
            "__________________________________________________________________________________________________\n",
            "Encoder-1-MultiHeadSelfAttentio (None, 512, 768)     0           Embedding-Norm[0][0]             \n",
            "                                                                 Encoder-1-MultiHeadSelfAttention-\n",
            "__________________________________________________________________________________________________\n",
            "Encoder-1-MultiHeadSelfAttentio (None, 512, 768)     1536        Encoder-1-MultiHeadSelfAttention-\n",
            "__________________________________________________________________________________________________\n",
            "Encoder-1-FeedForward (FeedForw (None, 512, 768)     4722432     Encoder-1-MultiHeadSelfAttention-\n",
            "__________________________________________________________________________________________________\n",
            "Encoder-1-FeedForward-Dropout ( (None, 512, 768)     0           Encoder-1-FeedForward[0][0]      \n",
            "__________________________________________________________________________________________________\n",
            "Encoder-1-FeedForward-Add (Add) (None, 512, 768)     0           Encoder-1-MultiHeadSelfAttention-\n",
            "                                                                 Encoder-1-FeedForward-Dropout[0][\n",
            "__________________________________________________________________________________________________\n",
            "Encoder-1-FeedForward-Norm (Lay (None, 512, 768)     1536        Encoder-1-FeedForward-Add[0][0]  \n",
            "__________________________________________________________________________________________________\n",
            "Encoder-2-MultiHeadSelfAttentio (None, 512, 768)     2362368     Encoder-1-FeedForward-Norm[0][0] \n",
            "__________________________________________________________________________________________________\n",
            "Encoder-2-MultiHeadSelfAttentio (None, 512, 768)     0           Encoder-2-MultiHeadSelfAttention[\n",
            "__________________________________________________________________________________________________\n",
            "Encoder-2-MultiHeadSelfAttentio (None, 512, 768)     0           Encoder-1-FeedForward-Norm[0][0] \n",
            "                                                                 Encoder-2-MultiHeadSelfAttention-\n",
            "__________________________________________________________________________________________________\n",
            "Encoder-2-MultiHeadSelfAttentio (None, 512, 768)     1536        Encoder-2-MultiHeadSelfAttention-\n",
            "__________________________________________________________________________________________________\n",
            "Encoder-2-FeedForward (FeedForw (None, 512, 768)     4722432     Encoder-2-MultiHeadSelfAttention-\n",
            "__________________________________________________________________________________________________\n",
            "Encoder-2-FeedForward-Dropout ( (None, 512, 768)     0           Encoder-2-FeedForward[0][0]      \n",
            "__________________________________________________________________________________________________\n",
            "Encoder-2-FeedForward-Add (Add) (None, 512, 768)     0           Encoder-2-MultiHeadSelfAttention-\n",
            "                                                                 Encoder-2-FeedForward-Dropout[0][\n",
            "__________________________________________________________________________________________________\n",
            "Encoder-2-FeedForward-Norm (Lay (None, 512, 768)     1536        Encoder-2-FeedForward-Add[0][0]  \n",
            "__________________________________________________________________________________________________\n",
            "Encoder-3-MultiHeadSelfAttentio (None, 512, 768)     2362368     Encoder-2-FeedForward-Norm[0][0] \n",
            "__________________________________________________________________________________________________\n",
            "Encoder-3-MultiHeadSelfAttentio (None, 512, 768)     0           Encoder-3-MultiHeadSelfAttention[\n",
            "__________________________________________________________________________________________________\n",
            "Encoder-3-MultiHeadSelfAttentio (None, 512, 768)     0           Encoder-2-FeedForward-Norm[0][0] \n",
            "                                                                 Encoder-3-MultiHeadSelfAttention-\n",
            "__________________________________________________________________________________________________\n",
            "Encoder-3-MultiHeadSelfAttentio (None, 512, 768)     1536        Encoder-3-MultiHeadSelfAttention-\n",
            "__________________________________________________________________________________________________\n",
            "Encoder-3-FeedForward (FeedForw (None, 512, 768)     4722432     Encoder-3-MultiHeadSelfAttention-\n",
            "__________________________________________________________________________________________________\n",
            "Encoder-3-FeedForward-Dropout ( (None, 512, 768)     0           Encoder-3-FeedForward[0][0]      \n",
            "__________________________________________________________________________________________________\n",
            "Encoder-3-FeedForward-Add (Add) (None, 512, 768)     0           Encoder-3-MultiHeadSelfAttention-\n",
            "                                                                 Encoder-3-FeedForward-Dropout[0][\n",
            "__________________________________________________________________________________________________\n",
            "Encoder-3-FeedForward-Norm (Lay (None, 512, 768)     1536        Encoder-3-FeedForward-Add[0][0]  \n",
            "__________________________________________________________________________________________________\n",
            "Encoder-4-MultiHeadSelfAttentio (None, 512, 768)     2362368     Encoder-3-FeedForward-Norm[0][0] \n",
            "__________________________________________________________________________________________________\n",
            "Encoder-4-MultiHeadSelfAttentio (None, 512, 768)     0           Encoder-4-MultiHeadSelfAttention[\n",
            "__________________________________________________________________________________________________\n",
            "Encoder-4-MultiHeadSelfAttentio (None, 512, 768)     0           Encoder-3-FeedForward-Norm[0][0] \n",
            "                                                                 Encoder-4-MultiHeadSelfAttention-\n",
            "__________________________________________________________________________________________________\n",
            "Encoder-4-MultiHeadSelfAttentio (None, 512, 768)     1536        Encoder-4-MultiHeadSelfAttention-\n",
            "__________________________________________________________________________________________________\n",
            "Encoder-4-FeedForward (FeedForw (None, 512, 768)     4722432     Encoder-4-MultiHeadSelfAttention-\n",
            "__________________________________________________________________________________________________\n",
            "Encoder-4-FeedForward-Dropout ( (None, 512, 768)     0           Encoder-4-FeedForward[0][0]      \n",
            "__________________________________________________________________________________________________\n",
            "Encoder-4-FeedForward-Add (Add) (None, 512, 768)     0           Encoder-4-MultiHeadSelfAttention-\n",
            "                                                                 Encoder-4-FeedForward-Dropout[0][\n",
            "__________________________________________________________________________________________________\n",
            "Encoder-4-FeedForward-Norm (Lay (None, 512, 768)     1536        Encoder-4-FeedForward-Add[0][0]  \n",
            "__________________________________________________________________________________________________\n",
            "Encoder-5-MultiHeadSelfAttentio (None, 512, 768)     2362368     Encoder-4-FeedForward-Norm[0][0] \n",
            "__________________________________________________________________________________________________\n",
            "Encoder-5-MultiHeadSelfAttentio (None, 512, 768)     0           Encoder-5-MultiHeadSelfAttention[\n",
            "__________________________________________________________________________________________________\n",
            "Encoder-5-MultiHeadSelfAttentio (None, 512, 768)     0           Encoder-4-FeedForward-Norm[0][0] \n",
            "                                                                 Encoder-5-MultiHeadSelfAttention-\n",
            "__________________________________________________________________________________________________\n",
            "Encoder-5-MultiHeadSelfAttentio (None, 512, 768)     1536        Encoder-5-MultiHeadSelfAttention-\n",
            "__________________________________________________________________________________________________\n",
            "Encoder-5-FeedForward (FeedForw (None, 512, 768)     4722432     Encoder-5-MultiHeadSelfAttention-\n",
            "__________________________________________________________________________________________________\n",
            "Encoder-5-FeedForward-Dropout ( (None, 512, 768)     0           Encoder-5-FeedForward[0][0]      \n",
            "__________________________________________________________________________________________________\n",
            "Encoder-5-FeedForward-Add (Add) (None, 512, 768)     0           Encoder-5-MultiHeadSelfAttention-\n",
            "                                                                 Encoder-5-FeedForward-Dropout[0][\n",
            "__________________________________________________________________________________________________\n",
            "Encoder-5-FeedForward-Norm (Lay (None, 512, 768)     1536        Encoder-5-FeedForward-Add[0][0]  \n",
            "__________________________________________________________________________________________________\n",
            "Encoder-6-MultiHeadSelfAttentio (None, 512, 768)     2362368     Encoder-5-FeedForward-Norm[0][0] \n",
            "__________________________________________________________________________________________________\n",
            "Encoder-6-MultiHeadSelfAttentio (None, 512, 768)     0           Encoder-6-MultiHeadSelfAttention[\n",
            "__________________________________________________________________________________________________\n",
            "Encoder-6-MultiHeadSelfAttentio (None, 512, 768)     0           Encoder-5-FeedForward-Norm[0][0] \n",
            "                                                                 Encoder-6-MultiHeadSelfAttention-\n",
            "__________________________________________________________________________________________________\n",
            "Encoder-6-MultiHeadSelfAttentio (None, 512, 768)     1536        Encoder-6-MultiHeadSelfAttention-\n",
            "__________________________________________________________________________________________________\n",
            "Encoder-6-FeedForward (FeedForw (None, 512, 768)     4722432     Encoder-6-MultiHeadSelfAttention-\n",
            "__________________________________________________________________________________________________\n",
            "Encoder-6-FeedForward-Dropout ( (None, 512, 768)     0           Encoder-6-FeedForward[0][0]      \n",
            "__________________________________________________________________________________________________\n",
            "Encoder-6-FeedForward-Add (Add) (None, 512, 768)     0           Encoder-6-MultiHeadSelfAttention-\n",
            "                                                                 Encoder-6-FeedForward-Dropout[0][\n",
            "__________________________________________________________________________________________________\n",
            "Encoder-6-FeedForward-Norm (Lay (None, 512, 768)     1536        Encoder-6-FeedForward-Add[0][0]  \n",
            "__________________________________________________________________________________________________\n",
            "Encoder-7-MultiHeadSelfAttentio (None, 512, 768)     2362368     Encoder-6-FeedForward-Norm[0][0] \n",
            "__________________________________________________________________________________________________\n",
            "Encoder-7-MultiHeadSelfAttentio (None, 512, 768)     0           Encoder-7-MultiHeadSelfAttention[\n",
            "__________________________________________________________________________________________________\n",
            "Encoder-7-MultiHeadSelfAttentio (None, 512, 768)     0           Encoder-6-FeedForward-Norm[0][0] \n",
            "                                                                 Encoder-7-MultiHeadSelfAttention-\n",
            "__________________________________________________________________________________________________\n",
            "Encoder-7-MultiHeadSelfAttentio (None, 512, 768)     1536        Encoder-7-MultiHeadSelfAttention-\n",
            "__________________________________________________________________________________________________\n",
            "Encoder-7-FeedForward (FeedForw (None, 512, 768)     4722432     Encoder-7-MultiHeadSelfAttention-\n",
            "__________________________________________________________________________________________________\n",
            "Encoder-7-FeedForward-Dropout ( (None, 512, 768)     0           Encoder-7-FeedForward[0][0]      \n",
            "__________________________________________________________________________________________________\n",
            "Encoder-7-FeedForward-Add (Add) (None, 512, 768)     0           Encoder-7-MultiHeadSelfAttention-\n",
            "                                                                 Encoder-7-FeedForward-Dropout[0][\n",
            "__________________________________________________________________________________________________\n",
            "Encoder-7-FeedForward-Norm (Lay (None, 512, 768)     1536        Encoder-7-FeedForward-Add[0][0]  \n",
            "__________________________________________________________________________________________________\n",
            "Encoder-8-MultiHeadSelfAttentio (None, 512, 768)     2362368     Encoder-7-FeedForward-Norm[0][0] \n",
            "__________________________________________________________________________________________________\n",
            "Encoder-8-MultiHeadSelfAttentio (None, 512, 768)     0           Encoder-8-MultiHeadSelfAttention[\n",
            "__________________________________________________________________________________________________\n",
            "Encoder-8-MultiHeadSelfAttentio (None, 512, 768)     0           Encoder-7-FeedForward-Norm[0][0] \n",
            "                                                                 Encoder-8-MultiHeadSelfAttention-\n",
            "__________________________________________________________________________________________________\n",
            "Encoder-8-MultiHeadSelfAttentio (None, 512, 768)     1536        Encoder-8-MultiHeadSelfAttention-\n",
            "__________________________________________________________________________________________________\n",
            "Encoder-8-FeedForward (FeedForw (None, 512, 768)     4722432     Encoder-8-MultiHeadSelfAttention-\n",
            "__________________________________________________________________________________________________\n",
            "Encoder-8-FeedForward-Dropout ( (None, 512, 768)     0           Encoder-8-FeedForward[0][0]      \n",
            "__________________________________________________________________________________________________\n",
            "Encoder-8-FeedForward-Add (Add) (None, 512, 768)     0           Encoder-8-MultiHeadSelfAttention-\n",
            "                                                                 Encoder-8-FeedForward-Dropout[0][\n",
            "__________________________________________________________________________________________________\n",
            "Encoder-8-FeedForward-Norm (Lay (None, 512, 768)     1536        Encoder-8-FeedForward-Add[0][0]  \n",
            "__________________________________________________________________________________________________\n",
            "Encoder-9-MultiHeadSelfAttentio (None, 512, 768)     2362368     Encoder-8-FeedForward-Norm[0][0] \n",
            "__________________________________________________________________________________________________\n",
            "Encoder-9-MultiHeadSelfAttentio (None, 512, 768)     0           Encoder-9-MultiHeadSelfAttention[\n",
            "__________________________________________________________________________________________________\n",
            "Encoder-9-MultiHeadSelfAttentio (None, 512, 768)     0           Encoder-8-FeedForward-Norm[0][0] \n",
            "                                                                 Encoder-9-MultiHeadSelfAttention-\n",
            "__________________________________________________________________________________________________\n",
            "Encoder-9-MultiHeadSelfAttentio (None, 512, 768)     1536        Encoder-9-MultiHeadSelfAttention-\n",
            "__________________________________________________________________________________________________\n",
            "Encoder-9-FeedForward (FeedForw (None, 512, 768)     4722432     Encoder-9-MultiHeadSelfAttention-\n",
            "__________________________________________________________________________________________________\n",
            "Encoder-9-FeedForward-Dropout ( (None, 512, 768)     0           Encoder-9-FeedForward[0][0]      \n",
            "__________________________________________________________________________________________________\n",
            "Encoder-9-FeedForward-Add (Add) (None, 512, 768)     0           Encoder-9-MultiHeadSelfAttention-\n",
            "                                                                 Encoder-9-FeedForward-Dropout[0][\n",
            "__________________________________________________________________________________________________\n",
            "Encoder-9-FeedForward-Norm (Lay (None, 512, 768)     1536        Encoder-9-FeedForward-Add[0][0]  \n",
            "__________________________________________________________________________________________________\n",
            "Encoder-10-MultiHeadSelfAttenti (None, 512, 768)     2362368     Encoder-9-FeedForward-Norm[0][0] \n",
            "__________________________________________________________________________________________________\n",
            "Encoder-10-MultiHeadSelfAttenti (None, 512, 768)     0           Encoder-10-MultiHeadSelfAttention\n",
            "__________________________________________________________________________________________________\n",
            "Encoder-10-MultiHeadSelfAttenti (None, 512, 768)     0           Encoder-9-FeedForward-Norm[0][0] \n",
            "                                                                 Encoder-10-MultiHeadSelfAttention\n",
            "__________________________________________________________________________________________________\n",
            "Encoder-10-MultiHeadSelfAttenti (None, 512, 768)     1536        Encoder-10-MultiHeadSelfAttention\n",
            "__________________________________________________________________________________________________\n",
            "Encoder-10-FeedForward (FeedFor (None, 512, 768)     4722432     Encoder-10-MultiHeadSelfAttention\n",
            "__________________________________________________________________________________________________\n",
            "Encoder-10-FeedForward-Dropout  (None, 512, 768)     0           Encoder-10-FeedForward[0][0]     \n",
            "__________________________________________________________________________________________________\n",
            "Encoder-10-FeedForward-Add (Add (None, 512, 768)     0           Encoder-10-MultiHeadSelfAttention\n",
            "                                                                 Encoder-10-FeedForward-Dropout[0]\n",
            "__________________________________________________________________________________________________\n",
            "Encoder-10-FeedForward-Norm (La (None, 512, 768)     1536        Encoder-10-FeedForward-Add[0][0] \n",
            "__________________________________________________________________________________________________\n",
            "Encoder-11-MultiHeadSelfAttenti (None, 512, 768)     2362368     Encoder-10-FeedForward-Norm[0][0]\n",
            "__________________________________________________________________________________________________\n",
            "Encoder-11-MultiHeadSelfAttenti (None, 512, 768)     0           Encoder-11-MultiHeadSelfAttention\n",
            "__________________________________________________________________________________________________\n",
            "Encoder-11-MultiHeadSelfAttenti (None, 512, 768)     0           Encoder-10-FeedForward-Norm[0][0]\n",
            "                                                                 Encoder-11-MultiHeadSelfAttention\n",
            "__________________________________________________________________________________________________\n",
            "Encoder-11-MultiHeadSelfAttenti (None, 512, 768)     1536        Encoder-11-MultiHeadSelfAttention\n",
            "__________________________________________________________________________________________________\n",
            "Encoder-11-FeedForward (FeedFor (None, 512, 768)     4722432     Encoder-11-MultiHeadSelfAttention\n",
            "__________________________________________________________________________________________________\n",
            "Encoder-11-FeedForward-Dropout  (None, 512, 768)     0           Encoder-11-FeedForward[0][0]     \n",
            "__________________________________________________________________________________________________\n",
            "Encoder-11-FeedForward-Add (Add (None, 512, 768)     0           Encoder-11-MultiHeadSelfAttention\n",
            "                                                                 Encoder-11-FeedForward-Dropout[0]\n",
            "__________________________________________________________________________________________________\n",
            "Encoder-11-FeedForward-Norm (La (None, 512, 768)     1536        Encoder-11-FeedForward-Add[0][0] \n",
            "__________________________________________________________________________________________________\n",
            "Encoder-12-MultiHeadSelfAttenti (None, 512, 768)     2362368     Encoder-11-FeedForward-Norm[0][0]\n",
            "__________________________________________________________________________________________________\n",
            "Encoder-12-MultiHeadSelfAttenti (None, 512, 768)     0           Encoder-12-MultiHeadSelfAttention\n",
            "__________________________________________________________________________________________________\n",
            "Encoder-12-MultiHeadSelfAttenti (None, 512, 768)     0           Encoder-11-FeedForward-Norm[0][0]\n",
            "                                                                 Encoder-12-MultiHeadSelfAttention\n",
            "__________________________________________________________________________________________________\n",
            "Encoder-12-MultiHeadSelfAttenti (None, 512, 768)     1536        Encoder-12-MultiHeadSelfAttention\n",
            "__________________________________________________________________________________________________\n",
            "Encoder-12-FeedForward (FeedFor (None, 512, 768)     4722432     Encoder-12-MultiHeadSelfAttention\n",
            "__________________________________________________________________________________________________\n",
            "Encoder-12-FeedForward-Dropout  (None, 512, 768)     0           Encoder-12-FeedForward[0][0]     \n",
            "__________________________________________________________________________________________________\n",
            "Encoder-12-FeedForward-Add (Add (None, 512, 768)     0           Encoder-12-MultiHeadSelfAttention\n",
            "                                                                 Encoder-12-FeedForward-Dropout[0]\n",
            "__________________________________________________________________________________________________\n",
            "Encoder-12-FeedForward-Norm (La (None, 512, 768)     1536        Encoder-12-FeedForward-Add[0][0] \n",
            "__________________________________________________________________________________________________\n",
            "Encoder-Output (Concatenate)    (None, 512, 3072)    0           Encoder-9-FeedForward-Norm[0][0] \n",
            "                                                                 Encoder-10-FeedForward-Norm[0][0]\n",
            "                                                                 Encoder-11-FeedForward-Norm[0][0]\n",
            "                                                                 Encoder-12-FeedForward-Norm[0][0]\n",
            "__________________________________________________________________________________________________\n",
            "non_masking_layer_1 (NonMasking (None, 512, 3072)    0           Encoder-Output[0][0]             \n",
            "__________________________________________________________________________________________________\n",
            "bidirectional (Bidirectional)   (None, 256)          3277824     non_masking_layer_1[0][0]        \n",
            "__________________________________________________________________________________________________\n",
            "dense (Dense)                   (None, 2)            514         bidirectional[0][0]              \n",
            "==================================================================================================\n",
            "Total params: 180,541,186\n",
            "Trainable params: 3,278,338\n",
            "Non-trainable params: 177,262,848\n",
            "__________________________________________________________________________________________________\n",
            "Epoch 1/5\n",
            "141/142 [============================>.] - ETA: 4s - loss: 0.6219 - acc: 0.6843Epoch 1/5\n",
            "142/142 [==============================] - 731s 5s/step - loss: 0.6216 - acc: 0.6844 - val_loss: 0.5271 - val_acc: 0.7739\n",
            "Epoch 2/5\n",
            "141/142 [============================>.] - ETA: 4s - loss: 0.5516 - acc: 0.7252Epoch 1/5\n",
            "142/142 [==============================] - 718s 5s/step - loss: 0.5515 - acc: 0.7252 - val_loss: 0.5287 - val_acc: 0.7511\n",
            "Epoch 3/5\n",
            "141/142 [============================>.] - ETA: 4s - loss: 0.5376 - acc: 0.7362Epoch 1/5\n",
            "142/142 [==============================] - 719s 5s/step - loss: 0.5374 - acc: 0.7363 - val_loss: 0.4822 - val_acc: 0.7914\n",
            "Epoch 4/5\n",
            "141/142 [============================>.] - ETA: 4s - loss: 0.5209 - acc: 0.7487Epoch 1/5\n",
            "142/142 [==============================] - 717s 5s/step - loss: 0.5201 - acc: 0.7490 - val_loss: 0.4787 - val_acc: 0.7894\n",
            "Epoch 5/5\n",
            "141/142 [============================>.] - ETA: 4s - loss: 0.5149 - acc: 0.7538Epoch 1/5\n",
            "142/142 [==============================] - 718s 5s/step - loss: 0.5152 - acc: 0.7536 - val_loss: 0.5033 - val_acc: 0.7778\n"
          ],
          "name": "stdout"
        }
      ]
    },
    {
      "cell_type": "code",
      "metadata": {
        "id": "i--cVMr7fTXf",
        "colab_type": "code",
        "colab": {}
      },
      "source": [
        "from kashgari.utils import load_model\n",
        "\n",
        "model = load_model(SAVE_MODEL_PATH)"
      ],
      "execution_count": 0,
      "outputs": []
    },
    {
      "cell_type": "code",
      "metadata": {
        "id": "3q3YYXzS4Esr",
        "colab_type": "code",
        "colab": {}
      },
      "source": [
        "\n",
        "test = processor.test_data\n",
        "test_x = []\n",
        "test_y = []\n",
        "for d in test:\n",
        "  test_x.append(tokenizer.tokenize(d.get('question')) + \n",
        "               tokenizer.tokenize(d.get('text'))[1:])\n",
        "  test_y.append(str(d.get('label')))"
      ],
      "execution_count": 0,
      "outputs": []
    },
    {
      "cell_type": "code",
      "metadata": {
        "id": "QQHRwMn4Su7a",
        "colab_type": "code",
        "colab": {
          "base_uri": "https://localhost:8080/",
          "height": 170
        },
        "outputId": "41ee4e7f-9fc7-4c06-cbc7-d5c0baac3c26"
      },
      "source": [
        "# evaluate the model\n",
        "model.evaluate(test_x, test_y)"
      ],
      "execution_count": 13,
      "outputs": [
        {
          "output_type": "stream",
          "text": [
            "              precision    recall  f1-score   support\n",
            "\n",
            "       False     0.8437    0.8730    0.8581      1583\n",
            "        True     0.5248    0.4644    0.4928       478\n",
            "\n",
            "    accuracy                         0.7783      2061\n",
            "   macro avg     0.6843    0.6687    0.6755      2061\n",
            "weighted avg     0.7698    0.7783    0.7734      2061\n",
            "\n"
          ],
          "name": "stdout"
        }
      ]
    }
  ]
}