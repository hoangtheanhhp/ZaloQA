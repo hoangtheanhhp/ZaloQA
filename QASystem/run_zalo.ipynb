{
  "nbformat": 4,
  "nbformat_minor": 0,
  "metadata": {
    "kernelspec": {
      "display_name": "Python 3",
      "language": "python",
      "name": "python3"
    },
    "language_info": {
      "codemirror_mode": {
        "name": "ipython",
        "version": 2
      },
      "file_extension": ".py",
      "mimetype": "text/x-python",
      "name": "python",
      "nbconvert_exporter": "python",
      "pygments_lexer": "ipython2",
      "version": "2.7.6"
    },
    "colab": {
      "name": "run_zalo.ipynb",
      "provenance": [],
      "include_colab_link": true
    },
    "accelerator": "GPU"
  },
  "cells": [
    {
      "cell_type": "markdown",
      "metadata": {
        "id": "view-in-github",
        "colab_type": "text"
      },
      "source": [
        "<a href=\"https://colab.research.google.com/github/hoangtheanhhp/ZaloQA/blob/bert_lstm/QASystem/run_zalo.ipynb\" target=\"_parent\"><img src=\"https://colab.research.google.com/assets/colab-badge.svg\" alt=\"Open In Colab\"/></a>"
      ]
    },
    {
      "cell_type": "code",
      "metadata": {
        "id": "3dh0YnmCRfuH",
        "colab_type": "code",
        "outputId": "dc17ccdf-d775-418c-f7ae-cfea4e3aa5c2",
        "colab": {
          "base_uri": "https://localhost:8080/",
          "height": 122
        }
      },
      "source": [
        "\n",
        "from google.colab import drive\n",
        "drive.mount('/content/drive')"
      ],
      "execution_count": 1,
      "outputs": [
        {
          "output_type": "stream",
          "text": [
            "Go to this URL in a browser: https://accounts.google.com/o/oauth2/auth?client_id=947318989803-6bn6qk8qdgf4n4g3pfee6491hc0brc4i.apps.googleusercontent.com&redirect_uri=urn%3aietf%3awg%3aoauth%3a2.0%3aoob&response_type=code&scope=email%20https%3a%2f%2fwww.googleapis.com%2fauth%2fdocs.test%20https%3a%2f%2fwww.googleapis.com%2fauth%2fdrive%20https%3a%2f%2fwww.googleapis.com%2fauth%2fdrive.photos.readonly%20https%3a%2f%2fwww.googleapis.com%2fauth%2fpeopleapi.readonly\n",
            "\n",
            "Enter your authorization code:\n",
            "··········\n",
            "Mounted at /content/drive\n"
          ],
          "name": "stdout"
        }
      ]
    },
    {
      "cell_type": "code",
      "metadata": {
        "id": "-9IxqDN4LPUQ",
        "colab_type": "code",
        "outputId": "f5f30e92-5ce8-4e3c-c73a-488d38012b9a",
        "colab": {
          "base_uri": "https://localhost:8080/",
          "height": 153
        }
      },
      "source": [
        "!rm -rf zalo\n",
        "!test -d zalo || git clone https://github.com/hoangtheanhhp/ZaloQA zalo\n",
        "import sys\n",
        "if 'zalo' not in sys.path:\n",
        "  sys.path+=['zalo']"
      ],
      "execution_count": 2,
      "outputs": [
        {
          "output_type": "stream",
          "text": [
            "Cloning into 'zalo'...\n",
            "remote: Enumerating objects: 100, done.\u001b[K\n",
            "remote: Counting objects:   1% (1/100)\u001b[K\rremote: Counting objects:   2% (2/100)\u001b[K\rremote: Counting objects:   3% (3/100)\u001b[K\rremote: Counting objects:   4% (4/100)\u001b[K\rremote: Counting objects:   5% (5/100)\u001b[K\rremote: Counting objects:   6% (6/100)\u001b[K\rremote: Counting objects:   7% (7/100)\u001b[K\rremote: Counting objects:   8% (8/100)\u001b[K\rremote: Counting objects:   9% (9/100)\u001b[K\rremote: Counting objects:  10% (10/100)\u001b[K\rremote: Counting objects:  11% (11/100)\u001b[K\rremote: Counting objects:  12% (12/100)\u001b[K\rremote: Counting objects:  13% (13/100)\u001b[K\rremote: Counting objects:  14% (14/100)\u001b[K\rremote: Counting objects:  15% (15/100)\u001b[K\rremote: Counting objects:  16% (16/100)\u001b[K\rremote: Counting objects:  17% (17/100)\u001b[K\rremote: Counting objects:  18% (18/100)\u001b[K\rremote: Counting objects:  19% (19/100)\u001b[K\rremote: Counting objects:  20% (20/100)\u001b[K\rremote: Counting objects:  21% (21/100)\u001b[K\rremote: Counting objects:  22% (22/100)\u001b[K\rremote: Counting objects:  23% (23/100)\u001b[K\rremote: Counting objects:  24% (24/100)\u001b[K\rremote: Counting objects:  25% (25/100)\u001b[K\rremote: Counting objects:  26% (26/100)\u001b[K\rremote: Counting objects:  27% (27/100)\u001b[K\rremote: Counting objects:  28% (28/100)\u001b[K\rremote: Counting objects:  29% (29/100)\u001b[K\rremote: Counting objects:  30% (30/100)\u001b[K\rremote: Counting objects:  31% (31/100)\u001b[K\rremote: Counting objects:  32% (32/100)\u001b[K\rremote: Counting objects:  33% (33/100)\u001b[K\rremote: Counting objects:  34% (34/100)\u001b[K\rremote: Counting objects:  35% (35/100)\u001b[K\rremote: Counting objects:  36% (36/100)\u001b[K\rremote: Counting objects:  37% (37/100)\u001b[K\rremote: Counting objects:  38% (38/100)\u001b[K\rremote: Counting objects:  39% (39/100)\u001b[K\rremote: Counting objects:  40% (40/100)\u001b[K\rremote: Counting objects:  41% (41/100)\u001b[K\rremote: Counting objects:  42% (42/100)\u001b[K\rremote: Counting objects:  43% (43/100)\u001b[K\rremote: Counting objects:  44% (44/100)\u001b[K\rremote: Counting objects:  45% (45/100)\u001b[K\rremote: Counting objects:  46% (46/100)\u001b[K\rremote: Counting objects:  47% (47/100)\u001b[K\rremote: Counting objects:  48% (48/100)\u001b[K\rremote: Counting objects:  49% (49/100)\u001b[K\rremote: Counting objects:  50% (50/100)\u001b[K\rremote: Counting objects:  51% (51/100)\u001b[K\rremote: Counting objects:  52% (52/100)\u001b[K\rremote: Counting objects:  53% (53/100)\u001b[K\rremote: Counting objects:  54% (54/100)\u001b[K\rremote: Counting objects:  55% (55/100)\u001b[K\rremote: Counting objects:  56% (56/100)\u001b[K\rremote: Counting objects:  57% (57/100)\u001b[K\rremote: Counting objects:  58% (58/100)\u001b[K\rremote: Counting objects:  59% (59/100)\u001b[K\rremote: Counting objects:  60% (60/100)\u001b[K\rremote: Counting objects:  61% (61/100)\u001b[K\rremote: Counting objects:  62% (62/100)\u001b[K\rremote: Counting objects:  63% (63/100)\u001b[K\rremote: Counting objects:  64% (64/100)\u001b[K\rremote: Counting objects:  65% (65/100)\u001b[K\rremote: Counting objects:  66% (66/100)\u001b[K\rremote: Counting objects:  67% (67/100)\u001b[K\rremote: Counting objects:  68% (68/100)\u001b[K\rremote: Counting objects:  69% (69/100)\u001b[K\rremote: Counting objects:  70% (70/100)\u001b[K\rremote: Counting objects:  71% (71/100)\u001b[K\rremote: Counting objects:  72% (72/100)\u001b[K\rremote: Counting objects:  73% (73/100)\u001b[K\rremote: Counting objects:  74% (74/100)\u001b[K\rremote: Counting objects:  75% (75/100)\u001b[K\rremote: Counting objects:  76% (76/100)\u001b[K\rremote: Counting objects:  77% (77/100)\u001b[K\rremote: Counting objects:  78% (78/100)\u001b[K\rremote: Counting objects:  79% (79/100)\u001b[K\rremote: Counting objects:  80% (80/100)\u001b[K\rremote: Counting objects:  81% (81/100)\u001b[K\rremote: Counting objects:  82% (82/100)\u001b[K\rremote: Counting objects:  83% (83/100)\u001b[K\rremote: Counting objects:  84% (84/100)\u001b[K\rremote: Counting objects:  85% (85/100)\u001b[K\rremote: Counting objects:  86% (86/100)\u001b[K\rremote: Counting objects:  87% (87/100)\u001b[K\rremote: Counting objects:  88% (88/100)\u001b[K\rremote: Counting objects:  89% (89/100)\u001b[K\rremote: Counting objects:  90% (90/100)\u001b[K\rremote: Counting objects:  91% (91/100)\u001b[K\rremote: Counting objects:  92% (92/100)\u001b[K\rremote: Counting objects:  93% (93/100)\u001b[K\rremote: Counting objects:  94% (94/100)\u001b[K\rremote: Counting objects:  95% (95/100)\u001b[K\rremote: Counting objects:  96% (96/100)\u001b[K\rremote: Counting objects:  97% (97/100)\u001b[K\rremote: Counting objects:  98% (98/100)\u001b[K\rremote: Counting objects:  99% (99/100)\u001b[K\rremote: Counting objects: 100% (100/100)\u001b[K\rremote: Counting objects: 100% (100/100), done.\u001b[K\n",
            "remote: Compressing objects: 100% (77/77), done.\u001b[K\n",
            "remote: Total 616 (delta 58), reused 54 (delta 22), pack-reused 516\u001b[K\n",
            "Receiving objects: 100% (616/616), 94.28 MiB | 23.35 MiB/s, done.\n",
            "Resolving deltas: 100% (286/286), done.\n",
            "Checking out files: 100% (40/40), done.\n"
          ],
          "name": "stdout"
        }
      ]
    },
    {
      "cell_type": "code",
      "metadata": {
        "id": "Sdx1bGwe4GnQ",
        "colab_type": "code",
        "outputId": "c3ddf0cc-2a13-4da3-e384-7c968a5e3680",
        "colab": {
          "base_uri": "https://localhost:8080/",
          "height": 1000
        }
      },
      "source": [
        "%tensorflow_version 1.x\n",
        "!pip install tensorflow==1.15.2\n",
        "!pip install kashgari==1.1.4\n",
        "\n"
      ],
      "execution_count": 1,
      "outputs": [
        {
          "output_type": "stream",
          "text": [
            "TensorFlow 1.x selected.\n",
            "Requirement already satisfied: tensorflow==1.15.2 in /tensorflow-1.15.2/python3.6 (1.15.2)\n",
            "Requirement already satisfied: protobuf>=3.6.1 in /usr/local/lib/python3.6/dist-packages (from tensorflow==1.15.2) (3.10.0)\n",
            "Requirement already satisfied: astor>=0.6.0 in /usr/local/lib/python3.6/dist-packages (from tensorflow==1.15.2) (0.8.1)\n",
            "Requirement already satisfied: tensorboard<1.16.0,>=1.15.0 in /tensorflow-1.15.2/python3.6 (from tensorflow==1.15.2) (1.15.0)\n",
            "Requirement already satisfied: tensorflow-estimator==1.15.1 in /tensorflow-1.15.2/python3.6 (from tensorflow==1.15.2) (1.15.1)\n",
            "Requirement already satisfied: google-pasta>=0.1.6 in /usr/local/lib/python3.6/dist-packages (from tensorflow==1.15.2) (0.2.0)\n",
            "Requirement already satisfied: grpcio>=1.8.6 in /usr/local/lib/python3.6/dist-packages (from tensorflow==1.15.2) (1.28.1)\n",
            "Requirement already satisfied: keras-preprocessing>=1.0.5 in /usr/local/lib/python3.6/dist-packages (from tensorflow==1.15.2) (1.1.0)\n",
            "Requirement already satisfied: opt-einsum>=2.3.2 in /usr/local/lib/python3.6/dist-packages (from tensorflow==1.15.2) (3.2.1)\n",
            "Requirement already satisfied: wrapt>=1.11.1 in /usr/local/lib/python3.6/dist-packages (from tensorflow==1.15.2) (1.12.1)\n",
            "Requirement already satisfied: six>=1.10.0 in /usr/local/lib/python3.6/dist-packages (from tensorflow==1.15.2) (1.12.0)\n",
            "Requirement already satisfied: keras-applications>=1.0.8 in /usr/local/lib/python3.6/dist-packages (from tensorflow==1.15.2) (1.0.8)\n",
            "Requirement already satisfied: numpy<2.0,>=1.16.0 in /usr/local/lib/python3.6/dist-packages (from tensorflow==1.15.2) (1.16.4)\n",
            "Requirement already satisfied: absl-py>=0.7.0 in /usr/local/lib/python3.6/dist-packages (from tensorflow==1.15.2) (0.9.0)\n",
            "Requirement already satisfied: termcolor>=1.1.0 in /usr/local/lib/python3.6/dist-packages (from tensorflow==1.15.2) (1.1.0)\n",
            "Requirement already satisfied: wheel>=0.26; python_version >= \"3\" in /usr/local/lib/python3.6/dist-packages (from tensorflow==1.15.2) (0.34.2)\n",
            "Requirement already satisfied: gast==0.2.2 in /usr/local/lib/python3.6/dist-packages (from tensorflow==1.15.2) (0.2.2)\n",
            "Requirement already satisfied: setuptools in /usr/local/lib/python3.6/dist-packages (from protobuf>=3.6.1->tensorflow==1.15.2) (46.1.3)\n",
            "Requirement already satisfied: markdown>=2.6.8 in /usr/local/lib/python3.6/dist-packages (from tensorboard<1.16.0,>=1.15.0->tensorflow==1.15.2) (3.2.1)\n",
            "Requirement already satisfied: werkzeug>=0.11.15 in /usr/local/lib/python3.6/dist-packages (from tensorboard<1.16.0,>=1.15.0->tensorflow==1.15.2) (1.0.1)\n",
            "Requirement already satisfied: h5py in /usr/local/lib/python3.6/dist-packages (from keras-applications>=1.0.8->tensorflow==1.15.2) (2.10.0)\n",
            "Requirement already satisfied: kashgari==1.1.4 in /usr/local/lib/python3.6/dist-packages (1.1.4)\n",
            "Requirement already satisfied: keras-bert>=0.50.0 in /usr/local/lib/python3.6/dist-packages (from kashgari==1.1.4) (0.81.0)\n",
            "Requirement already satisfied: keras-gpt-2>=0.8.0 in /usr/local/lib/python3.6/dist-packages (from kashgari==1.1.4) (0.14.0)\n",
            "Requirement already satisfied: scikit-learn>=0.21.1 in /usr/local/lib/python3.6/dist-packages (from kashgari==1.1.4) (0.22.2.post1)\n",
            "Requirement already satisfied: numpy==1.16.4 in /usr/local/lib/python3.6/dist-packages (from kashgari==1.1.4) (1.16.4)\n",
            "Requirement already satisfied: h5py in /usr/local/lib/python3.6/dist-packages (from kashgari==1.1.4) (2.10.0)\n",
            "Requirement already satisfied: seqeval==0.0.10 in /usr/local/lib/python3.6/dist-packages (from kashgari==1.1.4) (0.0.10)\n",
            "Requirement already satisfied: gensim>=3.5.0 in /usr/local/lib/python3.6/dist-packages (from kashgari==1.1.4) (3.6.0)\n",
            "Requirement already satisfied: bert4keras==0.6.5 in /usr/local/lib/python3.6/dist-packages (from kashgari==1.1.4) (0.6.5)\n",
            "Requirement already satisfied: pandas>=0.23.0 in /usr/local/lib/python3.6/dist-packages (from kashgari==1.1.4) (1.0.3)\n",
            "Requirement already satisfied: Keras in /usr/local/lib/python3.6/dist-packages (from keras-bert>=0.50.0->kashgari==1.1.4) (2.3.1)\n",
            "Requirement already satisfied: keras-transformer>=0.30.0 in /usr/local/lib/python3.6/dist-packages (from keras-bert>=0.50.0->kashgari==1.1.4) (0.32.0)\n",
            "Requirement already satisfied: regex in /usr/local/lib/python3.6/dist-packages (from keras-gpt-2>=0.8.0->kashgari==1.1.4) (2019.12.20)\n",
            "Requirement already satisfied: scipy>=0.17.0 in /usr/local/lib/python3.6/dist-packages (from scikit-learn>=0.21.1->kashgari==1.1.4) (1.4.1)\n",
            "Requirement already satisfied: joblib>=0.11 in /usr/local/lib/python3.6/dist-packages (from scikit-learn>=0.21.1->kashgari==1.1.4) (0.14.1)\n",
            "Requirement already satisfied: six in /usr/local/lib/python3.6/dist-packages (from h5py->kashgari==1.1.4) (1.12.0)\n",
            "Requirement already satisfied: smart-open>=1.2.1 in /usr/local/lib/python3.6/dist-packages (from gensim>=3.5.0->kashgari==1.1.4) (1.11.1)\n",
            "Requirement already satisfied: pytz>=2017.2 in /usr/local/lib/python3.6/dist-packages (from pandas>=0.23.0->kashgari==1.1.4) (2018.9)\n",
            "Requirement already satisfied: python-dateutil>=2.6.1 in /usr/local/lib/python3.6/dist-packages (from pandas>=0.23.0->kashgari==1.1.4) (2.8.1)\n",
            "Requirement already satisfied: keras-applications>=1.0.6 in /usr/local/lib/python3.6/dist-packages (from Keras->keras-bert>=0.50.0->kashgari==1.1.4) (1.0.8)\n",
            "Requirement already satisfied: keras-preprocessing>=1.0.5 in /usr/local/lib/python3.6/dist-packages (from Keras->keras-bert>=0.50.0->kashgari==1.1.4) (1.1.0)\n",
            "Requirement already satisfied: pyyaml in /usr/local/lib/python3.6/dist-packages (from Keras->keras-bert>=0.50.0->kashgari==1.1.4) (3.13)\n",
            "Requirement already satisfied: keras-pos-embd>=0.10.0 in /usr/local/lib/python3.6/dist-packages (from keras-transformer>=0.30.0->keras-bert>=0.50.0->kashgari==1.1.4) (0.11.0)\n",
            "Requirement already satisfied: keras-position-wise-feed-forward>=0.5.0 in /usr/local/lib/python3.6/dist-packages (from keras-transformer>=0.30.0->keras-bert>=0.50.0->kashgari==1.1.4) (0.6.0)\n",
            "Requirement already satisfied: keras-embed-sim>=0.7.0 in /usr/local/lib/python3.6/dist-packages (from keras-transformer>=0.30.0->keras-bert>=0.50.0->kashgari==1.1.4) (0.7.0)\n",
            "Requirement already satisfied: keras-multi-head>=0.22.0 in /usr/local/lib/python3.6/dist-packages (from keras-transformer>=0.30.0->keras-bert>=0.50.0->kashgari==1.1.4) (0.22.0)\n",
            "Requirement already satisfied: keras-layer-normalization>=0.12.0 in /usr/local/lib/python3.6/dist-packages (from keras-transformer>=0.30.0->keras-bert>=0.50.0->kashgari==1.1.4) (0.14.0)\n",
            "Requirement already satisfied: boto in /usr/local/lib/python3.6/dist-packages (from smart-open>=1.2.1->gensim>=3.5.0->kashgari==1.1.4) (2.49.0)\n",
            "Requirement already satisfied: requests in /usr/local/lib/python3.6/dist-packages (from smart-open>=1.2.1->gensim>=3.5.0->kashgari==1.1.4) (2.21.0)\n",
            "Requirement already satisfied: boto3 in /usr/local/lib/python3.6/dist-packages (from smart-open>=1.2.1->gensim>=3.5.0->kashgari==1.1.4) (1.12.40)\n",
            "Requirement already satisfied: keras-self-attention==0.41.0 in /usr/local/lib/python3.6/dist-packages (from keras-multi-head>=0.22.0->keras-transformer>=0.30.0->keras-bert>=0.50.0->kashgari==1.1.4) (0.41.0)\n",
            "Requirement already satisfied: certifi>=2017.4.17 in /usr/local/lib/python3.6/dist-packages (from requests->smart-open>=1.2.1->gensim>=3.5.0->kashgari==1.1.4) (2020.4.5.1)\n",
            "Requirement already satisfied: urllib3<1.25,>=1.21.1 in /usr/local/lib/python3.6/dist-packages (from requests->smart-open>=1.2.1->gensim>=3.5.0->kashgari==1.1.4) (1.24.3)\n",
            "Requirement already satisfied: chardet<3.1.0,>=3.0.2 in /usr/local/lib/python3.6/dist-packages (from requests->smart-open>=1.2.1->gensim>=3.5.0->kashgari==1.1.4) (3.0.4)\n",
            "Requirement already satisfied: idna<2.9,>=2.5 in /usr/local/lib/python3.6/dist-packages (from requests->smart-open>=1.2.1->gensim>=3.5.0->kashgari==1.1.4) (2.8)\n",
            "Requirement already satisfied: jmespath<1.0.0,>=0.7.1 in /usr/local/lib/python3.6/dist-packages (from boto3->smart-open>=1.2.1->gensim>=3.5.0->kashgari==1.1.4) (0.9.5)\n",
            "Requirement already satisfied: s3transfer<0.4.0,>=0.3.0 in /usr/local/lib/python3.6/dist-packages (from boto3->smart-open>=1.2.1->gensim>=3.5.0->kashgari==1.1.4) (0.3.3)\n",
            "Requirement already satisfied: botocore<1.16.0,>=1.15.40 in /usr/local/lib/python3.6/dist-packages (from boto3->smart-open>=1.2.1->gensim>=3.5.0->kashgari==1.1.4) (1.15.40)\n",
            "Requirement already satisfied: docutils<0.16,>=0.10 in /usr/local/lib/python3.6/dist-packages (from botocore<1.16.0,>=1.15.40->boto3->smart-open>=1.2.1->gensim>=3.5.0->kashgari==1.1.4) (0.15.2)\n"
          ],
          "name": "stdout"
        }
      ]
    },
    {
      "cell_type": "code",
      "metadata": {
        "id": "AtVpXIw6M4CO",
        "colab_type": "code",
        "colab": {}
      },
      "source": [
        "DATASET_PATH = \"zalo/Dataset/zalo\"\n",
        "SAVE_MODEL_PATH = \"/content/drive/My Drive/ZaloAI/result/model23042020\"\n",
        "MODEL_PATH = \"/content/drive/My Drive/ZaloAI/bert\""
      ],
      "execution_count": 0,
      "outputs": []
    },
    {
      "cell_type": "code",
      "metadata": {
        "id": "UfjKr9Z_d9RR",
        "colab_type": "code",
        "outputId": "e48dd28a-9069-4803-ee51-79ba01416e56",
        "colab": {
          "base_uri": "https://localhost:8080/",
          "height": 34
        }
      },
      "source": [
        "from zalo.QASystem.preprocess import ZaloDatasetProcessor\n",
        "\n",
        "import kashgari\n",
        "processor = ZaloDatasetProcessor()\n",
        "from kashgari.embeddings import BERTEmbedding\n",
        "\n",
        "bert_embedding = BERTEmbedding(MODEL_PATH,\n",
        "                               task=kashgari.CLASSIFICATION,\n",
        "                               sequence_length=128)\n",
        "\n",
        "tokenizer = bert_embedding.tokenizer"
      ],
      "execution_count": 10,
      "outputs": [
        {
          "output_type": "stream",
          "text": [
            "WARNING:root:seq_len: 128\n"
          ],
          "name": "stderr"
        }
      ]
    },
    {
      "cell_type": "code",
      "metadata": {
        "id": "YvMGadO85XIX",
        "colab_type": "code",
        "colab": {}
      },
      "source": [
        "processor.val_data = []\n",
        "processor.train_data = []"
      ],
      "execution_count": 0,
      "outputs": []
    },
    {
      "cell_type": "code",
      "metadata": {
        "id": "tSZxqz_vRPze",
        "colab_type": "code",
        "outputId": "f128b2c5-b8e2-4b37-cb47-c4ca68be4ac0",
        "colab": {
          "base_uri": "https://localhost:8080/",
          "height": 68
        }
      },
      "source": [
        "\n",
        "\n",
        "\n",
        "processor.load_from_path(DATASET_PATH,\"train\", \"train.json\")\n",
        "processor.load_from_path(DATASET_PATH,\"val\", \"val.json\")\n",
        "\n",
        "data = processor.train_data\n",
        "val = processor.val_data\n",
        "train_x = []\n",
        "train_y = []\n",
        "val_x = []\n",
        "val_y = []\n",
        "for d in data:\n",
        "  train_x.append(tokenizer.tokenize(d.get('question')) + \n",
        "                 tokenizer.tokenize(d.get('text'))[1:])\n",
        "  train_y.append(str(d.get('label', False)))\n",
        "\n",
        "for d in val:\n",
        "  val_x.append(tokenizer.tokenize(d.get('question')) + \n",
        "               tokenizer.tokenize(d.get('text'))[1:])\n",
        "  val_y.append(str(d.get('label', False)))\n",
        "\n",
        "print(len(train_x), len(train_y), len(val_x), len(val_y))\n"
      ],
      "execution_count": 16,
      "outputs": [
        {
          "output_type": "stream",
          "text": [
            "100%|██████████| 14200/14200 [00:00<00:00, 1183513.17it/s]\n",
            "100%|██████████| 3906/3906 [00:00<00:00, 719497.21it/s]\n"
          ],
          "name": "stderr"
        },
        {
          "output_type": "stream",
          "text": [
            "14200 14200 3906 3906\n"
          ],
          "name": "stdout"
        }
      ]
    },
    {
      "cell_type": "code",
      "metadata": {
        "id": "CsTR3HcAtthR",
        "colab_type": "code",
        "outputId": "89cc6c06-8e76-4278-da20-1cf8b7b2ca35",
        "colab": {
          "base_uri": "https://localhost:8080/",
          "height": 1000
        }
      },
      "source": [
        "from tensorflow.python import keras\n",
        "from kashgari.tasks.classification import BiLSTM_Model\n",
        "from kashgari.callbacks import EvalCallBack\n",
        "\n",
        "import logging\n",
        "logging.basicConfig(level='DEBUG')\n",
        "\n",
        "model = BiLSTM_Model()\n",
        "\n",
        "model.fit(train_x,\n",
        "          train_y,\n",
        "          val_x,\n",
        "          val_y,\n",
        "          epochs=100,\n",
        "          batch_size=32)\n",
        "\n",
        "model.save(SAVE_MODEL_PATH)\n"
      ],
      "execution_count": 0,
      "outputs": [
        {
          "output_type": "stream",
          "text": [
            "WARNING:root:Sequence length will auto set at 95% of sequence length\n"
          ],
          "name": "stderr"
        },
        {
          "output_type": "stream",
          "text": [
            "Model: \"model_13\"\n",
            "_________________________________________________________________\n",
            "Layer (type)                 Output Shape              Param #   \n",
            "=================================================================\n",
            "input (InputLayer)           [(None, 176)]             0         \n",
            "_________________________________________________________________\n",
            "layer_embedding (Embedding)  (None, 176, 100)          720500    \n",
            "_________________________________________________________________\n",
            "bidirectional_2 (Bidirection (None, 256)               234496    \n",
            "_________________________________________________________________\n",
            "dense_2 (Dense)              (None, 2)                 514       \n",
            "=================================================================\n",
            "Total params: 955,510\n",
            "Trainable params: 955,510\n",
            "Non-trainable params: 0\n",
            "_________________________________________________________________\n",
            "Epoch 1/100\n",
            "443/444 [============================>.] - ETA: 0s - loss: 0.6040 - acc: 0.7003Epoch 1/100\n",
            "444/444 [==============================] - 223s 503ms/step - loss: 0.6042 - acc: 0.7001 - val_loss: 0.6223 - val_acc: 0.6613\n",
            "Epoch 2/100\n",
            "443/444 [============================>.] - ETA: 0s - loss: 0.5652 - acc: 0.7200Epoch 1/100\n",
            "444/444 [==============================] - 215s 485ms/step - loss: 0.5653 - acc: 0.7199 - val_loss: 0.6413 - val_acc: 0.6500\n",
            "Epoch 3/100\n",
            "443/444 [============================>.] - ETA: 0s - loss: 0.5336 - acc: 0.7448Epoch 1/100\n",
            "444/444 [==============================] - 218s 491ms/step - loss: 0.5340 - acc: 0.7445 - val_loss: 0.6235 - val_acc: 0.6692\n",
            "Epoch 4/100\n",
            "443/444 [============================>.] - ETA: 0s - loss: 0.4681 - acc: 0.7843Epoch 1/100\n",
            "444/444 [==============================] - 215s 485ms/step - loss: 0.4680 - acc: 0.7843 - val_loss: 0.6344 - val_acc: 0.6874\n",
            "Epoch 5/100\n",
            "443/444 [============================>.] - ETA: 0s - loss: 0.4188 - acc: 0.8134Epoch 1/100\n",
            "444/444 [==============================] - 217s 489ms/step - loss: 0.4185 - acc: 0.8135 - val_loss: 0.6617 - val_acc: 0.6795\n",
            "Epoch 6/100\n",
            "443/444 [============================>.] - ETA: 0s - loss: 0.3746 - acc: 0.8369Epoch 1/100\n",
            "444/444 [==============================] - 222s 501ms/step - loss: 0.3747 - acc: 0.8368 - val_loss: 0.6996 - val_acc: 0.6708\n",
            "Epoch 7/100\n",
            "443/444 [============================>.] - ETA: 0s - loss: 0.3344 - acc: 0.8555Epoch 1/100\n",
            "444/444 [==============================] - 223s 503ms/step - loss: 0.3347 - acc: 0.8555 - val_loss: 0.7740 - val_acc: 0.6782\n",
            "Epoch 8/100\n",
            "443/444 [============================>.] - ETA: 0s - loss: 0.3074 - acc: 0.8669Epoch 1/100\n",
            "444/444 [==============================] - 227s 510ms/step - loss: 0.3079 - acc: 0.8667 - val_loss: 0.8018 - val_acc: 0.6792\n",
            "Epoch 9/100\n",
            "443/444 [============================>.] - ETA: 0s - loss: 0.2695 - acc: 0.8862Epoch 1/100\n",
            "444/444 [==============================] - 232s 524ms/step - loss: 0.2699 - acc: 0.8861 - val_loss: 0.8725 - val_acc: 0.6687\n",
            "Epoch 10/100\n",
            "443/444 [============================>.] - ETA: 0s - loss: 0.2429 - acc: 0.8982Epoch 1/100\n",
            "444/444 [==============================] - 233s 526ms/step - loss: 0.2432 - acc: 0.8980 - val_loss: 0.9810 - val_acc: 0.6761\n",
            "Epoch 11/100\n",
            "443/444 [============================>.] - ETA: 0s - loss: 0.2224 - acc: 0.9056Epoch 1/100\n",
            "444/444 [==============================] - 233s 525ms/step - loss: 0.2223 - acc: 0.9057 - val_loss: 1.1209 - val_acc: 0.6664\n",
            "Epoch 12/100\n",
            "443/444 [============================>.] - ETA: 0s - loss: 0.1998 - acc: 0.9174Epoch 1/100\n",
            "444/444 [==============================] - 227s 512ms/step - loss: 0.1998 - acc: 0.9175 - val_loss: 1.0989 - val_acc: 0.6531\n",
            "Epoch 13/100\n",
            "443/444 [============================>.] - ETA: 0s - loss: 0.1822 - acc: 0.9228Epoch 1/100\n",
            "444/444 [==============================] - 226s 509ms/step - loss: 0.1821 - acc: 0.9229 - val_loss: 1.1904 - val_acc: 0.6687\n",
            "Epoch 14/100\n",
            "443/444 [============================>.] - ETA: 0s - loss: 0.1669 - acc: 0.9314Epoch 1/100\n",
            "444/444 [==============================] - 226s 509ms/step - loss: 0.1668 - acc: 0.9315 - val_loss: 1.2210 - val_acc: 0.6662\n",
            "Epoch 15/100\n",
            "443/444 [============================>.] - ETA: 0s - loss: 0.1470 - acc: 0.9381Epoch 1/100\n",
            "444/444 [==============================] - 229s 515ms/step - loss: 0.1468 - acc: 0.9382 - val_loss: 1.3503 - val_acc: 0.6539\n",
            "Epoch 16/100\n",
            "443/444 [============================>.] - ETA: 0s - loss: 0.1391 - acc: 0.9438Epoch 1/100\n",
            "444/444 [==============================] - 227s 511ms/step - loss: 0.1389 - acc: 0.9439 - val_loss: 1.3276 - val_acc: 0.6664\n",
            "Epoch 17/100\n",
            "443/444 [============================>.] - ETA: 0s - loss: 0.1267 - acc: 0.9481Epoch 1/100\n",
            "444/444 [==============================] - 226s 509ms/step - loss: 0.1274 - acc: 0.9479 - val_loss: 1.4767 - val_acc: 0.6500\n",
            "Epoch 18/100\n",
            "443/444 [============================>.] - ETA: 0s - loss: 0.1168 - acc: 0.9509Epoch 1/100\n",
            "444/444 [==============================] - 225s 506ms/step - loss: 0.1170 - acc: 0.9508 - val_loss: 1.6163 - val_acc: 0.6685\n",
            "Epoch 19/100\n",
            "443/444 [============================>.] - ETA: 0s - loss: 0.1014 - acc: 0.9608Epoch 1/100\n",
            "444/444 [==============================] - 225s 508ms/step - loss: 0.1014 - acc: 0.9608 - val_loss: 1.6252 - val_acc: 0.6559\n",
            "Epoch 20/100\n",
            "443/444 [============================>.] - ETA: 0s - loss: 0.1017 - acc: 0.9589Epoch 1/100\n",
            "444/444 [==============================] - 225s 506ms/step - loss: 0.1016 - acc: 0.9590 - val_loss: 1.6506 - val_acc: 0.6708\n",
            "Epoch 21/100\n",
            "443/444 [============================>.] - ETA: 0s - loss: 0.0846 - acc: 0.9673Epoch 1/100\n",
            "444/444 [==============================] - 225s 506ms/step - loss: 0.0845 - acc: 0.9673 - val_loss: 1.7804 - val_acc: 0.6505\n",
            "Epoch 22/100\n",
            "443/444 [============================>.] - ETA: 0s - loss: 0.0874 - acc: 0.9656Epoch 1/100\n",
            "444/444 [==============================] - 225s 506ms/step - loss: 0.0873 - acc: 0.9656 - val_loss: 1.7444 - val_acc: 0.6541\n",
            "Epoch 23/100\n",
            "443/444 [============================>.] - ETA: 0s - loss: 0.1000 - acc: 0.9608Epoch 1/100\n",
            "444/444 [==============================] - 223s 502ms/step - loss: 0.1001 - acc: 0.9608 - val_loss: 1.6569 - val_acc: 0.6685\n",
            "Epoch 24/100\n",
            "443/444 [============================>.] - ETA: 0s - loss: 0.0655 - acc: 0.9743Epoch 1/100\n",
            "444/444 [==============================] - 216s 487ms/step - loss: 0.0655 - acc: 0.9743 - val_loss: 1.8101 - val_acc: 0.6464\n",
            "Epoch 25/100\n",
            "443/444 [============================>.] - ETA: 0s - loss: 0.0609 - acc: 0.9755Epoch 1/100\n",
            "444/444 [==============================] - 216s 487ms/step - loss: 0.0608 - acc: 0.9755 - val_loss: 1.9527 - val_acc: 0.6480\n",
            "Epoch 26/100\n",
            "443/444 [============================>.] - ETA: 0s - loss: 0.0536 - acc: 0.9798Epoch 1/100\n",
            "444/444 [==============================] - 226s 508ms/step - loss: 0.0536 - acc: 0.9798 - val_loss: 2.1520 - val_acc: 0.6646\n",
            "Epoch 27/100\n",
            "443/444 [============================>.] - ETA: 0s - loss: 0.0556 - acc: 0.9787Epoch 1/100\n",
            "444/444 [==============================] - 233s 525ms/step - loss: 0.0555 - acc: 0.9787 - val_loss: 2.0495 - val_acc: 0.6544\n",
            "Epoch 28/100\n",
            "443/444 [============================>.] - ETA: 0s - loss: 0.0583 - acc: 0.9788Epoch 1/100\n",
            "444/444 [==============================] - 228s 514ms/step - loss: 0.0583 - acc: 0.9788 - val_loss: 2.1102 - val_acc: 0.6615\n",
            "Epoch 29/100\n",
            "443/444 [============================>.] - ETA: 0s - loss: 0.0578 - acc: 0.9792Epoch 1/100\n",
            "444/444 [==============================] - 227s 511ms/step - loss: 0.0577 - acc: 0.9792 - val_loss: 2.0907 - val_acc: 0.6572\n",
            "Epoch 30/100\n",
            "443/444 [============================>.] - ETA: 0s - loss: 0.0440 - acc: 0.9834Epoch 1/100\n",
            "444/444 [==============================] - 225s 507ms/step - loss: 0.0439 - acc: 0.9835 - val_loss: 2.1773 - val_acc: 0.6580\n",
            "Epoch 31/100\n",
            "443/444 [============================>.] - ETA: 0s - loss: 0.0415 - acc: 0.9848Epoch 1/100\n",
            "444/444 [==============================] - 228s 515ms/step - loss: 0.0414 - acc: 0.9849 - val_loss: 2.3340 - val_acc: 0.6598\n",
            "Epoch 32/100\n",
            "443/444 [============================>.] - ETA: 0s - loss: 0.0306 - acc: 0.9893Epoch 1/100\n",
            "444/444 [==============================] - 227s 512ms/step - loss: 0.0312 - acc: 0.9892 - val_loss: 2.3115 - val_acc: 0.6623\n",
            "Epoch 33/100\n",
            "443/444 [============================>.] - ETA: 0s - loss: 0.0372 - acc: 0.9872Epoch 1/100\n",
            "444/444 [==============================] - 228s 512ms/step - loss: 0.0372 - acc: 0.9871 - val_loss: 2.5513 - val_acc: 0.6787\n",
            "Epoch 34/100\n",
            "443/444 [============================>.] - ETA: 0s - loss: 0.0295 - acc: 0.9905Epoch 1/100\n",
            "444/444 [==============================] - 226s 509ms/step - loss: 0.0295 - acc: 0.9906 - val_loss: 2.4067 - val_acc: 0.6431\n",
            "Epoch 35/100\n",
            "443/444 [============================>.] - ETA: 0s - loss: 0.0358 - acc: 0.9884Epoch 1/100\n",
            "444/444 [==============================] - 227s 511ms/step - loss: 0.0358 - acc: 0.9885 - val_loss: 2.4156 - val_acc: 0.6621\n",
            "Epoch 36/100\n",
            "443/444 [============================>.] - ETA: 0s - loss: 0.0414 - acc: 0.9855Epoch 1/100\n",
            "444/444 [==============================] - 227s 511ms/step - loss: 0.0413 - acc: 0.9856 - val_loss: 2.1126 - val_acc: 0.6626\n",
            "Epoch 37/100\n",
            "148/444 [=========>....................] - ETA: 2:22 - loss: 0.0234 - acc: 0.9935"
          ],
          "name": "stdout"
        }
      ]
    },
    {
      "cell_type": "code",
      "metadata": {
        "id": "i--cVMr7fTXf",
        "colab_type": "code",
        "outputId": "a3b9fc80-4a13-4b69-bf84-ece522376841",
        "colab": {
          "base_uri": "https://localhost:8080/",
          "height": 34
        }
      },
      "source": [
        "from kashgari.utils import load_model\n",
        "\n",
        "model = load_model(SAVE_MODEL_PATH)"
      ],
      "execution_count": 0,
      "outputs": [
        {
          "output_type": "stream",
          "text": [
            "WARNING:root:Sequence length will auto set at 95% of sequence length\n"
          ],
          "name": "stderr"
        }
      ]
    },
    {
      "cell_type": "code",
      "metadata": {
        "id": "3q3YYXzS4Esr",
        "colab_type": "code",
        "outputId": "11c231cd-b3f8-42c1-c9e9-430e6312db01",
        "colab": {
          "base_uri": "https://localhost:8080/",
          "height": 187
        }
      },
      "source": [
        "processor.load_from_path(\"/content/zalo/Dataset/zalo\",\"test\")\n",
        "test = processor.test_data\n",
        "test_x = []\n",
        "test_y = []\n",
        "for d in test:\n",
        "  test_x.append(tokenizer.tokenize(d.get('question')) + \n",
        "               tokenizer.tokenize(d.get('text'))[1:])\n",
        "  test_y.append(str(d.get('label')))\n",
        "# evaluate the model\n",
        "model.evaluate(test_x, test_y)\n",
        "# print(\"loss: %f\\n accruracy: %f\\nf1_score: %f\\nprecision: %f\\n, recall: %f\\n:\" \n",
        "#       % (loss, accurany,f1_score,precision, recall))"
      ],
      "execution_count": 0,
      "outputs": [
        {
          "output_type": "stream",
          "text": [
            "100%|██████████| 688/688 [00:00<00:00, 164061.69it/s]\n"
          ],
          "name": "stderr"
        },
        {
          "output_type": "stream",
          "text": [
            "              precision    recall  f1-score   support\n",
            "\n",
            "       False     0.8960    0.8728    0.8842      3128\n",
            "        True     0.1367    0.1658    0.1498       380\n",
            "\n",
            "    accuracy                         0.7962      3508\n",
            "   macro avg     0.5163    0.5193    0.5170      3508\n",
            "weighted avg     0.8137    0.7962    0.8047      3508\n",
            "\n"
          ],
          "name": "stdout"
        }
      ]
    }
  ]
}