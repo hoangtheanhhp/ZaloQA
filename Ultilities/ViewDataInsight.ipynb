{
 "cells": [
  {
   "cell_type": "code",
   "execution_count": 133,
   "metadata": {},
   "outputs": [],
   "source": [
    "import pandas as pd\n",
    "import matplotlib.pyplot as plt\n",
    "from os import path\n",
    "from os import getcwd\n",
    "\n",
    "# baseDirectory = str(getcwd()).replace(\"\\\\\", \"/\")\n",
    "# dataFilePath = baseDirectory + \"\\..\\Dataset\\train.json\"\n",
    "dataFilePath = \"C:\\\\Users\\\\nguyen.tt1\\\\Downloads\\\\train.json\"\n",
    "\n",
    "data = pd.read_json(dataFilePath, encoding='utf8')\n",
    "\n",
    "totalQuestion = pd.DataFrame([\n",
    "    ['All Question', len(data)],\n",
    "    ['Questions can be answered', len(data[data['label'] == True])],\n",
    "    ['Questions can\\'t be answered', len(data[data['label'] == False])],\n",
    "], columns=['Total', '# Question'])\n",
    "\n",
    "data.insert(\n",
    "    len(data.columns),\n",
    "    'Question Length',\n",
    "    data['question'].apply(lambda p: len(p.split(' ')))\n",
    ")\n",
    "\n",
    "data.insert(\n",
    "    len(data.columns),\n",
    "    'Text Length',\n",
    "    data['text'].apply(lambda p: len(p.split(' ')))\n",
    ")\n",
    "\n",
    "def sentenceCount(string):\n",
    "    separators = ('?','!','.')\n",
    "    defaultSep = separators[0]\n",
    "    \n",
    "    for sep in separators[1:]:\n",
    "        string = string.replace(sep, defaultSep)\n",
    "    sentences = [i.strip() for i in string.split(defaultSep)]\n",
    "    if (sentences[-1] == ''):\n",
    "        return len(sentences) - 1\n",
    "    return len(sentences)\n",
    "\n",
    "data.insert(\n",
    "    len(data.columns),\n",
    "    '# Text Sentences',\n",
    "    data['text'].apply(lambda p: sentenceCount(p))\n",
    ")"
   ]
  },
  {
   "cell_type": "markdown",
   "metadata": {},
   "source": [
    "## The total # of questions, # of questions that can be answered & can't be answered"
   ]
  },
  {
   "cell_type": "code",
   "execution_count": 134,
   "metadata": {},
   "outputs": [
    {
     "data": {
      "text/html": [
       "<div>\n",
       "<style scoped>\n",
       "    .dataframe tbody tr th:only-of-type {\n",
       "        vertical-align: middle;\n",
       "    }\n",
       "\n",
       "    .dataframe tbody tr th {\n",
       "        vertical-align: top;\n",
       "    }\n",
       "\n",
       "    .dataframe thead th {\n",
       "        text-align: right;\n",
       "    }\n",
       "</style>\n",
       "<table border=\"1\" class=\"dataframe\">\n",
       "  <thead>\n",
       "    <tr style=\"text-align: right;\">\n",
       "      <th></th>\n",
       "      <th>Total</th>\n",
       "      <th># Question</th>\n",
       "    </tr>\n",
       "  </thead>\n",
       "  <tbody>\n",
       "    <tr>\n",
       "      <td>0</td>\n",
       "      <td>All Question</td>\n",
       "      <td>18108</td>\n",
       "    </tr>\n",
       "    <tr>\n",
       "      <td>1</td>\n",
       "      <td>Questions can be answered</td>\n",
       "      <td>5738</td>\n",
       "    </tr>\n",
       "    <tr>\n",
       "      <td>2</td>\n",
       "      <td>Questions can't be answered</td>\n",
       "      <td>12370</td>\n",
       "    </tr>\n",
       "  </tbody>\n",
       "</table>\n",
       "</div>"
      ],
      "text/plain": [
       "                         Total  # Question\n",
       "0                 All Question       18108\n",
       "1    Questions can be answered        5738\n",
       "2  Questions can't be answered       12370"
      ]
     },
     "execution_count": 134,
     "metadata": {},
     "output_type": "execute_result"
    }
   ],
   "source": [
    "totalQuestion"
   ]
  },
  {
   "cell_type": "markdown",
   "metadata": {},
   "source": [
    "## The distribution of question & paragraph length, max & min of question & paragraph length"
   ]
  },
  {
   "cell_type": "code",
   "execution_count": 135,
   "metadata": {},
   "outputs": [
    {
     "data": {
      "text/plain": [
       "count    18108.000000\n",
       "mean        10.067815\n",
       "std          3.100574\n",
       "min          3.000000\n",
       "25%          8.000000\n",
       "50%         10.000000\n",
       "75%         12.000000\n",
       "max         32.000000\n",
       "Name: Question Length, dtype: float64"
      ]
     },
     "execution_count": 135,
     "metadata": {},
     "output_type": "execute_result"
    }
   ],
   "source": [
    "data['Question Length'].describe()"
   ]
  },
  {
   "cell_type": "code",
   "execution_count": 136,
   "metadata": {},
   "outputs": [
    {
     "data": {
      "image/png": "[encoded data removed]",
      "text/plain": [
       "<Figure size 432x288 with 1 Axes>"
      ]
     },
     "metadata": {
      "needs_background": "light"
     },
     "output_type": "display_data"
    }
   ],
   "source": [
    "data['Question Length'].plot()\n",
    "plt.ylabel('Length')\n",
    "plt.show()"
   ]
  },
  {
   "cell_type": "code",
   "execution_count": 137,
   "metadata": {},
   "outputs": [
    {
     "data": {
      "text/plain": [
       "count    18108.000000\n",
       "mean        62.509057\n",
       "std         41.978409\n",
       "min          1.000000\n",
       "25%         34.000000\n",
       "50%         55.000000\n",
       "75%         78.000000\n",
       "max        594.000000\n",
       "Name: Text Length, dtype: float64"
      ]
     },
     "execution_count": 137,
     "metadata": {},
     "output_type": "execute_result"
    }
   ],
   "source": [
    "data['Text Length'].describe()"
   ]
  },
  {
   "cell_type": "code",
   "execution_count": 138,
   "metadata": {},
   "outputs": [
    {
     "data": {
      "image/png": "[encoded data removed]",
      "text/plain": [
       "<Figure size 432x288 with 1 Axes>"
      ]
     },
     "metadata": {
      "needs_background": "light"
     },
     "output_type": "display_data"
    }
   ],
   "source": [
    "data['Text Length'].plot()\n",
    "plt.ylabel('Length')\n",
    "plt.show()"
   ]
  },
  {
   "cell_type": "markdown",
   "metadata": {},
   "source": [
    "## The distribution, max & min of the # of sentences in the paragraph"
   ]
  },
  {
   "cell_type": "code",
   "execution_count": 139,
   "metadata": {},
   "outputs": [
    {
     "data": {
      "text/plain": [
       "count    18108.000000\n",
       "mean         2.474928\n",
       "std          1.898537\n",
       "min          1.000000\n",
       "25%          1.000000\n",
       "50%          2.000000\n",
       "75%          3.000000\n",
       "max         27.000000\n",
       "Name: # Text Sentences, dtype: float64"
      ]
     },
     "execution_count": 139,
     "metadata": {},
     "output_type": "execute_result"
    }
   ],
   "source": [
    "data['# Text Sentences'].describe()"
   ]
  },
  {
   "cell_type": "code",
   "execution_count": 140,
   "metadata": {},
   "outputs": [
    {
     "data": {
      "image/png": "[encoded data removed]",
      "text/plain": [
       "<Figure size 432x288 with 1 Axes>"
      ]
     },
     "metadata": {
      "needs_background": "light"
     },
     "output_type": "display_data"
    }
   ],
   "source": [
    "data['# Text Sentences'].plot()\n",
    "plt.ylabel('Number of Sentences')\n",
    "plt.show()"
   ]
  }
 ],
 "metadata": {
  "file_extension": ".py",
  "kernelspec": {
   "display_name": "Python 3",
   "language": "python",
   "name": "python3"
  },
  "language_info": {
   "codemirror_mode": {
    "name": "ipython",
    "version": 3
   },
   "file_extension": ".py",
   "mimetype": "text/x-python",
   "name": "python",
   "nbconvert_exporter": "python",
   "pygments_lexer": "ipython3",
   "version": "3.7.3"
  },
  "mimetype": "text/x-python",
  "name": "python",
  "npconvert_exporter": "python",
  "pygments_lexer": "ipython3",
  "version": 3
 },
 "nbformat": 4,
 "nbformat_minor": 4
}
